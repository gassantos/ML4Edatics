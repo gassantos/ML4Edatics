{
 "cells": [
  {
   "cell_type": "code",
   "execution_count": 1,
   "metadata": {
    "collapsed": true
   },
   "outputs": [],
   "source": [
    "import numpy as np"
   ]
  },
  {
   "cell_type": "code",
   "execution_count": 2,
   "metadata": {
    "collapsed": true
   },
   "outputs": [],
   "source": [
    "def linearRegCostFunction(theta, X, y, Lambda):\n",
    "    '''\n",
    "\n",
    "        theta = conjunto de pesos\n",
    "        X = características (features)\n",
    "        y = alvo (target)\n",
    "        Lambda = Taxa de regularização\n",
    "    '''\n",
    "    \n",
    "    m = y.size\n",
    "    H = X.dot(theta)\n",
    "    J = (1/(2*m)) * np.sum(np.square(H-y)) \n",
    "    Reg = (Lambda/(2*m)) * np.sum(np.square(theta))\n",
    "   \n",
    "    return J+Reg"
   ]
  },
  {
   "cell_type": "code",
   "execution_count": 3,
   "metadata": {
    "collapsed": true
   },
   "outputs": [],
   "source": [
    "def linearRegGradient(theta, X, y, Lambda):\n",
    "    '''\n",
    "\n",
    "        theta = conjunto de pesos\n",
    "        X = características (features)\n",
    "        y = alvo (target)\n",
    "        Lambda = Taxa de regularização\n",
    "    '''\n",
    "    \n",
    "    m = y.size\n",
    "    h = X.dot(theta.reshape(-1,1))\n",
    "    Reg = (Lambda/m)*np.r_[[[0]],theta[1:].reshape(-1,1)]\n",
    "    grad = (1/m)*(X.T.dot(h-y))+ Reg \n",
    "        \n",
    "    return grad.flatten()"
   ]
  }
 ],
 "metadata": {
  "kernelspec": {
   "display_name": "Python 3",
   "language": "python",
   "name": "python3"
  },
  "language_info": {
   "codemirror_mode": {
    "name": "ipython",
    "version": 3
   },
   "file_extension": ".py",
   "mimetype": "text/x-python",
   "name": "python",
   "nbconvert_exporter": "python",
   "pygments_lexer": "ipython3",
   "version": "3.6.1"
  }
 },
 "nbformat": 4,
 "nbformat_minor": 2
}
