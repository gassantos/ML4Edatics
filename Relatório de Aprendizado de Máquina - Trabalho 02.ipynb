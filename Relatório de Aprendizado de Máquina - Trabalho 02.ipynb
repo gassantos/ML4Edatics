{
 "cells": [
  {
   "cell_type": "markdown",
   "metadata": {},
   "source": [
    "# 1. Regressão Logística com Regularização"
   ]
  },
  {
   "cell_type": "markdown",
   "metadata": {},
   "source": [
    "Nesta parte do trabalho, será implementada a **_Regressão Logística Regularizada_**\n",
    "para prever se os microchips de uma usina de fabricação passam na garantia\n",
    "de qualidade (QA). Durante a QA, cada microchip passa por vários testes para\n",
    "garantir se está funcionando corretamente. Dessa forma, a Gestão de Produto da \n",
    "fábrica terá o resultados de teste para alguns microchips em dois testes diferentes. \n",
    "\n",
    "A partir desses dois testes, será determinado se os microchips deveriam ser \n",
    "aceitos ou rejeitados. Para auxiliar a tomar a decisão, há um conjunto de dados\n",
    "com resultados de testes anteriores sobre microchips, a partir do qual é possível construir\n",
    "um modelo de Regressão Logística.\n",
    "\n",
    "O arquivo **$ex2data2.txt$** contém os dados a serem usados nessa parte do trabalho. A primeira \n",
    "coluna corresponde aos resultados do primeiro teste, enquanto que a segunda coluna corresponde\n",
    "aos resultados do segundo teste. A terceira coluna contém os valores da classe (y = 0 significa \n",
    "rejeitado no teste, e y = 1 significa aceito no teste).\n",
    "\n",
    "## 1.1 Visualização dos Dados\n",
    "\n",
    "Para a maioria dos conjuntos de dados do mundo real, não é possível criar um gráfico para \n",
    "visualizar seus pontos. Mas, para o conjunto de dados fornecido, isso é possível. Implemente \n",
    "um script em _Python_ que produza um gráfico de dispersão (scatter plot) dos dados fornecidos. \n",
    "Após finalizado, seu script deve produzir um resultado similar ao apresentado na Figura abaixo.\n",
    "\n",
    "![ScatterPlot](scatter_plot2.jpg)\n"
   ]
  },
  {
   "cell_type": "markdown",
   "metadata": {
    "collapsed": true
   },
   "source": [
    "import os \n",
    "import pandas as pd\n",
    "import numpy as np\n",
    "import matplotlib as plt\n",
    "\n",
    "from numpy import loadtxt, zeros, ones, array, linspace, logspace\n",
    "from pylab import scatter, show, legend, xlabel, ylabel\n",
    "\n",
    "%matplotlib inline"
   ]
  },
  {
   "cell_type": "code",
   "execution_count": 49,
   "metadata": {},
   "outputs": [
    {
     "data": {
      "text/html": [
       "<div>\n",
       "<style>\n",
       "    .dataframe thead tr:only-child th {\n",
       "        text-align: right;\n",
       "    }\n",
       "\n",
       "    .dataframe thead th {\n",
       "        text-align: left;\n",
       "    }\n",
       "\n",
       "    .dataframe tbody tr th {\n",
       "        vertical-align: top;\n",
       "    }\n",
       "</style>\n",
       "<table border=\"1\" class=\"dataframe\">\n",
       "  <thead>\n",
       "    <tr style=\"text-align: right;\">\n",
       "      <th></th>\n",
       "      <th>QATest1</th>\n",
       "      <th>QATest2</th>\n",
       "      <th>QAcceptance</th>\n",
       "    </tr>\n",
       "  </thead>\n",
       "  <tbody>\n",
       "    <tr>\n",
       "      <th>0</th>\n",
       "      <td>0.051267</td>\n",
       "      <td>0.69956</td>\n",
       "      <td>1</td>\n",
       "    </tr>\n",
       "    <tr>\n",
       "      <th>1</th>\n",
       "      <td>-0.092742</td>\n",
       "      <td>0.68494</td>\n",
       "      <td>1</td>\n",
       "    </tr>\n",
       "    <tr>\n",
       "      <th>2</th>\n",
       "      <td>-0.213710</td>\n",
       "      <td>0.69225</td>\n",
       "      <td>1</td>\n",
       "    </tr>\n",
       "    <tr>\n",
       "      <th>3</th>\n",
       "      <td>-0.375000</td>\n",
       "      <td>0.50219</td>\n",
       "      <td>1</td>\n",
       "    </tr>\n",
       "    <tr>\n",
       "      <th>4</th>\n",
       "      <td>-0.513250</td>\n",
       "      <td>0.46564</td>\n",
       "      <td>1</td>\n",
       "    </tr>\n",
       "  </tbody>\n",
       "</table>\n",
       "</div>"
      ],
      "text/plain": [
       "    QATest1  QATest2  QAcceptance\n",
       "0  0.051267  0.69956            1\n",
       "1 -0.092742  0.68494            1\n",
       "2 -0.213710  0.69225            1\n",
       "3 -0.375000  0.50219            1\n",
       "4 -0.513250  0.46564            1"
      ]
     },
     "execution_count": 49,
     "metadata": {},
     "output_type": "execute_result"
    }
   ],
   "source": [
    "# Construindo um dataset com base num Dataframe, já identificando colunas e exibindo seus primeiros 20 registros.\n",
    "df = pd.read_csv('am-T2-dados/ex2data2.txt', names=['QATest1', 'QATest2', 'QAcceptance'])\n",
    "df.head()"
   ]
  },
  {
   "cell_type": "code",
   "execution_count": 34,
   "metadata": {},
   "outputs": [
    {
     "data": {
      "image/png": "[encoded data removed]",
      "text/plain": [
       "<matplotlib.figure.Figure at 0x116d862b0>"
      ]
     },
     "metadata": {},
     "output_type": "display_data"
    },
    {
     "data": {
      "image/png": "[encoded data removed]",
      "text/plain": [
       "<matplotlib.figure.Figure at 0x117058ac8>"
      ]
     },
     "metadata": {},
     "output_type": "display_data"
    }
   ],
   "source": [
    "# Visualização da Distribuição dos Dados conforme Histograma\n",
    "\n",
    "df.hist()\n",
    "plt.pyplot.show()\n",
    "\n",
    "df.QATest1.hist(), df.QATest2.hist(), df.QAcceptance.hist()\n",
    "plt.pyplot.show()"
   ]
  },
  {
   "cell_type": "code",
   "execution_count": 35,
   "metadata": {},
   "outputs": [
    {
     "data": {
      "text/html": [
       "<div>\n",
       "<style>\n",
       "    .dataframe thead tr:only-child th {\n",
       "        text-align: right;\n",
       "    }\n",
       "\n",
       "    .dataframe thead th {\n",
       "        text-align: left;\n",
       "    }\n",
       "\n",
       "    .dataframe tbody tr th {\n",
       "        vertical-align: top;\n",
       "    }\n",
       "</style>\n",
       "<table border=\"1\" class=\"dataframe\">\n",
       "  <thead>\n",
       "    <tr style=\"text-align: right;\">\n",
       "      <th></th>\n",
       "      <th>QATest1</th>\n",
       "      <th>QATest2</th>\n",
       "      <th>QAcceptance</th>\n",
       "    </tr>\n",
       "  </thead>\n",
       "  <tbody>\n",
       "    <tr>\n",
       "      <th>count</th>\n",
       "      <td>118.000000</td>\n",
       "      <td>118.000000</td>\n",
       "      <td>118.000000</td>\n",
       "    </tr>\n",
       "    <tr>\n",
       "      <th>mean</th>\n",
       "      <td>0.054779</td>\n",
       "      <td>0.183102</td>\n",
       "      <td>0.491525</td>\n",
       "    </tr>\n",
       "    <tr>\n",
       "      <th>std</th>\n",
       "      <td>0.496654</td>\n",
       "      <td>0.519743</td>\n",
       "      <td>0.502060</td>\n",
       "    </tr>\n",
       "    <tr>\n",
       "      <th>min</th>\n",
       "      <td>-0.830070</td>\n",
       "      <td>-0.769740</td>\n",
       "      <td>0.000000</td>\n",
       "    </tr>\n",
       "    <tr>\n",
       "      <th>25%</th>\n",
       "      <td>-0.372120</td>\n",
       "      <td>-0.254385</td>\n",
       "      <td>0.000000</td>\n",
       "    </tr>\n",
       "    <tr>\n",
       "      <th>50%</th>\n",
       "      <td>-0.006336</td>\n",
       "      <td>0.213455</td>\n",
       "      <td>0.000000</td>\n",
       "    </tr>\n",
       "    <tr>\n",
       "      <th>75%</th>\n",
       "      <td>0.478970</td>\n",
       "      <td>0.646562</td>\n",
       "      <td>1.000000</td>\n",
       "    </tr>\n",
       "    <tr>\n",
       "      <th>max</th>\n",
       "      <td>1.070900</td>\n",
       "      <td>1.108900</td>\n",
       "      <td>1.000000</td>\n",
       "    </tr>\n",
       "  </tbody>\n",
       "</table>\n",
       "</div>"
      ],
      "text/plain": [
       "          QATest1     QATest2  QAcceptance\n",
       "count  118.000000  118.000000   118.000000\n",
       "mean     0.054779    0.183102     0.491525\n",
       "std      0.496654    0.519743     0.502060\n",
       "min     -0.830070   -0.769740     0.000000\n",
       "25%     -0.372120   -0.254385     0.000000\n",
       "50%     -0.006336    0.213455     0.000000\n",
       "75%      0.478970    0.646562     1.000000\n",
       "max      1.070900    1.108900     1.000000"
      ]
     },
     "execution_count": 35,
     "metadata": {},
     "output_type": "execute_result"
    }
   ],
   "source": [
    "df.describe()"
   ]
  },
  {
   "cell_type": "code",
   "execution_count": 36,
   "metadata": {},
   "outputs": [
    {
     "data": {
      "text/plain": [
       "count    118.00\n",
       "mean       0.05\n",
       "std        0.50\n",
       "min       -0.83\n",
       "25%       -0.37\n",
       "50%       -0.01\n",
       "75%        0.48\n",
       "max        1.07\n",
       "Name: QATest1, dtype: float64"
      ]
     },
     "execution_count": 36,
     "metadata": {},
     "output_type": "execute_result"
    }
   ],
   "source": [
    "df.QATest1.describe().round(2)"
   ]
  },
  {
   "cell_type": "code",
   "execution_count": 37,
   "metadata": {},
   "outputs": [
    {
     "data": {
      "text/plain": [
       "count    118.00\n",
       "mean       0.18\n",
       "std        0.52\n",
       "min       -0.77\n",
       "25%       -0.25\n",
       "50%        0.21\n",
       "75%        0.65\n",
       "max        1.11\n",
       "Name: QATest2, dtype: float64"
      ]
     },
     "execution_count": 37,
     "metadata": {},
     "output_type": "execute_result"
    }
   ],
   "source": [
    "df.QATest2.describe().round(2)"
   ]
  },
  {
   "cell_type": "code",
   "execution_count": 38,
   "metadata": {},
   "outputs": [
    {
     "data": {
      "text/plain": [
       "count    118.00\n",
       "mean       0.49\n",
       "std        0.50\n",
       "min        0.00\n",
       "25%        0.00\n",
       "50%        0.00\n",
       "75%        1.00\n",
       "max        1.00\n",
       "Name: QAcceptance, dtype: float64"
      ]
     },
     "execution_count": 38,
     "metadata": {},
     "output_type": "execute_result"
    }
   ],
   "source": [
    "df.QAcceptance.describe().round(2)"
   ]
  },
  {
   "cell_type": "code",
   "execution_count": 39,
   "metadata": {},
   "outputs": [
    {
     "data": {
      "image/png": "[encoded data removed]",
      "text/plain": [
       "<matplotlib.figure.Figure at 0x11692e860>"
      ]
     },
     "metadata": {},
     "output_type": "display_data"
    }
   ],
   "source": [
    "# Gráfico de correlação entre População e Lucro\n",
    "positive = df[df['QAcceptance'].isin([1])]  \n",
    "negative = df[df['QAcceptance'].isin([0])]\n",
    "\n",
    "figura, grafico = plt.pyplot.subplots(figsize=(10,6))  \n",
    "grafico.scatter(positive['QATest1'], positive['QATest2'], c='xkcd:black', marker='+', label='Accepted')  \n",
    "grafico.scatter(negative['QATest1'], negative['QATest2'], c='xkcd:yellow', marker='o', label='Rejected')  \n",
    "grafico.legend()  \n",
    "grafico.set_xlabel('Microchip Test1')  \n",
    "grafico.set_ylabel('Microchip Test2');"
   ]
  },
  {
   "cell_type": "markdown",
   "metadata": {},
   "source": [
    "## 1.2 Mapeamento de características (_feature mapping_)\n",
    "\n",
    "Uma maneira de tornar os dados mais apropriados para a classificação é criar\n",
    "mais características a partir das já existentes. Para isso, você deve criar uma\n",
    "função **`mapFeature`**. Essa função deve ser implementada em um arquivo de\n",
    "nome **_`mapFeature.py`_**, que irá mapear as características para todos os termos\n",
    "polinomiais de x1 e x2, até a sexta potência. Como resultado desse mapeamento, nosso \n",
    "vetor de duas características (os escores nos dois testes de QA) será transformado \n",
    "em um **vetor de _28 dimensões_**.\n",
    "\n",
    "Um classificador que usa regressão logística treinado nesse vetor de características \n",
    "de maior dimensão terá uma fronteira de decisão mais complexa e parecerá não-linear \n",
    "quando desenhado em um gráfico bidimensional. \n",
    "\n",
    "Embora o mapeamento de características nos permita construir um classificador mais expressivo, \n",
    "também é mais suscetível a sobreajuste (overfitting). Desse modo, será implementada a \n",
    "**_Regressão Logística Regularizada_** sobre os dados fornecidos e também verá como a regularização pode \n",
    "ajudar a combater o problema do sobreajuste."
   ]
  },
  {
   "cell_type": "code",
   "execution_count": 50,
   "metadata": {
    "collapsed": true
   },
   "outputs": [],
   "source": [
    "dF = df"
   ]
  },
  {
   "cell_type": "code",
   "execution_count": 51,
   "metadata": {
    "collapsed": true
   },
   "outputs": [],
   "source": [
    "def mapFeature(X) :\n",
    "    '''\n",
    "    Função de mapeamento das características\n",
    "    '''\n",
    "    potencia = 6\n",
    "    Xf = X\n",
    "    \n",
    "    X1 = Xf['QATest1']  \n",
    "    X2 = Xf['QATest2']\n",
    "\n",
    "    Xf.insert(3, 'Ones', 1)\n",
    "\n",
    "    for i in range(potencia+1):  \n",
    "        for j in range(i):\n",
    "            Xf['F' + str(i) + str(j)] = np.power(X1, i-j) * np.power(X2, j)\n",
    "\n",
    "    #Xf.drop('QATest1', axis=1, inplace=True)  \n",
    "    #Xf.drop('QATest2', axis=1, inplace=True)\n",
    "\n",
    "    return Xf"
   ]
  },
  {
   "cell_type": "code",
   "execution_count": 52,
   "metadata": {},
   "outputs": [
    {
     "data": {
      "text/html": [
       "<div>\n",
       "<style>\n",
       "    .dataframe thead tr:only-child th {\n",
       "        text-align: right;\n",
       "    }\n",
       "\n",
       "    .dataframe thead th {\n",
       "        text-align: left;\n",
       "    }\n",
       "\n",
       "    .dataframe tbody tr th {\n",
       "        vertical-align: top;\n",
       "    }\n",
       "</style>\n",
       "<table border=\"1\" class=\"dataframe\">\n",
       "  <thead>\n",
       "    <tr style=\"text-align: right;\">\n",
       "      <th></th>\n",
       "      <th>QATest1</th>\n",
       "      <th>QATest2</th>\n",
       "      <th>QAcceptance</th>\n",
       "      <th>Ones</th>\n",
       "      <th>F10</th>\n",
       "      <th>F20</th>\n",
       "      <th>F21</th>\n",
       "      <th>F30</th>\n",
       "      <th>F31</th>\n",
       "      <th>F32</th>\n",
       "      <th>...</th>\n",
       "      <th>F51</th>\n",
       "      <th>F52</th>\n",
       "      <th>F53</th>\n",
       "      <th>F54</th>\n",
       "      <th>F60</th>\n",
       "      <th>F61</th>\n",
       "      <th>F62</th>\n",
       "      <th>F63</th>\n",
       "      <th>F64</th>\n",
       "      <th>F65</th>\n",
       "    </tr>\n",
       "  </thead>\n",
       "  <tbody>\n",
       "    <tr>\n",
       "      <th>count</th>\n",
       "      <td>118.000000</td>\n",
       "      <td>118.000000</td>\n",
       "      <td>118.000000</td>\n",
       "      <td>118.0</td>\n",
       "      <td>118.000000</td>\n",
       "      <td>118.000000</td>\n",
       "      <td>118.000000</td>\n",
       "      <td>1.180000e+02</td>\n",
       "      <td>118.000000</td>\n",
       "      <td>118.000000</td>\n",
       "      <td>...</td>\n",
       "      <td>118.000000</td>\n",
       "      <td>1.180000e+02</td>\n",
       "      <td>118.000000</td>\n",
       "      <td>1.180000e+02</td>\n",
       "      <td>1.180000e+02</td>\n",
       "      <td>118.000000</td>\n",
       "      <td>1.180000e+02</td>\n",
       "      <td>118.000000</td>\n",
       "      <td>1.180000e+02</td>\n",
       "      <td>118.000000</td>\n",
       "    </tr>\n",
       "    <tr>\n",
       "      <th>mean</th>\n",
       "      <td>0.054779</td>\n",
       "      <td>0.183102</td>\n",
       "      <td>0.491525</td>\n",
       "      <td>1.0</td>\n",
       "      <td>0.054779</td>\n",
       "      <td>0.247575</td>\n",
       "      <td>-0.025472</td>\n",
       "      <td>5.983333e-02</td>\n",
       "      <td>0.030682</td>\n",
       "      <td>0.015483</td>\n",
       "      <td>...</td>\n",
       "      <td>0.011812</td>\n",
       "      <td>9.432094e-03</td>\n",
       "      <td>0.018278</td>\n",
       "      <td>4.089084e-03</td>\n",
       "      <td>7.837118e-02</td>\n",
       "      <td>-0.000703</td>\n",
       "      <td>1.893340e-02</td>\n",
       "      <td>-0.001705</td>\n",
       "      <td>2.259170e-02</td>\n",
       "      <td>-0.006302</td>\n",
       "    </tr>\n",
       "    <tr>\n",
       "      <th>std</th>\n",
       "      <td>0.496654</td>\n",
       "      <td>0.519743</td>\n",
       "      <td>0.502060</td>\n",
       "      <td>0.0</td>\n",
       "      <td>0.496654</td>\n",
       "      <td>0.248532</td>\n",
       "      <td>0.224075</td>\n",
       "      <td>2.746459e-01</td>\n",
       "      <td>0.134706</td>\n",
       "      <td>0.150143</td>\n",
       "      <td>...</td>\n",
       "      <td>0.072274</td>\n",
       "      <td>5.455787e-02</td>\n",
       "      <td>0.058513</td>\n",
       "      <td>9.993907e-02</td>\n",
       "      <td>1.938621e-01</td>\n",
       "      <td>0.058271</td>\n",
       "      <td>3.430092e-02</td>\n",
       "      <td>0.037443</td>\n",
       "      <td>4.346935e-02</td>\n",
       "      <td>0.090621</td>\n",
       "    </tr>\n",
       "    <tr>\n",
       "      <th>min</th>\n",
       "      <td>-0.830070</td>\n",
       "      <td>-0.769740</td>\n",
       "      <td>0.000000</td>\n",
       "      <td>1.0</td>\n",
       "      <td>-0.830070</td>\n",
       "      <td>0.000040</td>\n",
       "      <td>-0.484096</td>\n",
       "      <td>-5.719317e-01</td>\n",
       "      <td>-0.358121</td>\n",
       "      <td>-0.483743</td>\n",
       "      <td>...</td>\n",
       "      <td>-0.246068</td>\n",
       "      <td>-1.592528e-01</td>\n",
       "      <td>-0.142660</td>\n",
       "      <td>-4.830370e-01</td>\n",
       "      <td>6.472253e-14</td>\n",
       "      <td>-0.203971</td>\n",
       "      <td>2.577297e-10</td>\n",
       "      <td>-0.113448</td>\n",
       "      <td>2.418097e-10</td>\n",
       "      <td>-0.482684</td>\n",
       "    </tr>\n",
       "    <tr>\n",
       "      <th>25%</th>\n",
       "      <td>-0.372120</td>\n",
       "      <td>-0.254385</td>\n",
       "      <td>0.000000</td>\n",
       "      <td>1.0</td>\n",
       "      <td>-0.372120</td>\n",
       "      <td>0.043243</td>\n",
       "      <td>-0.178209</td>\n",
       "      <td>-5.155632e-02</td>\n",
       "      <td>-0.023672</td>\n",
       "      <td>-0.042980</td>\n",
       "      <td>...</td>\n",
       "      <td>-0.001926</td>\n",
       "      <td>-3.659760e-03</td>\n",
       "      <td>-0.001400</td>\n",
       "      <td>-7.449462e-03</td>\n",
       "      <td>8.086369e-05</td>\n",
       "      <td>-0.006381</td>\n",
       "      <td>1.258285e-04</td>\n",
       "      <td>-0.005749</td>\n",
       "      <td>3.528590e-04</td>\n",
       "      <td>-0.016662</td>\n",
       "    </tr>\n",
       "    <tr>\n",
       "      <th>50%</th>\n",
       "      <td>-0.006336</td>\n",
       "      <td>0.213455</td>\n",
       "      <td>0.000000</td>\n",
       "      <td>1.0</td>\n",
       "      <td>-0.006336</td>\n",
       "      <td>0.165397</td>\n",
       "      <td>-0.016521</td>\n",
       "      <td>-2.544062e-07</td>\n",
       "      <td>0.006603</td>\n",
       "      <td>-0.000039</td>\n",
       "      <td>...</td>\n",
       "      <td>0.000205</td>\n",
       "      <td>-1.473547e-07</td>\n",
       "      <td>0.001026</td>\n",
       "      <td>-8.972096e-09</td>\n",
       "      <td>4.527344e-03</td>\n",
       "      <td>-0.000004</td>\n",
       "      <td>3.387050e-03</td>\n",
       "      <td>-0.000005</td>\n",
       "      <td>3.921378e-03</td>\n",
       "      <td>-0.000020</td>\n",
       "    </tr>\n",
       "    <tr>\n",
       "      <th>75%</th>\n",
       "      <td>0.478970</td>\n",
       "      <td>0.646562</td>\n",
       "      <td>1.000000</td>\n",
       "      <td>1.0</td>\n",
       "      <td>0.478970</td>\n",
       "      <td>0.389925</td>\n",
       "      <td>0.100795</td>\n",
       "      <td>1.099616e-01</td>\n",
       "      <td>0.086392</td>\n",
       "      <td>0.079510</td>\n",
       "      <td>...</td>\n",
       "      <td>0.019183</td>\n",
       "      <td>1.370560e-02</td>\n",
       "      <td>0.021148</td>\n",
       "      <td>2.751341e-02</td>\n",
       "      <td>5.932959e-02</td>\n",
       "      <td>0.002104</td>\n",
       "      <td>2.090875e-02</td>\n",
       "      <td>0.001024</td>\n",
       "      <td>2.103622e-02</td>\n",
       "      <td>0.001289</td>\n",
       "    </tr>\n",
       "    <tr>\n",
       "      <th>max</th>\n",
       "      <td>1.070900</td>\n",
       "      <td>1.108900</td>\n",
       "      <td>1.000000</td>\n",
       "      <td>1.0</td>\n",
       "      <td>1.070900</td>\n",
       "      <td>1.146827</td>\n",
       "      <td>0.568307</td>\n",
       "      <td>1.228137e+00</td>\n",
       "      <td>0.449251</td>\n",
       "      <td>0.505577</td>\n",
       "      <td>...</td>\n",
       "      <td>0.304409</td>\n",
       "      <td>2.451845e-01</td>\n",
       "      <td>0.287323</td>\n",
       "      <td>4.012965e-01</td>\n",
       "      <td>1.508320e+00</td>\n",
       "      <td>0.250577</td>\n",
       "      <td>2.018260e-01</td>\n",
       "      <td>0.183548</td>\n",
       "      <td>2.556084e-01</td>\n",
       "      <td>0.436209</td>\n",
       "    </tr>\n",
       "  </tbody>\n",
       "</table>\n",
       "<p>8 rows × 25 columns</p>\n",
       "</div>"
      ],
      "text/plain": [
       "          QATest1     QATest2  QAcceptance   Ones         F10         F20  \\\n",
       "count  118.000000  118.000000   118.000000  118.0  118.000000  118.000000   \n",
       "mean     0.054779    0.183102     0.491525    1.0    0.054779    0.247575   \n",
       "std      0.496654    0.519743     0.502060    0.0    0.496654    0.248532   \n",
       "min     -0.830070   -0.769740     0.000000    1.0   -0.830070    0.000040   \n",
       "25%     -0.372120   -0.254385     0.000000    1.0   -0.372120    0.043243   \n",
       "50%     -0.006336    0.213455     0.000000    1.0   -0.006336    0.165397   \n",
       "75%      0.478970    0.646562     1.000000    1.0    0.478970    0.389925   \n",
       "max      1.070900    1.108900     1.000000    1.0    1.070900    1.146827   \n",
       "\n",
       "              F21           F30         F31         F32     ...      \\\n",
       "count  118.000000  1.180000e+02  118.000000  118.000000     ...       \n",
       "mean    -0.025472  5.983333e-02    0.030682    0.015483     ...       \n",
       "std      0.224075  2.746459e-01    0.134706    0.150143     ...       \n",
       "min     -0.484096 -5.719317e-01   -0.358121   -0.483743     ...       \n",
       "25%     -0.178209 -5.155632e-02   -0.023672   -0.042980     ...       \n",
       "50%     -0.016521 -2.544062e-07    0.006603   -0.000039     ...       \n",
       "75%      0.100795  1.099616e-01    0.086392    0.079510     ...       \n",
       "max      0.568307  1.228137e+00    0.449251    0.505577     ...       \n",
       "\n",
       "              F51           F52         F53           F54           F60  \\\n",
       "count  118.000000  1.180000e+02  118.000000  1.180000e+02  1.180000e+02   \n",
       "mean     0.011812  9.432094e-03    0.018278  4.089084e-03  7.837118e-02   \n",
       "std      0.072274  5.455787e-02    0.058513  9.993907e-02  1.938621e-01   \n",
       "min     -0.246068 -1.592528e-01   -0.142660 -4.830370e-01  6.472253e-14   \n",
       "25%     -0.001926 -3.659760e-03   -0.001400 -7.449462e-03  8.086369e-05   \n",
       "50%      0.000205 -1.473547e-07    0.001026 -8.972096e-09  4.527344e-03   \n",
       "75%      0.019183  1.370560e-02    0.021148  2.751341e-02  5.932959e-02   \n",
       "max      0.304409  2.451845e-01    0.287323  4.012965e-01  1.508320e+00   \n",
       "\n",
       "              F61           F62         F63           F64         F65  \n",
       "count  118.000000  1.180000e+02  118.000000  1.180000e+02  118.000000  \n",
       "mean    -0.000703  1.893340e-02   -0.001705  2.259170e-02   -0.006302  \n",
       "std      0.058271  3.430092e-02    0.037443  4.346935e-02    0.090621  \n",
       "min     -0.203971  2.577297e-10   -0.113448  2.418097e-10   -0.482684  \n",
       "25%     -0.006381  1.258285e-04   -0.005749  3.528590e-04   -0.016662  \n",
       "50%     -0.000004  3.387050e-03   -0.000005  3.921378e-03   -0.000020  \n",
       "75%      0.002104  2.090875e-02    0.001024  2.103622e-02    0.001289  \n",
       "max      0.250577  2.018260e-01    0.183548  2.556084e-01    0.436209  \n",
       "\n",
       "[8 rows x 25 columns]"
      ]
     },
     "execution_count": 52,
     "metadata": {},
     "output_type": "execute_result"
    }
   ],
   "source": [
    "dfeature = mapFeature(dF)\n",
    "dfeature.describe()"
   ]
  },
  {
   "cell_type": "markdown",
   "metadata": {},
   "source": [
    "## 1.3 Função de custo e gradiente\n",
    "\n",
    "Agora, você deverá implementar o código para calcular **_a função de custo e\n",
    "o gradiente para a regressão logística regularizada_**. Crie um arquivo de nome\n",
    "costFunctionReg.py que contém uma função de nome costFunctionReg.py\n",
    "e que computa o custo e o gradiente. Lembre-se de que a função de custo\n",
    "regularizada na regressão logística é dada por:\n",
    "    \n",
    "$$J_{regularizado} = \\small \\underbrace{-\\frac{1}{m} \\sum\\limits_{i = 1}^{m} \\large{(}\\small y^{(i)}\\log\\left(x^{(i)}\\right) + (1-y^{(i)})\\log\\left(1- x^{(i)}\\right) \\large{)} }_\\text{Função de Custo} + \\underbrace{\\frac{\\lambda}{2m} \\sum\\limits_{j = 1}^{n}\\ {\\theta}_{j}^{2} }_\\text{Fator Regularização} $$\n",
    "    \n",
    "Depois de concluir a implementação da função **costFunctionReg**, você deve\n",
    "testar a corretude dela usando o valor inicial de ${\\theta}$ (inicializado todo com zeros).\n",
    "Você deve ver que o custo é de cerca de `0.693`.\n",
    "Porém, usando a função **costFunctionReg**, você agora deve computar os valores ótimos para ${\\theta}$."
   ]
  },
  {
   "cell_type": "code",
   "execution_count": null,
   "metadata": {
    "collapsed": true
   },
   "outputs": [],
   "source": [
    "def sigmoid(x):\n",
    "    '''\n",
    "    A função sigmoid\n",
    "    '''\n",
    "    g = np.array([x]).flatten()\n",
    "    s = 1 / (1 + np.exp(-g))\n",
    "    return s"
   ]
  },
  {
   "cell_type": "code",
   "execution_count": null,
   "metadata": {
    "collapsed": true
   },
   "outputs": [],
   "source": [
    "def costFunctionReg(theta, X, y, alpha): \n",
    "    '''\n",
    "    A versão do GD que acabamos de estudar é denominada *Batch gradienteient Descent*.\n",
    "    Em cada iteração do algoritmo, todo o conjunto de treinamento é utilizado.\n",
    "\n",
    "        X = características (features)\n",
    "        y = alvo (target)\n",
    "        alpha = taxa de aprendizado\n",
    "        regularizacao = Taxa de regularizacaoularização\n",
    "\n",
    "    '''\n",
    "    \n",
    "    m = y.size\n",
    "    H = sigmoid(X.dot(theta).T)\n",
    "    \n",
    "    J = (1/m) * np.sum( np.multiply(-y, np.log(H)) - np.multiply((1 - y), np.log(1 - H)) )\n",
    "    regularizacao = (alpha/2*m) * theta**2\n",
    "    \n",
    "    J_regular = J + regularizacao\n",
    "\n",
    "    parameters = theta.shape[1]\n",
    "    gradiente = np.zeros(parameters)\n",
    "    error = sigmoid(X * theta.T) - y\n",
    "\n",
    "    for i in range(parameters):\n",
    "        term = np.multiply(error, X[:,i])\n",
    "        if (i == 0):\n",
    "            gradiente[i] = np.sum(term)/m\n",
    "        else:\n",
    "            gradiente[i] = np.sum(term)/m + ((alpha/m) * theta[:,i])\n",
    "\n",
    "    return J, gradiente"
   ]
  },
  {
   "cell_type": "markdown",
   "metadata": {},
   "source": [
    "### 1.3.1 Testando a Função de Custo e o Gradiente"
   ]
  },
  {
   "cell_type": "code",
   "execution_count": null,
   "metadata": {
    "collapsed": true
   },
   "outputs": [],
   "source": [
    "# set X and y (remember from above that we moved the label to column 0)\n",
    "#df.QATest1\n",
    "#df.QATest2\n",
    "\n",
    "cols = df.shape[1]  \n",
    "X2 = df.iloc[:,2]  \n",
    "y2 = df.iloc[:,:2]\n",
    "\n",
    "# convert to numpy arrays and initalize the parameter array theta\n",
    "X2 = np.array(X2.values)  \n",
    "y2 = np.array(y2.values)  \n",
    "theta2 = np.zeros(11)\n",
    "\n",
    "learningRate = 0.01\n",
    "\n",
    "costFunctionReg(theta2, X2, y2, learningRate) "
   ]
  },
  {
   "cell_type": "markdown",
   "metadata": {},
   "source": [
    "## 1.4 Esboço da fronteira de decisão\n",
    "\n",
    "Nessa parte, você deve esboçar (plotar) a fronteira de decisão que foi aprendida\n",
    "para separar os exemplos positivos dos negativos. Crie uma arquivo de nome\n",
    "**``plotDecisionBoundary.py``**, para criar esse gráfico que traça o limite da decisão\n",
    "não-linear. Seu gráfico deve ser semelhante ao apresentado na **_Figura_** abaixo.\n",
    "\n",
    "![ScatterBoundaryPlot](scatter_boundary.jpg)"
   ]
  },
  {
   "cell_type": "code",
   "execution_count": 53,
   "metadata": {},
   "outputs": [
    {
     "ename": "TypeError",
     "evalue": "mapFeature() takes 1 positional argument but 2 were given",
     "output_type": "error",
     "traceback": [
      "\u001b[0;31m---------------------------------------------------------------------------\u001b[0m",
      "\u001b[0;31mTypeError\u001b[0m                                 Traceback (most recent call last)",
      "\u001b[0;32m<ipython-input-53-0de86676eaed>\u001b[0m in \u001b[0;36m<module>\u001b[0;34m()\u001b[0m\n\u001b[1;32m      7\u001b[0m \u001b[0;32mfor\u001b[0m \u001b[0mi\u001b[0m \u001b[0;32min\u001b[0m \u001b[0mrange\u001b[0m\u001b[0;34m(\u001b[0m\u001b[0mlen\u001b[0m\u001b[0;34m(\u001b[0m\u001b[0mu\u001b[0m\u001b[0;34m)\u001b[0m\u001b[0;34m)\u001b[0m\u001b[0;34m:\u001b[0m\u001b[0;34m\u001b[0m\u001b[0m\n\u001b[1;32m      8\u001b[0m     \u001b[0;32mfor\u001b[0m \u001b[0mj\u001b[0m \u001b[0;32min\u001b[0m \u001b[0mrange\u001b[0m\u001b[0;34m(\u001b[0m\u001b[0mlen\u001b[0m\u001b[0;34m(\u001b[0m\u001b[0mv\u001b[0m\u001b[0;34m)\u001b[0m\u001b[0;34m)\u001b[0m\u001b[0;34m:\u001b[0m\u001b[0;34m\u001b[0m\u001b[0m\n\u001b[0;32m----> 9\u001b[0;31m         \u001b[0mz\u001b[0m\u001b[0;34m[\u001b[0m\u001b[0mi\u001b[0m\u001b[0;34m,\u001b[0m \u001b[0mj\u001b[0m\u001b[0;34m]\u001b[0m \u001b[0;34m=\u001b[0m \u001b[0;34m(\u001b[0m\u001b[0mmapFeature\u001b[0m\u001b[0;34m(\u001b[0m\u001b[0marray\u001b[0m\u001b[0;34m(\u001b[0m\u001b[0mu\u001b[0m\u001b[0;34m[\u001b[0m\u001b[0mi\u001b[0m\u001b[0;34m]\u001b[0m\u001b[0;34m)\u001b[0m\u001b[0;34m,\u001b[0m \u001b[0marray\u001b[0m\u001b[0;34m(\u001b[0m\u001b[0mv\u001b[0m\u001b[0;34m[\u001b[0m\u001b[0mj\u001b[0m\u001b[0;34m]\u001b[0m\u001b[0;34m)\u001b[0m\u001b[0;34m)\u001b[0m\u001b[0;34m.\u001b[0m\u001b[0mdot\u001b[0m\u001b[0;34m(\u001b[0m\u001b[0marray\u001b[0m\u001b[0;34m(\u001b[0m\u001b[0mtheta\u001b[0m\u001b[0;34m)\u001b[0m\u001b[0;34m)\u001b[0m\u001b[0;34m)\u001b[0m\u001b[0;34m\u001b[0m\u001b[0m\n\u001b[0m\u001b[1;32m     10\u001b[0m \u001b[0;34m\u001b[0m\u001b[0m\n\u001b[1;32m     11\u001b[0m \u001b[0mz\u001b[0m \u001b[0;34m=\u001b[0m \u001b[0mz\u001b[0m\u001b[0;34m.\u001b[0m\u001b[0mT\u001b[0m\u001b[0;34m\u001b[0m\u001b[0m\n",
      "\u001b[0;31mTypeError\u001b[0m: mapFeature() takes 1 positional argument but 2 were given"
     ]
    }
   ],
   "source": [
    "\n",
    "\n",
    "#Plot Boundary\n",
    "u = linspace(-1, 1.5, 50)\n",
    "v = linspace(-1, 1.5, 50)\n",
    "z = np.zeros(shape=(len(u), len(v)))\n",
    "for i in range(len(u)):\n",
    "    for j in range(len(v)):\n",
    "        z[i, j] = (mapFeature(array(u[i]), array(v[j])).dot(array(theta)))\n",
    "\n",
    "z = z.T\n",
    "contour(u, v, z)\n",
    "title('lambda = %f' % l)\n",
    "xlabel('Microchip Test 1')\n",
    "ylabel('Microchip Test 2')\n",
    "legend(['y = 1', 'y = 0', 'Decision boundary'])\n",
    "show()\n",
    "\n",
    "\n",
    "\n",
    "\n",
    "#def plotDecisionBoundary(X, y, theta, alpha, iteracao):\n",
    "#    '''\n",
    "#    A versão do GD que acabamos de estudar é denominada *Batch Gradient Descent*.\n",
    "#    Em cada iteração do algoritmo, todo o conjunto de treinamento é utilizado.\n",
    "#\n",
    "#        X = características (features)\n",
    "#        y = alvo (target)\n",
    "#    '''\n",
    "#    \n",
    "#    u = linspace(-1, 1.5, 50)\n",
    "#    v = linspace(-1, 1.5, 50)\n",
    "#    z = zeros(shape=(len(u), len(v)))\n",
    "#    for i in range(len(u)):\n",
    "#        for j in range(len(v)):\n",
    "#            z[i, j] = (map_feature(array(u[i]), array(v[j])).dot(array(theta)))\n",
    "#\n",
    "#    z = z.T\n",
    "#    contour(u, v, z)\n",
    "#    title('lambda = %f' % l)\n",
    "#    xlabel('Microchip Test 1')\n",
    "#    ylabel('Microchip Test 2')\n",
    "#    legend(['y = 1', 'y = 0', 'Decision boundary'])\n",
    "#    show()"
   ]
  },
  {
   "cell_type": "markdown",
   "metadata": {},
   "source": [
    "# 2 Regressão Linear com Regularização"
   ]
  },
  {
   "cell_type": "markdown",
   "metadata": {
    "collapsed": true
   },
   "source": [
    "Na primeira metade desta parte, você implementará a regressão linear com regularização para prever a quantidade de água fluindo de uma barragem usando a mudança do nível da água em um reservatório. Na próxima metade, você realizará diagnósticos dos algoritmos de aprendizado por meio de depuração e irá examinar os efeitos de viés (_bias_) e da variância (_variance_).\n",
    "\n",
    "Você irá usar o dataset fornecido no arquivo **ex5data1.mat$^1$**. Nesse arquivo há registros históricos na mudança no nível da água, _x_, e da quantidade de água que sai da barragem, _y_. Este conjunto de dados é dividido em três partes:\n",
    " - Um conjunto de treinamento que seu modelo aprenderá em: _**X**_, _**y**_\n",
    " - Um conjunto de validação cruzada para determinar o parâmetro de regularizacão: _**Xval**_, _**yval**_\n",
    " - Um conjunto de testes para avaliar o desempenho. Estes são exemplos que seu modelo não irá usar durante o treino: _**Xtest**_, _**ytest**_\n",
    "\n",
    "Os nomes das variáveis contidas no arquivo **ex5data1.mat** são os seguintes: _X_, _Xtest_, _Xval_, _y_, _ytest_, _yval_. Você irá precisar desses nomes para carregar os dados do arquivo para usar em seus scripts em Python.\n",
    "\n",
    "_____________________________________\n",
    "$^1$ Arquivos com a extensão **_.mat_** são normalmente criados no **Octave** ou no **Matlab**. Para\n",
    "carregar esse arquivo no Python, você pode usar o procedimento descrito em <http://www.\n",
    "blogforbrains.com/blog/2014/9/6/loading-matlab-mat-data-in-python>"
   ]
  },
  {
   "cell_type": "code",
   "execution_count": 4,
   "metadata": {
    "collapsed": true
   },
   "outputs": [],
   "source": [
    "# Carregando o arquivo gerado pelo MATLAB\n",
    "\n",
    "import scipy.io\n",
    "dfile = scipy.io.loadmat('am-T2-dados/ex5data1.mat')"
   ]
  },
  {
   "cell_type": "code",
   "execution_count": null,
   "metadata": {},
   "outputs": [],
   "source": []
  },
  {
   "cell_type": "markdown",
   "metadata": {
    "collapsed": true
   },
   "source": [
    "## 2.1 Visualização dos Dados\n",
    "\n",
    "Você deve começar por produzir uma visualização do conjunto de dados de treinamento. O gráfico que você deve produzir deve ser similar ao apresentado na Figura abaixo:\n",
    "\n",
    "![scatter_trainning.jpg](scatter_trainning.jpg)\n",
    "\n",
    "\n",
    "### 2.2 Função de Custo de Regressão Linear Regularizada\n",
    "\n",
    "Lembre-se de que a regressão linear regularizada tem a seguinte função de custo:\n",
    "\n",
    "$$J_{regularizado} = \\small {\\frac{1}{2m} \\sum\\limits_{i = 1}^{m} \\large{(}\\small y^{(i)}\\log\\left(x^{(i)}\\right) + (1-y^{(i)})\\log\\left(1- x^{(2)}\\right) \\large{)} } + {\\frac{\\lambda}{2m} \\sum\\limits_{j = 1}^{n}\\ {\\theta}_{j}^{2} } $$\n",
    "\n",
    "Lembre-se de quê um hyperparâmetro que controla o grau de regularização (e assim, ajuda a prevenir o excesso de sobreajuste). O termo de regularização impõe uma penalidade sobre o custo total J**${\\theta}$**. Conforme as magnitudes dos parâmetros do modelo J aumentam, a penalização aumenta também. Note que você não deve regularizar o termo **${\\theta}$**.\n",
    "\n",
    "Sua tarefa é escrever uma função para calcular a função de custo da regressão linear regularizada. Você deve implementar esse código em um arquivo de nome ${linearRegCostFunction.py}$. Se possível, tente vetorizar seu código e evitar o uso de _loops_. Quando você tiver completado a implementação, verifique a corretude da sua função de custo usando ${\\theta}$ inicializado com (1, 1). Você deve esperar ver uma saída de _303.993_."
   ]
  },
  {
   "cell_type": "markdown",
   "metadata": {
    "collapsed": true
   },
   "source": [
    "## 2.3 Gradiente na regressão linear regularizada\n",
    "\n",
    "A derivada parcial do gradiente da função de custo da regressão linear regularizada é um vetor no qual o *j-ésimo* elemento é definido conforme a seguir:\n",
    "\n",
    "\n",
    "No arquivo $linearRegCostFunction.py$, adicione código para calcular o gradiente, Quando você tiver completado essa implementação, teste a corretude usando $theta$ inicializado em (1, 1). Você deve esperar ver um gradiente de (-15.30, 598.250)."
   ]
  },
  {
   "cell_type": "markdown",
   "metadata": {
    "collapsed": true
   },
   "source": [
    "## 2.4 Ajustando os parâmetros da regressão linear\n",
    "\n",
    "Nesta parte, use a função **linearRegCostFunction** para computar os valores ótimos para $\\theta$, mas sem usar regularização, i.e., defina $\\lambda$ = 0. Após isso, construa um gráfico para visualiar o modelo construído. Seu gráfico deve ser similar ao apresentado na Figura 4."
   ]
  },
  {
   "cell_type": "markdown",
   "metadata": {
    "collapsed": true
   },
   "source": [
    "# 3 Viés-Variância"
   ]
  },
  {
   "cell_type": "markdown",
   "metadata": {
    "collapsed": true
   },
   "source": [
    "Um conceito importante no Aprendizado de Máquina é o relacionamento entre o **viés (bias) e a variância (variance)** de um modelo de aprendizado. Modelos com viés elevado não são suficientemente complexos para os dados e tendem a sofrer de subajuste (underfitting), enquanto que modelos com alta variância tendem a sofrer de sobreajuste.\n",
    "\n",
    "Nesta parte do trabalho, você irá produzir gráficos dos erros de treinamento e teste na forma de curvas de aprendizado para diagnosticar problemas de **_viés-variância_**."
   ]
  },
  {
   "cell_type": "markdown",
   "metadata": {
    "collapsed": true
   },
   "source": [
    "## 3.1 Curvas de Aprendizado\n",
    "\n",
    "Agora voc^e implementar\u0013a c\u0013odigo para gerar as curvas de aprendizado que ser~ao \u0013uteis na depura\u0018c~ao de algoritmos de aprendizagem. Lembre-se de que uma curva de aprendizagem tra\u0018ca erros de treinamento e de valida\u0018c~ao cruzada\n",
    "como fun\u0018c~oes do tamanho do conjunto de treinamento. Crie um arquivo\n",
    "de nome learningCurve.py que deve conter uma fun\u0018c~ao (tamb\u0013em chamada\n",
    "learningCurve) que retorna um vetor de erros para o conjunto de treinamento\n",
    "e conjunto de valida\u0018c~ao cruzada.\n",
    "\n",
    "Para tra\u0018car a curva de aprendizado, precisamos de um conjunto de treinamento\n",
    "e valida\u0018c~ao cruzada erro para diferentes tamanhos de conjuntos de\n",
    "treinamento. Para obter diferentes tamanhos de conjuntos de treinamento,\n",
    "voc^e deve usar subconjuntos diferentes do conjunto de treinamento original X.\n",
    "Especi\f",
    "camente, para um tamanho de conjunto de treinamento de i, voc^e deve\n",
    "usar os primeiros exemplos de i (ou seja, X(1 : i; :) e y(1 : i)).\n",
    "\n",
    "Para cada tamanho de conjunto de treinamento, voc^e encontrar os par^ametros\n",
    "\u0012. Note que o lambda deve ser passado como um par^ametro para a fun\u0018c~ao\n",
    "learningCurve. Depois de aprender os par^ametros \u0012, voc^e deve calcular o\n",
    "erro nos conjuntos de treinamento e de valida\u0018c~ao. Lembre-se de que o erro de\n",
    "treinamento para um conjunto de dados \u0013e de\f",
    "nido como:\n",
    "\n",
    "Em particular, note que o erro de treinamento n~ao inclui o termo de regulariza\n",
    "\u0018c~ao. Uma maneira de calcular o erro de treinamento \u0013e usar a sua fun\u0018c~ao\n",
    "de custo j\u0013a implementada e de\f",
    "nir \u0015 = 0 apenas para calcular o erro de treinamento\n",
    "e o erro de valida\u0018c~ao cruzada. Quando voc^e estiver computando o\n",
    "erro no conjunto de treinamento, certi\f",
    "que-se de comput\u0013a-lo no subconjunto\n",
    "de treinamento (ou seja, X(1 : n; :) e y(1 : n)), em vez de usar todo o conjunto\n",
    "de treinamento). No entanto, para o erro de valida\u0018c~ao cruzada, voc^e deve calcul\n",
    "\u0013a-lo usando todo o conjunto de valida\u0018c~ao cruzada. Voc^e deve armazenar os erros calculados em dois vetores.\n",
    "Quando voc^e estiver terminado o que foi descrito acima, imprima as curvas\n",
    "de aprendizado e produza um gr\u0013a\f",
    "co similar ao apresentado na Figura 5.\n",
    "\n",
    "![plot_linear.jpg](plot_linear.jpg)\n",
    "\n",
    "Na curva que voc^e ir\u0013a produzir, voc^e poder\u0013a observar que os erros de treinamento\n",
    "e de valida\u0018c~ao cruzada s~ao ambos altos quando o n\u0013umero de exemplos\n",
    "de treinamento \u0013e aumentado. Isso re\n",
    "ete o vi\u0013es alto do modelo (o modelo de\n",
    "regress~ao linear \u0013e muito simples e n~ao consegue se ajustear bem ao conjunto\n",
    "de dados). Na pr\u0013oxima se\u0018c~ao, voc^e ir\u0013a implementar regress~ao polinomial para\n",
    "ajustar um modelo melhor a este conjunto de dados.\n"
   ]
  },
  {
   "cell_type": "markdown",
   "metadata": {},
   "source": [
    "# 4 Regressão Polinomial"
   ]
  },
  {
   "cell_type": "markdown",
   "metadata": {
    "collapsed": true
   },
   "source": [
    "O problema com nosso modelo linear \u0013e que ele \u0013e muito simples para os dados e\n",
    "resultou em subajuste (vi\u0013es alto). Nesta parte, voc^e ir\u0013a resolver esse problema\n",
    "adicionando mais caracter\u0013\u0010sticas. Para usar a regress~ao polinomial, de\f",
    "na uma\n",
    "hip\u0013otese da seguinte forma"
   ]
  },
  {
   "cell_type": "markdown",
   "metadata": {
    "collapsed": true
   },
   "source": [
    "# 5 Regressão Polinomial - aprendizado"
   ]
  },
  {
   "cell_type": "markdown",
   "metadata": {
    "collapsed": true
   },
   "source": [
    "Depois de ter completado $polyFeatures.py$, você deve treinar um modelo de regressão polinomial usando sua função de custo da regressão linear. Tenha em mente que, apesar de termos termos polinomiais no vector de características, ainda estamos resolvendo um problema de otimização de regressão linear. Os termos polinomiais simplesmente se transformaram em características que podemos usar para aplicar regressão linear. Estamos usando a mesma função de custo e gradiente que você implementou para a parte anterior deste trabalho.\n",
    "\n",
    "Para esta parte do trabalho, você usará um polinômio de grau 8. Se executarmos o treinamento diretamente sobre os dados projetados, não iremos obter um bom resultado, porque as características não irão estar na mesma escala (por exemplo, um exemplo com x = 40 agora terá uma característica $xˆ8 = 40ˆ8 = 6.5 x 10ˆ1 2$). \n",
    "\n",
    "Portanto, você vai precisar aplicar a normalização de características. Portanto, antes de aprender os parâmetros $\\theta$ para a regressão polinomial, você deve normalizar as características do conjunto de treinamento, e armazenar os parâmetros $\\ho$ e $\\sigma$. Depois de aprender os parâmetros $\\theta$, você deve ver gerar dois gráficos (que devem ser similares aos das Figuras 6 e 7) gerados com a regressão polinomial com $\\lambda$ = 0.\n",
    "\n",
    "![plot_polinomial.jpg](plot_polinomial.jpg)\n",
    "\n",
    "Da Figura 6, voc^e deve perceber que o polin^omio pode se ajustar aos pontos de dados muito bem - assim, obtendo um baixo erro de treinamento. No entanto, o polin^omio \u0013e muito complexo e at\u0013e mesmo despenca nos extremos. Isso \u0013e um indicador de que o modelo de regress~ao polinomial est\u0013a se ajustando demasiadamente aos dados de treinamento e que n~ao ir\u0013a generalizar bem. \n",
    "\n",
    "![plot_curva_aprendizado.jpg](plot_curva_aprendizado.jpg)\n",
    "\n",
    "Para entender melhor os problemas com o modelo n~ao regularizado (\u0015 = 0), voc^e pode ver que a curva de aprendizado (Figura 7) apresenta erro de treinamento baixo, mas erro de valida\u0018c~ao alto. H\u0013a uma lacuna entre os erros de treinamento e valida\u0018c~ao cruzada, indicando um problema de vari^ancia alta."
   ]
  },
  {
   "cell_type": "markdown",
   "metadata": {},
   "source": [
    "# 6 Tarefas adicionais (OPCIONAIS)"
   ]
  },
  {
   "cell_type": "markdown",
   "metadata": {},
   "source": [
    " - Ajuste do par^ametro de regulariza\u0018c~ao. Teste o aprendizado para diferentes valores de lambda, 1 \u0014 \u0015 \u0014 100. Para \u0015 = 1, voc^e deve ver o polin^omio segue a tend^encia de dados bem (Figura 6) e uma curva de aprendizado (Figura 7) mostrando que tanto o erro de valida\u0018c~ao quanto o erro de treinamento convergem para um valor relativamente baixo. Isso mostra que o modelo de regress~ao polinomial regularizado com \u0015 = 1 n~ao sofre dos problema de vi\u0013es alto ou de vari^ancia alta. De fato, esse modelo alcan\u0018ca um bom compromisso entre vi\u0013es e vari^ancia. Para \u0015 = 100, voc^e deve ver um polin^omio (Figura 8) que n~ao segue os dados bem. Neste caso, h\u0013a muita regulariza\u0018c~ao, e o modelo \u0013e incapaz de se ajustar aos dados de treinamento.\n",
    "\n",
    " - De\f",
    "na o valor de \u0015 usando o conjunto de valida\u0018c~ao. Implemente um m\u0013etodo automatizado para selecionar o par^ametro \u0015. Concretamente, use um conjunto de valida\u0018c~ao cruzada para avaliar qu~ao bom \u0013e cada valor de \u0015. Tente valores de \u0015 no intervalo f0; 0:001; 0:003; 0:01; 0:03; 0:1; 0:3; 1; 3; 10g. Ao realizar essa tarefa, voc^e deve encontrar um valor adequado de \u0015 en torno de 3 (veja a Figura 8).\n",
    "\n",
    " - Depois de selecionar o melhor valor de \u0015 usando o conjunto de valida\u0018c~ao, voc^e pode ent~ao avaliar o modelo no conjunto de teste para estimar o qu~ao bem ele ser\u0013a executado em dados reais n~ao vistos.\n",
    " \n",
    "![plot_lambda.jpg](plot_lambda.jpg)"
   ]
  },
  {
   "cell_type": "markdown",
   "metadata": {
    "collapsed": true
   },
   "source": [
    "# 7 O que deve ser entregue\n",
    "\n",
    "Voc^e deve preparar um \u0013unico relat\u0013orio para a apresentar sua an\u0013alise e conclus~oes\n",
    "sobre as diversas partes desse trabalho. O formato desse relat\u0013orio deve ser em\n",
    "PDF. Alternativamente \u0012a entrega do relat\u0013orio em PDF, voc^e pode entregar um\n",
    "notebook Jupyter2.\n",
    "\n",
    "Independente de escolher entregar um relat\u0013orio em PDF ou na forma de\n",
    "um notebook Jupyter, entregue tamb\u0013em todos os arquivos em Python que voc^e\n",
    "criou para cada parte deste trabalho. Todos os arquivos em Python deve estar\n",
    "em uma \u0013unica pasta.\n",
    "\n",
    "Crie um arquivo compactado que cont\u0013em o relat\u0013orio (ou notebook Jupyter)\n",
    "e os arquivos (scripts) em Python. Esse arquivo compactado deve se chamar\n",
    "SEU NOME COMPLETO T1.zip. Esse arquivo compactado deve ser entregue pelo\n",
    "Moodle, até a data acordada."
   ]
  },
  {
   "cell_type": "code",
   "execution_count": null,
   "metadata": {
    "collapsed": true
   },
   "outputs": [],
   "source": []
  },
  {
   "cell_type": "markdown",
   "metadata": {},
   "source": [
    "## APENDICE\n",
    "\n",
    "The standard way to avoid overfitting is called **L2 regularization**. It consists of appropriately modifying your cost function, from:\n",
    "$$J = -\\frac{1}{m} \\sum\\limits_{i = 1}^{m} \\large{(}\\small  y^{(i)}\\log\\left(a^{[L](i)}\\right) + (1-y^{(i)})\\log\\left(1- a^{[L](i)}\\right) \\large{)} \\tag{1}$$\n",
    "To:\n",
    "$$J_{regularized} = \\small \\underbrace{-\\frac{1}{m} \\sum\\limits_{i = 1}^{m} \\large{(}\\small y^{(i)}\\log\\left(a^{[L](i)}\\right) + (1-y^{(i)})\\log\\left(1- a^{[L](i)}\\right) \\large{)} }_\\text{cross-entropy cost} + \\underbrace{\\frac{1}{m} \\frac{\\lambda}{2} \\sum\\limits_l\\sum\\limits_k\\sum\\limits_j W_{k,j}^{[l]2} }_\\text{L2 regularization cost} \\tag{2}$$\n",
    "\n",
    "Let's modify your cost and observe the consequences.\n",
    "\n",
    "**Exercise**: Implement `compute_cost_with_regularization()` which computes the cost given by formula (2). To calculate $\\sum\\limits_k\\sum\\limits_j W_{k,j}^{[l]2}$  , use :\n",
    "```python\n",
    "np.sum(np.square(Wl))\n",
    "```\n",
    "Note that you have to do this for $W^{[1]}$, $W^{[2]}$ and $W^{[3]}$, then sum the three terms and multiply by $ \\frac{1}{m} \\frac{\\lambda}{2} $."
   ]
  },
  {
   "cell_type": "code",
   "execution_count": null,
   "metadata": {
    "collapsed": true
   },
   "outputs": [],
   "source": []
  }
 ],
 "metadata": {
  "kernelspec": {
   "display_name": "Python 3",
   "language": "python",
   "name": "python3"
  },
  "language_info": {
   "codemirror_mode": {
    "name": "ipython",
    "version": 3
   },
   "file_extension": ".py",
   "mimetype": "text/x-python",
   "name": "python",
   "nbconvert_exporter": "python",
   "pygments_lexer": "ipython3",
   "version": "3.6.1"
  }
 },
 "nbformat": 4,
 "nbformat_minor": 2
}
