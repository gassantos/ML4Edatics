{
 "cells": [
  {
   "cell_type": "markdown",
   "metadata": {},
   "source": [
    "# 1. Regressão Logística com Regularização\n",
    "\n",
    "Nesta parte do trabalho, será implementada a **_Regressão Logística Regularizada_**\n",
    "para prever se os microchips de uma usina de fabricação passam na garantia\n",
    "de qualidade (QA). Durante a QA, cada microchip passa por vários testes para\n",
    "garantir se está funcionando corretamente. Dessa forma, a Gestão de Produto da \n",
    "fábrica terá o resultados de teste para alguns microchips em dois testes diferentes. \n",
    "\n",
    "A partir desses dois testes, será determinado se os microchips deveriam ser \n",
    "aceitos ou rejeitados. Para auxiliar a tomar a decisão, há um conjunto de dados\n",
    "com resultados de testes anteriores sobre microchips, a partir do qual é possível construir\n",
    "um modelo de Regressão Logística.\n",
    "\n",
    "O arquivo {ex2data2.txt} contém os dados a serem usados nessa parte do trabalho. A primeira \n",
    "coluna corresponde aos resultados do primeiro teste, enquanto que a segunda coluna corresponde\n",
    "aos resultados do segundo teste. A terceira coluna contém os valores da classe (y = 0 significa \n",
    "rejeitado no teste, e y = 1 significa aceito no teste).\n",
    "\n",
    "## 1.1 Visualização dos Dados\n",
    "\n",
    "Para a maioria dos conjuntos de dados do mundo real, não é possível criar um gráfico para \n",
    "visualizar seus pontos. Mas, para o conjunto de dados fornecido, isso é possível. Implemente \n",
    "um script em _Python_ que produza um gráfico de dispersão (scatter plot) dos dados fornecidos. \n",
    "Após finalizado, seu script deve produzir um resultado similar ao apresentado na Figura abaixo.\n",
    "\n",
    "![ScatterPlot](scatter_plot2.jpg)\n"
   ]
  },
  {
   "cell_type": "code",
   "execution_count": 60,
   "metadata": {
    "collapsed": true
   },
   "outputs": [],
   "source": [
    "import os \n",
    "import pandas as pd\n",
    "import numpy as np\n",
    "import matplotlib as plt\n",
    "\n",
    "%matplotlib inline\n",
    "\n",
    "# Carregando o arquivo gerado pelo MATLAB\n",
    "#import scipy.io\n",
    "#mat = scipy.io.loadmat('file.mat')"
   ]
  },
  {
   "cell_type": "code",
   "execution_count": 61,
   "metadata": {},
   "outputs": [],
   "source": [
    "# Construindo um dataset com base num Dataframe, já identificando colunas e exibindo seus primeiros 20 registros.\n",
    "df = pd.read_csv('am-T2-dados/ex2data2.txt', names=['QATest1', 'QATest2', 'QAcceptance'])\n",
    "df.head()"
   ]
  },
  {
   "cell_type": "code",
   "execution_count": 62,
   "metadata": {},
   "outputs": [
    {
     "data": {
      "image/png": "[encoded data removed]",
      "text/plain": [
       "<matplotlib.figure.Figure at 0x1104f7fd0>"
      ]
     },
     "metadata": {},
     "output_type": "display_data"
    },
    {
     "data": {
      "image/png": "[encoded data removed]",
      "text/plain": [
       "<matplotlib.figure.Figure at 0x1104f72b0>"
      ]
     },
     "metadata": {},
     "output_type": "display_data"
    }
   ],
   "source": [
    "# Visualização da Distribuição dos Dados conforme Histograma\n",
    "\n",
    "df.hist()\n",
    "plt.pyplot.show()\n",
    "\n",
    "df.QATest1.hist(), df.QATest2.hist(), df.QAcceptance.hist()\n",
    "plt.pyplot.show()"
   ]
  },
  {
   "cell_type": "code",
   "execution_count": 59,
   "metadata": {},
   "outputs": [
    {
     "data": {
      "text/plain": [
       "count    118.00\n",
       "mean       0.05\n",
       "std        0.50\n",
       "min       -0.83\n",
       "25%       -0.37\n",
       "50%       -0.01\n",
       "75%        0.48\n",
       "max        1.07\n",
       "Name: QATest1, dtype: float64"
      ]
     },
     "execution_count": 59,
     "metadata": {},
     "output_type": "execute_result"
    }
   ],
   "source": [
    "df.QATest1.describe().round(2)"
   ]
  },
  {
   "cell_type": "code",
   "execution_count": 51,
   "metadata": {},
   "outputs": [
    {
     "data": {
      "text/plain": [
       "count    118.00\n",
       "mean       0.18\n",
       "std        0.52\n",
       "min       -0.77\n",
       "25%       -0.25\n",
       "50%        0.21\n",
       "75%        0.65\n",
       "max        1.11\n",
       "Name: QATest2, dtype: float64"
      ]
     },
     "execution_count": 51,
     "metadata": {},
     "output_type": "execute_result"
    }
   ],
   "source": [
    "df.QATest2.describe().round(2)"
   ]
  },
  {
   "cell_type": "code",
   "execution_count": 52,
   "metadata": {},
   "outputs": [
    {
     "data": {
      "text/plain": [
       "count    118.00\n",
       "mean       0.49\n",
       "std        0.50\n",
       "min        0.00\n",
       "25%        0.00\n",
       "50%        0.00\n",
       "75%        1.00\n",
       "max        1.00\n",
       "Name: QAcceptance, dtype: float64"
      ]
     },
     "execution_count": 52,
     "metadata": {},
     "output_type": "execute_result"
    }
   ],
   "source": [
    "df.QAcceptance.describe().round(2)"
   ]
  },
  {
   "cell_type": "code",
   "execution_count": 75,
   "metadata": {},
   "outputs": [
    {
     "data": {
      "image/png": "[encoded data removed]",
      "text/plain": [
       "<matplotlib.figure.Figure at 0x1102715c0>"
      ]
     },
     "metadata": {},
     "output_type": "display_data"
    }
   ],
   "source": [
    "# Gráfico de correlação entre População e Lucro\n",
    "\n",
    "positive = df[df['QAcceptance'].isin([1])]  \n",
    "negative = df[df['QAcceptance'].isin([0])]\n",
    "\n",
    "figura, grafico = plt.pyplot.subplots(figsize=(10,6))  \n",
    "grafico.scatter(positive['QATest1'], positive['QATest2'], c='xkcd:black', marker='+', label='Accepted')  \n",
    "grafico.scatter(negative['QATest1'], negative['QATest2'], c='xkcd:yellow', marker='o', label='Rejected')  \n",
    "grafico.legend()  \n",
    "grafico.set_xlabel('Microchip Test1')  \n",
    "grafico.set_ylabel('Microchip Test2');"
   ]
  },
  {
   "cell_type": "markdown",
   "metadata": {},
   "source": [
    "## 1.2 Mapeamento de características (_feature mapping_)\n",
    "\n",
    "Uma maneira de tornar os dados mais apropriados para a classificação é criar\n",
    "mais características a partir das já existentes. Para isso, você deve criar uma\n",
    "função mapFeature. essas função deve ser implementada em um arquivo de\n",
    "nome mapFeature.py, que irá mapear as características para todos os termos\n",
    "polinomiais de x1 e x2, até a sexta potência.\n",
    "\n",
    "Como resultado desse mapeamento, nosso vetor de duas características (os\n",
    "escores em dois testes de QA) será transformado em um **vetor de _28 dimensões_**.\n",
    "Um classificador que usa regressão logística treinado nesse vetor de características \n",
    "de maior dimensão terá uma fronteira de decisão mais complexa e parecerá não-linear \n",
    "quando desenhado em um gráfico bidimensional. Embora o mapeamento de características \n",
    "nos permita construir um classificador mais expressivo, também é mais suscetível a \n",
    "sobreajuste (overfitting). Nas próximas partes do exercício, você implementará a \n",
    "**_Regressão Logística Regularizada_** sobre os dados fornecidos e também verá \n",
    "como a regularização pode ajudar a combater o problema do sobreajuste."
   ]
  },
  {
   "cell_type": "code",
   "execution_count": 66,
   "metadata": {
    "collapsed": true
   },
   "outputs": [],
   "source": [
    "def mapFeature(X) :\n",
    "    '''\n",
    "    Função de mapeamento das características\n",
    "    '''\n",
    "    \n",
    "    degree = 5  \n",
    "    x1 = df['Test 1']  \n",
    "    x2 = df['Test 2']\n",
    "\n",
    "    df.insert(3, 'Ones', 1)\n",
    "\n",
    "    for i in range(1, degree):  \n",
    "        for j in range(0, i):\n",
    "            df['F' + str(i) + str(j)] = np.power(x1, i-j) * np.power(x2, j)\n",
    "\n",
    "    df.drop('Test 1', axis=1, inplace=True)  \n",
    "    df.drop('Test 2', axis=1, inplace=True)\n",
    "\n",
    "    return df"
   ]
  },
  {
   "cell_type": "code",
   "execution_count": 70,
   "metadata": {},
   "outputs": [
    {
     "data": {
      "text/html": [
       "<div>\n",
       "<style>\n",
       "    .dataframe thead tr:only-child th {\n",
       "        text-align: right;\n",
       "    }\n",
       "\n",
       "    .dataframe thead th {\n",
       "        text-align: left;\n",
       "    }\n",
       "\n",
       "    .dataframe tbody tr th {\n",
       "        vertical-align: top;\n",
       "    }\n",
       "</style>\n",
       "<table border=\"1\" class=\"dataframe\">\n",
       "  <thead>\n",
       "    <tr style=\"text-align: right;\">\n",
       "      <th></th>\n",
       "      <th>Accepted</th>\n",
       "      <th>Ones</th>\n",
       "    </tr>\n",
       "  </thead>\n",
       "  <tbody>\n",
       "    <tr>\n",
       "      <th>0</th>\n",
       "      <td>1</td>\n",
       "      <td>1</td>\n",
       "    </tr>\n",
       "    <tr>\n",
       "      <th>1</th>\n",
       "      <td>1</td>\n",
       "      <td>1</td>\n",
       "    </tr>\n",
       "    <tr>\n",
       "      <th>2</th>\n",
       "      <td>1</td>\n",
       "      <td>1</td>\n",
       "    </tr>\n",
       "    <tr>\n",
       "      <th>3</th>\n",
       "      <td>1</td>\n",
       "      <td>1</td>\n",
       "    </tr>\n",
       "    <tr>\n",
       "      <th>4</th>\n",
       "      <td>1</td>\n",
       "      <td>1</td>\n",
       "    </tr>\n",
       "  </tbody>\n",
       "</table>\n",
       "</div>"
      ],
      "text/plain": [
       "   Accepted  Ones\n",
       "0         1     1\n",
       "1         1     1\n",
       "2         1     1\n",
       "3         1     1\n",
       "4         1     1"
      ]
     },
     "execution_count": 70,
     "metadata": {},
     "output_type": "execute_result"
    }
   ],
   "source": [
    "degree = 5  \n",
    "x1 = data2['Test 1']  \n",
    "x2 = data2['Test 2']\n",
    "\n",
    "data2.insert(3, 'Ones', 1)\n",
    "\n",
    "for i in range(1, degree):  \n",
    "    for j in range(0, i):\n",
    "        df['X' + str(i) + str(j)] = np.power(x1, i-j) * np.power(x2, j)\n",
    "\n",
    "data2.drop('Test 1', axis=1, inplace=True)  \n",
    "data2.drop('Test 2', axis=1, inplace=True)\n",
    "\n",
    "data2.head()"
   ]
  },
  {
   "cell_type": "code",
   "execution_count": null,
   "metadata": {
    "collapsed": true
   },
   "outputs": [],
   "source": []
  },
  {
   "cell_type": "markdown",
   "metadata": {},
   "source": [
    "## 1.3 Função de custo e gradiente\n",
    "\n",
    "Agora, você deverá implementar o código para calcular **_a função de custo e\n",
    "o gradiente para a regressão logística regularizada_**. Crie um arquivo de nome\n",
    "costFunctionReg.py que contém uma função de nome costFunctionReg.py\n",
    "e que computa o custo e o gradiente. Lembre-se de que a função de custo\n",
    "regularizada na regressão logística é dada por:\n",
    "    \n",
    "    \n",
    "Depois de concluir a implementação da função **costFunctionReg**, você deve\n",
    "testar a corretude dela usando o valor inicial de ø (inicializado todo com zeros).\n",
    "Você deve ver que o custo é de cerca de 0.693.\n",
    "Porém, usando a função **costFunctionReg**, você agora deve computar os valores ótimos para ø."
   ]
  },
  {
   "cell_type": "code",
   "execution_count": 72,
   "metadata": {
    "collapsed": true
   },
   "outputs": [],
   "source": [
    "def sigmoid(x):\n",
    "    '''\n",
    "    A função sigmoid\n",
    "    '''\n",
    "    #g = np.array([x]).flatten()\n",
    "    s = 1 / (1 + np.exp(-g))\n",
    "    return s"
   ]
  },
  {
   "cell_type": "code",
   "execution_count": 73,
   "metadata": {
    "collapsed": true
   },
   "outputs": [],
   "source": [
    "def costFunctionReg(theta, X, y, alpha): \n",
    "    '''\n",
    "    A versão do GD que acabamos de estudar é denominada *Batch gradienteient Descent*.\n",
    "    Em cada iteração do algoritmo, todo o conjunto de treinamento é utilizado.\n",
    "\n",
    "        X = características (features)\n",
    "        y = alvo (target)\n",
    "        alpha = taxa de aprendizado\n",
    "        REG = Taxa de regularização\n",
    "\n",
    "    '''\n",
    "    \n",
    "    #theta = np.matrix(theta)\n",
    "    X = np.matrix(X)\n",
    "    y = np.matrix(y)\n",
    "    m = X.size\n",
    "    \n",
    "    first = np.multiply(-y, np.log(sigmoid(X * theta.T)))\n",
    "    second = np.multiply((1 - y), np.log(1 - sigmoid(X * theta.T)))\n",
    "    REG = (alpha / 2*m) * np.sum(np.power(theta[:,1:theta.shape[1]], 2))\n",
    "    \n",
    "    J = (1/m) * np.sum(first - second) + REG\n",
    "\n",
    "    parameters = int(theta.ravel().shape[1])\n",
    "    gradiente = np.zeros(parameters)\n",
    "    error = sigmoid(X * theta.T) - y\n",
    "\n",
    "    for i in range(parameters):\n",
    "        term = np.multiply(error, X[:,i])\n",
    "        if (i == 0):\n",
    "            gradiente[i] = np.sum(term)/m\n",
    "        else:\n",
    "            gradiente[i] = np.sum(term)/m + ((alpha/m) * theta[:,i])\n",
    "\n",
    "\n",
    "    return J, gradiente"
   ]
  },
  {
   "cell_type": "markdown",
   "metadata": {},
   "source": [
    "### 1.3.1 Testando a Função de Custo e o Gradiente"
   ]
  },
  {
   "cell_type": "code",
   "execution_count": 74,
   "metadata": {},
   "outputs": [
    {
     "ename": "ValueError",
     "evalue": "shapes (1,118) and (1,11) not aligned: 118 (dim 1) != 1 (dim 0)",
     "output_type": "error",
     "traceback": [
      "\u001b[0;31m---------------------------------------------------------------------------\u001b[0m",
      "\u001b[0;31mValueError\u001b[0m                                Traceback (most recent call last)",
      "\u001b[0;32m<ipython-input-74-ed9e472432e3>\u001b[0m in \u001b[0;36m<module>\u001b[0;34m()\u001b[0m\n\u001b[1;32m     14\u001b[0m \u001b[0mlearningRate\u001b[0m \u001b[0;34m=\u001b[0m \u001b[0;36m0.01\u001b[0m\u001b[0;34m\u001b[0m\u001b[0m\n\u001b[1;32m     15\u001b[0m \u001b[0;34m\u001b[0m\u001b[0m\n\u001b[0;32m---> 16\u001b[0;31m \u001b[0mcostFunctionReg\u001b[0m\u001b[0;34m(\u001b[0m\u001b[0mtheta2\u001b[0m\u001b[0;34m,\u001b[0m \u001b[0mX2\u001b[0m\u001b[0;34m,\u001b[0m \u001b[0my2\u001b[0m\u001b[0;34m,\u001b[0m \u001b[0mlearningRate\u001b[0m\u001b[0;34m)\u001b[0m\u001b[0;34m\u001b[0m\u001b[0m\n\u001b[0m",
      "\u001b[0;32m<ipython-input-73-b92a75bcf3c0>\u001b[0m in \u001b[0;36mcostFunctionReg\u001b[0;34m(theta, X, y, alpha)\u001b[0m\n\u001b[1;32m     16\u001b[0m     \u001b[0mm\u001b[0m \u001b[0;34m=\u001b[0m \u001b[0mX\u001b[0m\u001b[0;34m.\u001b[0m\u001b[0msize\u001b[0m\u001b[0;34m\u001b[0m\u001b[0m\n\u001b[1;32m     17\u001b[0m \u001b[0;34m\u001b[0m\u001b[0m\n\u001b[0;32m---> 18\u001b[0;31m     \u001b[0mfirst\u001b[0m \u001b[0;34m=\u001b[0m \u001b[0mnp\u001b[0m\u001b[0;34m.\u001b[0m\u001b[0mmultiply\u001b[0m\u001b[0;34m(\u001b[0m\u001b[0;34m-\u001b[0m\u001b[0my\u001b[0m\u001b[0;34m,\u001b[0m \u001b[0mnp\u001b[0m\u001b[0;34m.\u001b[0m\u001b[0mlog\u001b[0m\u001b[0;34m(\u001b[0m\u001b[0msigmoid\u001b[0m\u001b[0;34m(\u001b[0m\u001b[0mX\u001b[0m \u001b[0;34m*\u001b[0m \u001b[0mtheta\u001b[0m\u001b[0;34m.\u001b[0m\u001b[0mT\u001b[0m\u001b[0;34m)\u001b[0m\u001b[0;34m)\u001b[0m\u001b[0;34m)\u001b[0m\u001b[0;34m\u001b[0m\u001b[0m\n\u001b[0m\u001b[1;32m     19\u001b[0m     \u001b[0msecond\u001b[0m \u001b[0;34m=\u001b[0m \u001b[0mnp\u001b[0m\u001b[0;34m.\u001b[0m\u001b[0mmultiply\u001b[0m\u001b[0;34m(\u001b[0m\u001b[0;34m(\u001b[0m\u001b[0;36m1\u001b[0m \u001b[0;34m-\u001b[0m \u001b[0my\u001b[0m\u001b[0;34m)\u001b[0m\u001b[0;34m,\u001b[0m \u001b[0mnp\u001b[0m\u001b[0;34m.\u001b[0m\u001b[0mlog\u001b[0m\u001b[0;34m(\u001b[0m\u001b[0;36m1\u001b[0m \u001b[0;34m-\u001b[0m \u001b[0msigmoid\u001b[0m\u001b[0;34m(\u001b[0m\u001b[0mX\u001b[0m \u001b[0;34m*\u001b[0m \u001b[0mtheta\u001b[0m\u001b[0;34m.\u001b[0m\u001b[0mT\u001b[0m\u001b[0;34m)\u001b[0m\u001b[0;34m)\u001b[0m\u001b[0;34m)\u001b[0m\u001b[0;34m\u001b[0m\u001b[0m\n\u001b[1;32m     20\u001b[0m     \u001b[0mREG\u001b[0m \u001b[0;34m=\u001b[0m \u001b[0;34m(\u001b[0m\u001b[0malpha\u001b[0m \u001b[0;34m/\u001b[0m \u001b[0;36m2\u001b[0m\u001b[0;34m*\u001b[0m\u001b[0mm\u001b[0m\u001b[0;34m)\u001b[0m \u001b[0;34m*\u001b[0m \u001b[0mnp\u001b[0m\u001b[0;34m.\u001b[0m\u001b[0msum\u001b[0m\u001b[0;34m(\u001b[0m\u001b[0mnp\u001b[0m\u001b[0;34m.\u001b[0m\u001b[0mpower\u001b[0m\u001b[0;34m(\u001b[0m\u001b[0mtheta\u001b[0m\u001b[0;34m[\u001b[0m\u001b[0;34m:\u001b[0m\u001b[0;34m,\u001b[0m\u001b[0;36m1\u001b[0m\u001b[0;34m:\u001b[0m\u001b[0mtheta\u001b[0m\u001b[0;34m.\u001b[0m\u001b[0mshape\u001b[0m\u001b[0;34m[\u001b[0m\u001b[0;36m1\u001b[0m\u001b[0;34m]\u001b[0m\u001b[0;34m]\u001b[0m\u001b[0;34m,\u001b[0m \u001b[0;36m2\u001b[0m\u001b[0;34m)\u001b[0m\u001b[0;34m)\u001b[0m\u001b[0;34m\u001b[0m\u001b[0m\n",
      "\u001b[0;32m/anaconda/lib/python3.6/site-packages/numpy/matrixlib/defmatrix.py\u001b[0m in \u001b[0;36m__mul__\u001b[0;34m(self, other)\u001b[0m\n\u001b[1;32m    341\u001b[0m         \u001b[0;32mif\u001b[0m \u001b[0misinstance\u001b[0m\u001b[0;34m(\u001b[0m\u001b[0mother\u001b[0m\u001b[0;34m,\u001b[0m \u001b[0;34m(\u001b[0m\u001b[0mN\u001b[0m\u001b[0;34m.\u001b[0m\u001b[0mndarray\u001b[0m\u001b[0;34m,\u001b[0m \u001b[0mlist\u001b[0m\u001b[0;34m,\u001b[0m \u001b[0mtuple\u001b[0m\u001b[0;34m)\u001b[0m\u001b[0;34m)\u001b[0m \u001b[0;34m:\u001b[0m\u001b[0;34m\u001b[0m\u001b[0m\n\u001b[1;32m    342\u001b[0m             \u001b[0;31m# This promotes 1-D vectors to row vectors\u001b[0m\u001b[0;34m\u001b[0m\u001b[0;34m\u001b[0m\u001b[0m\n\u001b[0;32m--> 343\u001b[0;31m             \u001b[0;32mreturn\u001b[0m \u001b[0mN\u001b[0m\u001b[0;34m.\u001b[0m\u001b[0mdot\u001b[0m\u001b[0;34m(\u001b[0m\u001b[0mself\u001b[0m\u001b[0;34m,\u001b[0m \u001b[0masmatrix\u001b[0m\u001b[0;34m(\u001b[0m\u001b[0mother\u001b[0m\u001b[0;34m)\u001b[0m\u001b[0;34m)\u001b[0m\u001b[0;34m\u001b[0m\u001b[0m\n\u001b[0m\u001b[1;32m    344\u001b[0m         \u001b[0;32mif\u001b[0m \u001b[0misscalar\u001b[0m\u001b[0;34m(\u001b[0m\u001b[0mother\u001b[0m\u001b[0;34m)\u001b[0m \u001b[0;32mor\u001b[0m \u001b[0;32mnot\u001b[0m \u001b[0mhasattr\u001b[0m\u001b[0;34m(\u001b[0m\u001b[0mother\u001b[0m\u001b[0;34m,\u001b[0m \u001b[0;34m'__rmul__'\u001b[0m\u001b[0;34m)\u001b[0m \u001b[0;34m:\u001b[0m\u001b[0;34m\u001b[0m\u001b[0m\n\u001b[1;32m    345\u001b[0m             \u001b[0;32mreturn\u001b[0m \u001b[0mN\u001b[0m\u001b[0;34m.\u001b[0m\u001b[0mdot\u001b[0m\u001b[0;34m(\u001b[0m\u001b[0mself\u001b[0m\u001b[0;34m,\u001b[0m \u001b[0mother\u001b[0m\u001b[0;34m)\u001b[0m\u001b[0;34m\u001b[0m\u001b[0m\n",
      "\u001b[0;31mValueError\u001b[0m: shapes (1,118) and (1,11) not aligned: 118 (dim 1) != 1 (dim 0)"
     ]
    }
   ],
   "source": [
    "# set X and y (remember from above that we moved the label to column 0)\n",
    "#df.QATest1\n",
    "#df.QATest2\n",
    "\n",
    "cols = df.shape[1]  \n",
    "X2 = df.iloc[:,2]  \n",
    "y2 = df.iloc[:,:2]\n",
    "\n",
    "# convert to numpy arrays and initalize the parameter array theta\n",
    "X2 = np.array(X2.values)  \n",
    "y2 = np.array(y2.values)  \n",
    "theta2 = np.zeros(11)\n",
    "\n",
    "learningRate = 0.01\n",
    "\n",
    "costFunctionReg(theta2, X2, y2, learningRate) "
   ]
  },
  {
   "cell_type": "markdown",
   "metadata": {},
   "source": [
    "## 1.4 Esboço da fronteira de decisão\n",
    "\n",
    "Nessa parte, voc^e deve esbo\u0018car (plotar) a fronteira de decis~ao que foi aprendida\n",
    "para separar os exemplos positivos dos negativos. Crie uma arquivo de nome\n",
    "plotDecisionBoundary.py, para criar esse gr\u0013a\f",
    "co que tra\u0018ca o limite da decis~ao\n",
    "n~ao-linear. Seu gr\u0013a\f",
    "co deve ser semelhante ao apresentado na **_Figura_** abaixo.\n",
    "\n",
    "![ScatterBoundaryPlot](scatter_boundary.jpg)"
   ]
  },
  {
   "cell_type": "code",
   "execution_count": null,
   "metadata": {
    "collapsed": true
   },
   "outputs": [],
   "source": [
    "def plotDecisionBoundary(X, y, theta, alpha, iteracao):\n",
    "    '''\n",
    "    A versão do GD que acabamos de estudar é denominada *Batch Gradient Descent*.\n",
    "    Em cada iteração do algoritmo, todo o conjunto de treinamento é utilizado.\n",
    "\n",
    "        X = características (features)\n",
    "        y = alvo (target)\n",
    "    '''\n",
    "    m = y.size\n",
    "    J = np.zeros(shape=(iteracao, 1))\n",
    "\n",
    "    for i in range(iteracao):\n",
    "        hipotese = X.dot(theta).flatten()\n",
    "        errors_x1 = (hipotese - y) * X[:, 0]\n",
    "        errors_x2 = (hipotese - y) * X[:, 1]\n",
    "\n",
    "        theta[0][0] = theta[0][0] - alpha * (1.0 / m) * errors_x1.sum()\n",
    "        theta[1][0] = theta[1][0] - alpha * (1.0 / m) * errors_x2.sum()\n",
    "        J[i, 0] = computarCusto(X, y, theta)\n",
    "\n",
    "    return theta, J"
   ]
  },
  {
   "cell_type": "code",
   "execution_count": null,
   "metadata": {
    "collapsed": true
   },
   "outputs": [],
   "source": [
    "X = df.Populacao\n",
    "y = df.Lucro\n",
    "\n",
    "# Número do conjunto de treinamento\n",
    "m = y.size    \n",
    "\n",
    "# Adicionando uma coluna de 1's ao novo X \n",
    "X_teste = np.ones(shape=(m, 2))\n",
    "X_teste[:, 1] = X\n",
    "\n",
    "# Inicializando os parâmetros theta\n",
    "theta = np.zeros(shape=(2, 1))\n",
    "\n",
    "# Configuração de valores para Gradiente Descendente\n",
    "iteracao = 1500\n",
    "taxa_aprendizado = 0.01\n",
    "\n",
    "# Utilizando da função gradienteDescendente para obter os valores theta e J\n",
    "theta, J = gradienteDescendente(X_teste, y, theta, taxa_aprendizado, iteracao)\n",
    "\n",
    "# Efetuando uma predição de lucro para os valores de 35000 and 70000 da população\n",
    "print('\\t ######################  Casos de Predição de Lucro  ######################\\n')\n",
    "lucro35 = np.array([1, 35000]).dot(theta).flatten()\n",
    "print('\\t Para uma população de 35000 habitantes, prevemos um lucro de %f' % lucro35)\n",
    "\n",
    "lucro70 = np.array([1, 70000]).dot(theta).flatten()\n",
    "print('\\t Para uma população de 70000 habitantes, prevemos um lucro de %f\\n' % lucro70)\n",
    "print('\\t ##########################################################################\\n')"
   ]
  },
  {
   "cell_type": "code",
   "execution_count": null,
   "metadata": {
    "collapsed": true
   },
   "outputs": [],
   "source": [
    "# Apresentando a linha de regressão no gráfico de Correlação\n",
    "plt.scatter(df.Populacao, df.Lucro,  c= 'red', marker='x')\n",
    "plt.title('Distribuição do Lucro e Previsão')\n",
    "xlabel('População de 10000 habitantes')\n",
    "ylabel('Lucro de US$10K')\n",
    "\n",
    "result = X_teste.dot(theta).flatten()\n",
    "plot(df.Populacao, result, 'b')\n",
    "show()"
   ]
  },
  {
   "cell_type": "markdown",
   "metadata": {
    "collapsed": true
   },
   "source": [
    "## 1.3 Visualização de J(ø)\n",
    "\n",
    "Para melhor entender a função de custo, você irá nessa parte do trabalho plotar o custo sobre \n",
    "uma grade bidimensional de valores de 0 e de 1. Para isso, você deve usar sua implementação da função **computarCusto**.\n",
    "\n",
    "O código que você deve implementar deve gerar um array bidimensional de valores de J(ø). Os valores gerados pelo seu código devem estar na faixa a seguir: -10;0;+10 e -1;+4. Utilize incremento de 0.01 para gerar os valores de 0 e de 1.\n",
    "\n",
    "A seguir, usando a função _matplotlib.pyplot.contour_ da biblioteca matplotlib, produza um gráfico de curvas de contorno (contour plot). Também\n",
    "utilizando a biblioteca matplotlib, crie um gráfico da superfície correspondente a J(ø)."
   ]
  },
  {
   "cell_type": "code",
   "execution_count": null,
   "metadata": {
    "collapsed": true
   },
   "outputs": [],
   "source": [
    "# Adicionando uma coluna de 1's em X p/ X de teste\n",
    "X_teste = np.ones(shape=(m, 2))\n",
    "X_teste[:, 1] = X\n",
    "\n",
    "# Construindo a superfície para representar J(ø)\n",
    "theta0 = np.linspace(-10, 10, 100) # Intervalo para theta0 (-10;10)\n",
    "theta1 = np.linspace(-1, 4, 100)   # Intervalo para theta1 (-1;4)\n",
    "\n",
    "# Inicializando J(ø) com uma matriz de zeros\n",
    "J = np.zeros(shape=(theta0.size, theta1.size))\n",
    "\n",
    "# Preenchendo a matriz J\n",
    "for t1, element1 in enumerate(theta0):\n",
    "    for t2, element2 in enumerate(theta1):\n",
    "        thetaT = np.zeros(shape=(2, 1))\n",
    "        thetaT[0][0] = element1\n",
    "        thetaT[1][0] = element2\n",
    "        J[t1, t2] = computarCusto(X_teste, y, thetaT)\n",
    "\n",
    "# Plotando a Superfície de Contorno correspondente a J(ø)\n",
    "plt.contour(theta0, theta1, J.T, np.logspace(-4, 5, 50))\n",
    "plt.title('Gráfico da Superfície J(ø)')\n",
    "xlabel('Theta0')\n",
    "ylabel('Theta1')\n",
    "plt.scatter(theta[0][0], theta[1][0])\n",
    "show()"
   ]
  },
  {
   "cell_type": "markdown",
   "metadata": {},
   "source": [
    "# 2. Regressão Linear com Múltiplas Variáveis\n",
    "\n",
    "\n",
    "Nessa parte do trabalho, você irá implementar a regressão linear com múltiplas variáveis para predizer \n",
    "o preço de venda de imóveis. O arquivo ex1data2.txt contém informações acerca de preços de imóveis. \n",
    "A primeira coluna corersponde ao tamanho do imóvel (em _pés quadrados_). A segunda coluna corresponde à\n",
    "quantidade de dormitórios no imóvel em questão. A terceira coluna corresponde ao preço do imóvel.\n",
    "\n",
    "## Visualização dos dados"
   ]
  },
  {
   "cell_type": "code",
   "execution_count": null,
   "metadata": {
    "collapsed": true
   },
   "outputs": [],
   "source": [
    "# Carregando o dataset na forma de txt, porque tem melhor desempenho p/ representação gráfica e \n",
    "# principalmente na vertorização, se comparado ao Dataframe, utilizado na primeira seção deste trabalho.\n",
    "\n",
    "data = np.loadtxt('am-T1-dados/ex1data2.txt', delimiter=',')"
   ]
  },
  {
   "cell_type": "code",
   "execution_count": null,
   "metadata": {
    "collapsed": true
   },
   "outputs": [],
   "source": [
    "data"
   ]
  },
  {
   "cell_type": "code",
   "execution_count": null,
   "metadata": {
    "collapsed": true
   },
   "outputs": [],
   "source": [
    "# Inicializando visualização gráfica\n",
    "plano = plt.figure()\n",
    "plano = plano.add_subplot(111, projection='3d')\n",
    "\n",
    "# Criação dos pontos ('x' vermelhos) para o gráfico\n",
    "for c, m in [('red', 'x')]:\n",
    "    tamanho = data[:, 0] \n",
    "    quartos = data[:, 1] \n",
    "    valor   = data[:, 2] \n",
    "    plano.scatter(tamanho, quartos, valor, c=c, marker=m)\n",
    "\n",
    "\n",
    "# Plotando o Gráfico\n",
    "plano.set_xlabel('Tamanho')\n",
    "plano.set_ylabel('Nº de Quartos')\n",
    "plano.set_zlabel('Valor do Imóvel')\n",
    "show()"
   ]
  },
  {
   "cell_type": "markdown",
   "metadata": {
    "collapsed": true
   },
   "source": [
    "## 2.1 Normalização das características\n",
    "\n",
    "Se você inspecionar os valores do conjunto de dados fornecido, irá notar que os tamanhos dos imóveis são \n",
    "aproximadamente 1000 vezes maiores que as quantidades encontradas na coluna de quantidade de dormitórios. \n",
    "Sua tarefa nessa parte é implementar uma função denominada normalizarCaracteristica em um arquivo denominado \n",
    "normalizarCaracteristica.py. Essa função deve:\n",
    "\n",
    " - subtrair o valor médio de todas as características do conjunto de dados.\n",
    " - após subtrair a média, dividir cada característica pelos seus respectivos desvios padrões.\n",
    "\n",
    "A sua função **normalizarCaracteristica** deve a matriz de dados X de dados como parâmetro (na forma de um numpy array). Além disso, essa função deve funcionar com conjuntos de dados de variados tamanhos (qualquer quantidade\n",
    "de características / exemplos). Repare que cada coluna da matriz de dados X passada para a função **normalizarCaracteristica** deve corresponder a um característica.\n",
    "\n",
    "**Nota de Implementação**: Ao normalizar as características, é importante armazenar os valores utilizados para a normalização - o valor médio e o desvio padrão utilizados para a normalização. Depois de aprender os parâmetros do modelo, muitas vezes queremos prever os preços das casas que não temos visto antes. Dado um novo valor x (área da sala de estar e número de quartos), devemos normalizar x usando a média e o desvio padrão que nós previamente\n",
    "calculamos a partir do conjunto de treinamento."
   ]
  },
  {
   "cell_type": "code",
   "execution_count": null,
   "metadata": {
    "collapsed": true
   },
   "outputs": [],
   "source": [
    "def normalizarCaracteristica(X):\n",
    "    '''\n",
    "    Retorna uma versão normalizada de X onde o valor médio de cada característica é 0 \n",
    "    e o desvio padrão é 1. Este é frequentemente um bom passo de pré-processamento \n",
    "    a ser feito ao trabalhar com algoritmos de aprendizado.\n",
    "    '''\n",
    "    valormedio = []\n",
    "    desviopadrao = []\n",
    "    X_Normalizado = X\n",
    "\n",
    "    for i in range(X.shape[1]):\n",
    "        m = np.mean(X[:, i])\n",
    "        s = np.std(X[:, i])\n",
    "        valormedio.append(m)\n",
    "        desviopadrao.append(s)\n",
    "        X_Normalizado[:, i] = (X_Normalizado[:, i] - m) / s\n",
    "\n",
    "    return X_Normalizado, valormedio, desviopadrao"
   ]
  },
  {
   "cell_type": "markdown",
   "metadata": {},
   "source": [
    "## 2.2 Gradiente descendente\n",
    "\n",
    "Anteriormente, você implementou o GD em uma regressão linear univariada. A única diferença agora é que há mais uma característica na matriz de dados X. A função de hipótese h(x) e a atualização dos gradientes em lote permanecem inalteradas. Você deve implementar código nos arquivos denominados **computarCustoMulti.py** e **gdmulti.py** para implementar a função de custo e o algoritmo GD para regressão linear com múltiplas variáveis, respectivamente. Se o seu código na parte anterior (variável única) já provê suporte a múltiplas variáveis, você também pode reusá-lo aqui. Se assegure de que o seu código dá suporte a qualquer número de características e está bem vetorizado."
   ]
  },
  {
   "cell_type": "code",
   "execution_count": null,
   "metadata": {
    "collapsed": true
   },
   "outputs": [],
   "source": [
    "def computarCustoMulti(X, y, theta):\n",
    "    '''\n",
    "    Função que computa o custo para Regressão Linear com múltiplas variáveis.\n",
    "    '''\n",
    "    # Número do conjunto de treinamento\n",
    "    m = y.size\n",
    "    J = (1 / (2 * m)) * (X.dot(theta) - y).T.dot(X.dot(theta) - y)\n",
    "    return J"
   ]
  },
  {
   "cell_type": "code",
   "execution_count": null,
   "metadata": {
    "collapsed": true
   },
   "outputs": [],
   "source": [
    "def gradienteDescendenteMulti(X, y, theta, alpha, iteracoes):\n",
    "    '''\n",
    "    Essa função calcula o gradiente descendente conforme o Theta, e com\n",
    "    etapas de iteracoes gradiente mediante a taxa de aprendizado em Alpha.\n",
    "    '''\n",
    "    m = y.size\n",
    "    J = np.zeros(shape=(iteracoes, 1))\n",
    "\n",
    "    for i in range(iteracoes):\n",
    "        hipotese = X.dot(theta)\n",
    "        \n",
    "        for it in range(theta.size):\n",
    "            temp = X[:, it]\n",
    "            temp.shape = (m, 1)\n",
    "\n",
    "            errors_x1 = (hipotese - y) * temp\n",
    "            theta[it][0] = theta[it][0] - alpha * (1.0 / m) * errors_x1.sum()\n",
    "\n",
    "        J[i, 0] = computarCustoMulti(X, y, theta)\n",
    "\n",
    "    return J"
   ]
  },
  {
   "cell_type": "code",
   "execution_count": null,
   "metadata": {
    "collapsed": true
   },
   "outputs": [],
   "source": [
    "X = data[:, :2]\n",
    "y = data[:, 2]\n",
    "\n",
    "# Tamanho do conjunto de treinamento\n",
    "m = y.size\n",
    "y.shape = (m,1)\n",
    "\n",
    "# Normalizando X, obtendo Média e Desvio-padrão\n",
    "x, media, desviopadrao = normalizarCaracteristica(X)\n",
    "\n",
    "# Adicionando uma coluna de 1's ao novo X\n",
    "Xnovo = np.ones(shape=(m, 3))\n",
    "Xnovo[:, 1:3] = x\n",
    "\n",
    "# Atributos para a função GradienteDescendenteMulti\n",
    "iteracao = 100           # Número de repeticões p/ o algoritmo\n",
    "alpha = 0.01             # Taxa de aprendizado\n",
    "\n",
    "# Inicializando o Theta p/ execução da função GradienteDescendenteMulti\n",
    "theta = np.zeros(shape=(3, 1))\n",
    "J = gradienteDescendenteMulti(Xnovo, y, theta, alpha, iteracao)\n",
    "\n",
    "plot(np.arange(iteracao), J)\n",
    "xlabel('Iteracões')\n",
    "ylabel('Função de Custo')\n",
    "show()"
   ]
  },
  {
   "cell_type": "markdown",
   "metadata": {},
   "source": [
    "# 3. Regressão Logística\n",
    "\n",
    "Nessa parte do trabalho, você irá implementar a regressão logística. Em particular,\n",
    "você irá criar uma classificador para predizer se um estudante será admitido em uma \n",
    "universidade, com base nos resultados de duas avaliações. Suponha que estão disponíveis \n",
    "dados históricos acerca de realizações passadas dessas avaliações, e que esses dados \n",
    "históricos podem ser usados como conjunto de treinamento. Para cada exemplo desse conjunto \n",
    "de treinamento, temos as notas das duas avaliações e a decisão acerca do candidato \n",
    "(aprovado ou reprovado). \n",
    "\n",
    "Sua tarefa é construir um modelo de classificação que provê uma estimativa da probabilidade \n",
    "de admissão de um candidato, com base na notas que ele obteve nas duas avaliações. \n",
    "\n",
    "O arquivo **ex2data1.txt** contém os dados a serem usados nessa parte do trabalho."
   ]
  },
  {
   "cell_type": "markdown",
   "metadata": {},
   "source": [
    "## 3.1 Visualização dos dados\n",
    "\n",
    "Antes de começar a implementar qualquer algoritmo de aprendizado, é adequado\n",
    "visualizar os dados, quando possível. Nessa parte do trabalho, você deve\n",
    "carregar o arquivo com o conjunto de treinamento e plotar (i.e., produzir um\n",
    "gráfico) os pontos de dados. O resultado dessa tarefa deve ser um gráfico similar\n",
    "ao apresentado na _Figura_ abaixo.\n",
    "\n",
    "![Boundary.png](Boundary.png)\n"
   ]
  },
  {
   "cell_type": "code",
   "execution_count": null,
   "metadata": {
    "collapsed": true
   },
   "outputs": [],
   "source": [
    "# carregando os dados \n",
    "data = np.loadtxt('am-T1-dados/ex2data1.txt', delimiter=',', usecols=(0,1,2), unpack=True)"
   ]
  },
  {
   "cell_type": "code",
   "execution_count": null,
   "metadata": {
    "collapsed": true
   },
   "outputs": [],
   "source": [
    "# Transportando matriz\n",
    "X = np.transpose(np.array(data[:2]))\n",
    "y = np.transpose(np.array(data[2:]))\n",
    "\n",
    "# Tamanho do conjunto de treinamento\n",
    "m = y.size\n",
    "\n",
    "# Adicionando uma coluna de 1's ao novo X\n",
    "X = np.insert(X,0,1,axis=1)\n",
    "\n",
    "# Classificando a amostra em Positiva (data[:, 2]=1) e Negativa(data[:, 2]=0)\n",
    "X_Admitted  = np.array([X[i] for i in range(X.shape[0]) if y[i] == 1])\n",
    "X_Nadmitted = np.array([X[i] for i in range(X.shape[0]) if y[i] == 0])\n",
    "\n",
    "plt.figure(figsize=(16,8))\n",
    "plt.plot(X_Admitted[:, 1], X_Admitted[:, 2],'k+',label='Admitted')\n",
    "plt.plot(X_Nadmitted[:, 1], X_Nadmitted[:, 2],'yo',label='Not admitted')\n",
    "plt.title('Gráfico Decision Boundary p/ admissão de candidato', fontsize=18, fontweight='bold')\n",
    "plt.xlabel('Exam 1 Score', fontweight='bold')\n",
    "plt.ylabel('Exam 2 Score', fontweight='bold')\n",
    "plt.legend()\n",
    "plt.grid(False)    \n",
    "plt.show()"
   ]
  },
  {
   "cell_type": "markdown",
   "metadata": {},
   "source": [
    "## 3.2 Implementação\n",
    "\n",
    "### 3.2.1 Função sigmoide\n",
    "\n",
    "Como primeiro passo nessa parte, implemente a função em Python que calcula\n",
    "o valor da função **sigmoide**. Defina essa função em um arquivo denominado\n",
    "**_sigmoide.py_**, de tal forma que ela possa ser chamada de outras parte do seu\n",
    "código. Após finalizar sua implementação, você pode verificar sua corretude:\n",
    "\n",
    " - Para a sigmoide(0), o valor retornado deve ser 0.5. \n",
    " - Para valores muito grandes positivos (ou negativos), ela retornará um valor muito próximo de 1 (ou de 0). \n",
    "\n",
    "O seu código também deve funcionar com vetores (i.e., **o seu código deve estar vetorizado**). Em particular, se\n",
    "uma matriz for passada, o seu código deve aplicar a função sigmoide a cada componente."
   ]
  },
  {
   "cell_type": "code",
   "execution_count": null,
   "metadata": {
    "collapsed": true
   },
   "outputs": [],
   "source": [
    "def sigmoid(x):\n",
    "    '''\n",
    "    A função sigmoid\n",
    "    '''\n",
    "    g = np.array([x]).flatten()\n",
    "    s = 1 / (1 + np.exp(-g))\n",
    "    return s"
   ]
  },
  {
   "cell_type": "code",
   "execution_count": null,
   "metadata": {
    "collapsed": true
   },
   "outputs": [],
   "source": [
    "print('\\t ###########################  Teste para função sigmoid(0)  ###########################\\n')\n",
    "print('\\t O Valor da Sigmoid(0) é', sigmoid(0))\n",
    "print('\\t O Valor da Sigmoid([0,1,2,3000]) é', sigmoid(np.array([0,1,2,3000])))\n",
    "print('\\t ######################################################################################\\n')"
   ]
  },
  {
   "cell_type": "code",
   "execution_count": null,
   "metadata": {
    "collapsed": true
   },
   "outputs": [],
   "source": [
    "# Exibindo o gráfico da função Sigmoid\n",
    "X_teste = np.arange(-6,6,.5)\n",
    "plt.plot(X_teste, sigmoid(X_teste))\n",
    "plt.title(\"Função Sigmoid\", fontsize=18, fontweight='bold')\n",
    "plt.grid(True)\n",
    "plt.show()"
   ]
  },
  {
   "cell_type": "markdown",
   "metadata": {},
   "source": [
    "## 3.2.2 Função de custo e gradiente\n",
    "\n",
    "Agora, você deverá implementar a função de custo para a regressão logística.\n",
    "Essa função deve retornar o valor de função de custo e o gradiente. Implemente\n",
    "esse código em um arquivo denominado funcaoCustoRegressaoLogistica.py.\n",
    "Lembre-se de que o gradiente é um vetor com o mesmo número de elementos que ø.\n",
    "\n",
    "Uma vez que tenha implementado essa função, realize uma chamada usando\n",
    "o valor inicial de ø. Você deve confirmar que o valor produzido é aproximadamente 0.693."
   ]
  },
  {
   "cell_type": "code",
   "execution_count": null,
   "metadata": {
    "collapsed": true
   },
   "outputs": [],
   "source": [
    "def custoJ(theta, X, y):\n",
    "    '''\n",
    "    A função custoJ retorna o valor de função de custo:\n",
    "        X é uma matrix com n-colunas e m-linhas\n",
    "        y é um vetor com m-linhas\n",
    "        theta é um vetor n-dimensional\n",
    "        \n",
    "    Obs.: Será utilizada para facilitar o cálculo de minimização. \n",
    "    '''\n",
    "    m = len(y)\n",
    "    H = sigmoid(X.dot(theta).T)\n",
    "    J = -np.sum( y* np.log(H) + (1-y) * np.log(1-H))/m\n",
    "    return J"
   ]
  },
  {
   "cell_type": "code",
   "execution_count": null,
   "metadata": {
    "collapsed": true
   },
   "outputs": [],
   "source": [
    "def custoRegressaoLogistica(theta, X, y):\n",
    "    '''\n",
    "    A função funcaoCustoRegressaoLogistica retorna o valor de função de custo e o gradiente.\n",
    "        Returna J, gradiente:\n",
    "        \n",
    "        X é uma matrix com n-colunas e m-linhas\n",
    "        y é um vetor com m-linhas\n",
    "        theta é um vetor n-dimensional\n",
    "    '''\n",
    "    \n",
    "    # Calcula o Custo\n",
    "    m = len(y)\n",
    "    H = sigmoid(X.dot(theta).T)\n",
    "    J = -np.sum( y* np.log(H) + (1-y) * np.log(1-H))/m\n",
    "\n",
    "    # Calcula o Gradiente\n",
    "    erro = H-y\n",
    "    gradiente = []\n",
    "    for i in range(len(X.columns)):\n",
    "        gradiente.append(np.sum(erro*(X.iloc[:,i]))/m)\n",
    "    \n",
    "    return J, gradiente"
   ]
  },
  {
   "cell_type": "markdown",
   "metadata": {},
   "source": [
    "## 3.2.3 Aprendizado dos parâmetros\n",
    "\n",
    "Para a regressão logística, o objetivo é minimizar J(ø) com relação ao vetor\n",
    "de parâmetros ø. Sendo assim, nessa parte você deve implementar uma função\n",
    "em Python para encontrar o vetor ø que minimiza a função de custo. Utilize a\n",
    "função **funcaoCustoRegressaoLogistica** que você implementou previamente."
   ]
  },
  {
   "cell_type": "code",
   "execution_count": null,
   "metadata": {
    "collapsed": true
   },
   "outputs": [],
   "source": [
    "from scipy import optimize\n",
    "\n",
    "def minimizar(theta, X, y):\n",
    "    '''\n",
    "    A função minimizar J(ø) com relação ao vetor de parâmetros ø\n",
    "    '''\n",
    "    minimo = optimize.fmin(func=custoJ, x0=theta, args=(X, y), maxiter=1000, full_output=True)\n",
    "    return minimo[0], minimo[1]"
   ]
  },
  {
   "cell_type": "code",
   "execution_count": null,
   "metadata": {
    "collapsed": true
   },
   "outputs": [],
   "source": [
    "# Utilizando uma segunda estrutura de dados\n",
    "df = pd.read_csv('am-T1-dados/ex2data1.txt', names=['Exame1', 'Exame2', 'Admissao'])\n",
    "\n",
    "X = df.iloc[:, :2]\n",
    "y = df.iloc[:, 2]\n",
    "X.head()"
   ]
  },
  {
   "cell_type": "code",
   "execution_count": null,
   "metadata": {
    "collapsed": true
   },
   "outputs": [],
   "source": [
    "#add a column of ones to the feature matrix X to account for theta 0\n",
    "m = len(y)\n",
    "X.insert(0, \"theta0\",value=pd.Series(np.ones([m])))\n",
    "X.head()"
   ]
  },
  {
   "cell_type": "code",
   "execution_count": null,
   "metadata": {
    "collapsed": true
   },
   "outputs": [],
   "source": [
    "# Apresentando uma visualização gráfica com base na classificação\n",
    "from seaborn import lmplot\n",
    "\n",
    "g = lmplot(\"Exame1\", \"Exame2\", hue=\"Admissao\", data=df, fit_reg=True, palette = \"dark\", markers = [\"o\",\"x\"], legend = True)\n",
    "plt.xlabel(\"Exame 1 Score\")\n",
    "plt.ylabel(\"Exame 2 Score\")\n",
    "plot_x = np.array([min(X.iloc[:,2])-2,  max(X.iloc[:,2])+2])\n",
    "plt.ylim(30,100)"
   ]
  },
  {
   "cell_type": "code",
   "execution_count": null,
   "metadata": {
    "collapsed": true
   },
   "outputs": [],
   "source": [
    "theta0 = np.zeros([X.shape[1], 1])\n",
    "hypothesis = sigmoid(X.dot(theta0).T)\n",
    "print(hypothesis)"
   ]
  },
  {
   "cell_type": "code",
   "execution_count": null,
   "metadata": {
    "collapsed": true
   },
   "outputs": [],
   "source": [
    "print(custoRegressaoLogistica(theta0, X, y))"
   ]
  },
  {
   "cell_type": "code",
   "execution_count": null,
   "metadata": {
    "collapsed": true
   },
   "outputs": [],
   "source": [
    "# \n",
    "print(custoJ(theta0, X, y))"
   ]
  },
  {
   "cell_type": "code",
   "execution_count": null,
   "metadata": {
    "collapsed": true
   },
   "outputs": [],
   "source": [
    "# Avaliando a minimização\n",
    "X_min, theta_min = minimizar(theta0, X, y)\n",
    "print(X_min, theta_min)"
   ]
  },
  {
   "cell_type": "markdown",
   "metadata": {},
   "source": [
    "## 3.2.4 Avaliação do modelo\n",
    "\n",
    "Após o aprendizado dos parâmetros, você pode usar o modelo correspondente\n",
    "para predizer se um candidato qualquer será aprovado. Para um candidato\n",
    "com **_notas 45 e 85 na primeira e segunda avaliações_**, respectivamente, você deve\n",
    "esperar que ele seja aprovado com **probabilidade de 77.6%**.\n",
    "\n",
    "Outro modo de avaliar a qualidade dos parâmetros é verificar o quão bem o\n",
    "modelo aprendido prediz os pontos de dados do conjunto de treinamento. Nessa\n",
    "parte, você deve implementar uma função denominada predizer. Essa função\n",
    "deve produzir os valores 0 ou 1, dados um exemplo do conjunto de treinamento\n",
    "o vetor de parâmetros ø. Use essa função para produzir a porcentagem de\n",
    "acertos do seu classificador sobre o conjunto de treinamento."
   ]
  },
  {
   "cell_type": "code",
   "execution_count": null,
   "metadata": {
    "collapsed": true
   },
   "outputs": [],
   "source": [
    "def predizer(theta, X):\n",
    "    P = sigmoid(X.dot(theta))\n",
    "    return (P >= 0.5).astype(int)"
   ]
  },
  {
   "cell_type": "code",
   "execution_count": null,
   "metadata": {
    "collapsed": true
   },
   "outputs": [],
   "source": [
    "# Predição de Admissão do candidato\n",
    "A = np.array([1,45,85])\n",
    "H = sigmoid(A.dot(X_min))\n",
    "\n",
    "# Efetuando predição p/ Admissão de um candidato com notas 45 e 85 na primeira e segunda avaliações \n",
    "print('\\t ######################################  ALUNO TESTE  #################################\\n')\n",
    "print('\\t Para as notas 45 e 85 no 1º e 2º Exame prevê a probabilidade de admissão de %f' % H)\n",
    "print('\\t ######################################################################################\\n')"
   ]
  }
 ],
 "metadata": {
  "kernelspec": {
   "display_name": "Python 3",
   "language": "python",
   "name": "python3"
  },
  "language_info": {
   "codemirror_mode": {
    "name": "ipython",
    "version": 3
   },
   "file_extension": ".py",
   "mimetype": "text/x-python",
   "name": "python",
   "nbconvert_exporter": "python",
   "pygments_lexer": "ipython3",
   "version": "3.6.1"
  }
 },
 "nbformat": 4,
 "nbformat_minor": 2
}
