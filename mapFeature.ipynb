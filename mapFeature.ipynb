{
 "cells": [
  {
   "cell_type": "code",
   "execution_count": 1,
   "metadata": {
    "collapsed": true
   },
   "outputs": [],
   "source": [
    "import numpy as np"
   ]
  },
  {
   "cell_type": "code",
   "execution_count": 2,
   "metadata": {
    "collapsed": true
   },
   "outputs": [],
   "source": [
    "def mapFeature(X1, X2):\n",
    "    '''\n",
    "    Função que mapeia características p/ os termos polinomiais X1 e X2 até a 6ª potência.\n",
    "    Retorna um novo conjunto com mais características, através do algoritmo de mapping\n",
    "    X1, X2, X1 ** 2, X2 ** 2, X1*X2, X1*X2 ** 2, etc...\n",
    "    Os parâmetros X1, X2 devem ser do mesmo tamanho\n",
    "    '''\n",
    "    # Potência padrão para o mapeamento\n",
    "    potencia = 6\n",
    "    \n",
    "    X1.shape = (X1.size, 1)\n",
    "    X2.shape = (X2.size, 1)\n",
    "    \n",
    "    features = np.ones(shape=(X1.size, 1))\n",
    "\n",
    "    for i in range(1, potencia + 1):\n",
    "        for j in range(i + 1):\n",
    "            r = (X1 ** (i - j)) * (X2 ** j)\n",
    "            features = np.append(features, r, axis=1)\n",
    "\n",
    "    return features"
   ]
  }
 ],
 "metadata": {
  "kernelspec": {
   "display_name": "Python 3",
   "language": "python",
   "name": "python3"
  },
  "language_info": {
   "codemirror_mode": {
    "name": "ipython",
    "version": 3
   },
   "file_extension": ".py",
   "mimetype": "text/x-python",
   "name": "python",
   "nbconvert_exporter": "python",
   "pygments_lexer": "ipython3",
   "version": "3.6.1"
  }
 },
 "nbformat": 4,
 "nbformat_minor": 2
}
