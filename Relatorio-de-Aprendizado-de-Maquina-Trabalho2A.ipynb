{
 "cells": [
  {
   "cell_type": "markdown",
   "metadata": {},
   "source": [
    "**ALUNO:** GUSTAVO ALEXANDRE SOUSA SANTOS"
   ]
  },
  {
   "cell_type": "code",
   "execution_count": 1,
   "metadata": {
    "collapsed": true
   },
   "outputs": [],
   "source": [
    "import os \n",
    "import pandas as pd\n",
    "import numpy as np\n",
    "import matplotlib.pyplot as plt\n",
    "from sklearn.preprocessing import PolynomialFeatures \n",
    "\n",
    "# Carregando o pacote que contém a função de carregar arquivos Matlab\n",
    "from scipy.io import loadmat\n",
    "\n",
    "# Carregando o pacote que contém a função de minimizar uma Função Objetivo \n",
    "from scipy.optimize import minimize\n",
    "\n",
    "%matplotlib inline"
   ]
  },
  {
   "cell_type": "markdown",
   "metadata": {},
   "source": [
    "# Regressão Logística com Regularização"
   ]
  },
  {
   "cell_type": "markdown",
   "metadata": {},
   "source": [
    "Nesta parte do trabalho, será implementada a **_Regressão Logística Regularizada_**\n",
    "para prever se os microchips de uma usina de fabricação passam na garantia\n",
    "de qualidade (QA). Durante a QA, cada microchip passa por vários testes para\n",
    "garantir se está funcionando corretamente. Dessa forma, a Gestão de Produto da \n",
    "fábrica terá o resultados de teste para alguns microchips em dois testes diferentes. \n",
    "\n",
    "A partir desses dois testes, será determinado se os microchips deveriam ser \n",
    "aceitos ou rejeitados. Para auxiliar a tomar a decisão, há um conjunto de dados\n",
    "com resultados de testes anteriores sobre microchips, a partir do qual é possível construir\n",
    "um modelo de Regressão Logística.\n",
    "\n",
    "O arquivo **$ex2data2.txt$** contém os dados a serem usados nessa parte do trabalho. A primeira \n",
    "coluna corresponde aos resultados do primeiro teste, enquanto que a segunda coluna corresponde\n",
    "aos resultados do segundo teste. A terceira coluna contém os valores da classe (y = 0 significa \n",
    "rejeitado no teste, e y = 1 significa aceito no teste).\n",
    "\n",
    "## Visualização dos Dados\n",
    "\n",
    "Para a maioria dos conjuntos de dados do mundo real, não é possível criar um gráfico para \n",
    "visualizar seus pontos. Mas, para o conjunto de dados fornecido, isso é possível. Implemente \n",
    "um script em _Python_ que produza um gráfico de dispersão $scatter plot$ dos dados fornecidos. "
   ]
  },
  {
   "cell_type": "code",
   "execution_count": 2,
   "metadata": {},
   "outputs": [
    {
     "data": {
      "text/html": [
       "<div>\n",
       "<style>\n",
       "    .dataframe thead tr:only-child th {\n",
       "        text-align: right;\n",
       "    }\n",
       "\n",
       "    .dataframe thead th {\n",
       "        text-align: left;\n",
       "    }\n",
       "\n",
       "    .dataframe tbody tr th {\n",
       "        vertical-align: top;\n",
       "    }\n",
       "</style>\n",
       "<table border=\"1\" class=\"dataframe\">\n",
       "  <thead>\n",
       "    <tr style=\"text-align: right;\">\n",
       "      <th></th>\n",
       "      <th>0</th>\n",
       "      <th>1</th>\n",
       "      <th>2</th>\n",
       "    </tr>\n",
       "  </thead>\n",
       "  <tbody>\n",
       "    <tr>\n",
       "      <th>0</th>\n",
       "      <td>0.051267</td>\n",
       "      <td>0.69956</td>\n",
       "      <td>1.0</td>\n",
       "    </tr>\n",
       "    <tr>\n",
       "      <th>1</th>\n",
       "      <td>-0.092742</td>\n",
       "      <td>0.68494</td>\n",
       "      <td>1.0</td>\n",
       "    </tr>\n",
       "    <tr>\n",
       "      <th>2</th>\n",
       "      <td>-0.213710</td>\n",
       "      <td>0.69225</td>\n",
       "      <td>1.0</td>\n",
       "    </tr>\n",
       "    <tr>\n",
       "      <th>3</th>\n",
       "      <td>-0.375000</td>\n",
       "      <td>0.50219</td>\n",
       "      <td>1.0</td>\n",
       "    </tr>\n",
       "    <tr>\n",
       "      <th>4</th>\n",
       "      <td>-0.513250</td>\n",
       "      <td>0.46564</td>\n",
       "      <td>1.0</td>\n",
       "    </tr>\n",
       "  </tbody>\n",
       "</table>\n",
       "</div>"
      ],
      "text/plain": [
       "          0        1    2\n",
       "0  0.051267  0.69956  1.0\n",
       "1 -0.092742  0.68494  1.0\n",
       "2 -0.213710  0.69225  1.0\n",
       "3 -0.375000  0.50219  1.0\n",
       "4 -0.513250  0.46564  1.0"
      ]
     },
     "execution_count": 2,
     "metadata": {},
     "output_type": "execute_result"
    }
   ],
   "source": [
    "data = np.loadtxt('am-T2-dados/ex2data2.txt', delimiter=',')\n",
    "pd.DataFrame(data).head()"
   ]
  },
  {
   "cell_type": "code",
   "execution_count": 3,
   "metadata": {},
   "outputs": [
    {
     "data": {
      "image/png": "[encoded data removed]",
      "text/plain": [
       "<matplotlib.figure.Figure at 0x119e16128>"
      ]
     },
     "metadata": {},
     "output_type": "display_data"
    },
    {
     "data": {
      "image/png": "[encoded data removed]",
      "text/plain": [
       "<matplotlib.figure.Figure at 0x11d417eb8>"
      ]
     },
     "metadata": {},
     "output_type": "display_data"
    }
   ],
   "source": [
    "# Visualização da Distribuição dos Dados conforme Histograma\n",
    "pd.DataFrame(data).hist()\n",
    "plt.show()\n",
    "\n",
    "plt.figure(figsize=(10,5))\n",
    "pd.DataFrame(data)[0].hist(), pd.DataFrame(data)[1].hist(), pd.DataFrame(data)[2].hist()\n",
    "plt.show();"
   ]
  },
  {
   "cell_type": "code",
   "execution_count": 4,
   "metadata": {},
   "outputs": [
    {
     "data": {
      "text/html": [
       "<div>\n",
       "<style>\n",
       "    .dataframe thead tr:only-child th {\n",
       "        text-align: right;\n",
       "    }\n",
       "\n",
       "    .dataframe thead th {\n",
       "        text-align: left;\n",
       "    }\n",
       "\n",
       "    .dataframe tbody tr th {\n",
       "        vertical-align: top;\n",
       "    }\n",
       "</style>\n",
       "<table border=\"1\" class=\"dataframe\">\n",
       "  <thead>\n",
       "    <tr style=\"text-align: right;\">\n",
       "      <th></th>\n",
       "      <th>0</th>\n",
       "      <th>1</th>\n",
       "      <th>2</th>\n",
       "    </tr>\n",
       "  </thead>\n",
       "  <tbody>\n",
       "    <tr>\n",
       "      <th>count</th>\n",
       "      <td>118.00</td>\n",
       "      <td>118.00</td>\n",
       "      <td>118.00</td>\n",
       "    </tr>\n",
       "    <tr>\n",
       "      <th>mean</th>\n",
       "      <td>0.05</td>\n",
       "      <td>0.18</td>\n",
       "      <td>0.49</td>\n",
       "    </tr>\n",
       "    <tr>\n",
       "      <th>std</th>\n",
       "      <td>0.50</td>\n",
       "      <td>0.52</td>\n",
       "      <td>0.50</td>\n",
       "    </tr>\n",
       "    <tr>\n",
       "      <th>min</th>\n",
       "      <td>-0.83</td>\n",
       "      <td>-0.77</td>\n",
       "      <td>0.00</td>\n",
       "    </tr>\n",
       "    <tr>\n",
       "      <th>25%</th>\n",
       "      <td>-0.37</td>\n",
       "      <td>-0.25</td>\n",
       "      <td>0.00</td>\n",
       "    </tr>\n",
       "    <tr>\n",
       "      <th>50%</th>\n",
       "      <td>-0.01</td>\n",
       "      <td>0.21</td>\n",
       "      <td>0.00</td>\n",
       "    </tr>\n",
       "    <tr>\n",
       "      <th>75%</th>\n",
       "      <td>0.48</td>\n",
       "      <td>0.65</td>\n",
       "      <td>1.00</td>\n",
       "    </tr>\n",
       "    <tr>\n",
       "      <th>max</th>\n",
       "      <td>1.07</td>\n",
       "      <td>1.11</td>\n",
       "      <td>1.00</td>\n",
       "    </tr>\n",
       "  </tbody>\n",
       "</table>\n",
       "</div>"
      ],
      "text/plain": [
       "            0       1       2\n",
       "count  118.00  118.00  118.00\n",
       "mean     0.05    0.18    0.49\n",
       "std      0.50    0.52    0.50\n",
       "min     -0.83   -0.77    0.00\n",
       "25%     -0.37   -0.25    0.00\n",
       "50%     -0.01    0.21    0.00\n",
       "75%      0.48    0.65    1.00\n",
       "max      1.07    1.11    1.00"
      ]
     },
     "execution_count": 4,
     "metadata": {},
     "output_type": "execute_result"
    }
   ],
   "source": [
    "pd.DataFrame(data).describe().round(2)"
   ]
  },
  {
   "cell_type": "markdown",
   "metadata": {},
   "source": [
    "### Gráfico de Dispersão para Visualização dos dados"
   ]
  },
  {
   "cell_type": "code",
   "execution_count": 5,
   "metadata": {},
   "outputs": [
    {
     "data": {
      "image/png": "[encoded data removed]",
      "text/plain": [
       "<matplotlib.figure.Figure at 0x11d3c3cf8>"
      ]
     },
     "metadata": {},
     "output_type": "display_data"
    }
   ],
   "source": [
    "positive = ( data[:, 2] == 1 )  \n",
    "negative = ( data[:, 2] == 0 )\n",
    "\n",
    "figura, grafico = plt.subplots(figsize=(10,5))  \n",
    "grafico.scatter(data[positive][:,0], data[positive][:,1], c='xkcd:black', marker='+', label='y=1')  \n",
    "grafico.scatter(data[negative][:,0], data[negative][:,1], c='xkcd:yellow', marker='o', label='y=0')  \n",
    "grafico.legend()  \n",
    "grafico.set_xlabel('Microchip Test1')  \n",
    "grafico.set_ylabel('Microchip Test2');"
   ]
  },
  {
   "cell_type": "markdown",
   "metadata": {},
   "source": [
    "## Mapeamento de características (_feature mapping_)\n",
    "\n",
    "Uma maneira de tornar os dados mais apropriados para a classificação é criar\n",
    "mais características a partir das já existentes. Para isso, você deve criar uma\n",
    "função **`mapFeature`**. Essa função deve ser implementada em um arquivo de\n",
    "nome **_`mapFeature.py`_**, que irá mapear as características para todos os termos\n",
    "polinomiais de x1 e x2, até a sexta potência. Como resultado desse mapeamento, nosso \n",
    "vetor de duas características (os escores nos dois testes de QA) será transformado \n",
    "em um **vetor de _28 dimensões_**.\n",
    "\n",
    "Um classificador que usa regressão logística treinado nesse vetor de características \n",
    "de maior dimensão terá uma fronteira de decisão mais complexa e parecerá não-linear \n",
    "quando desenhado em um gráfico bidimensional. \n",
    "\n",
    "Embora o mapeamento de características nos permita construir um classificador mais expressivo, \n",
    "também é mais suscetível a sobreajuste (overfitting). Desse modo, será implementada a \n",
    "**_Regressão Logística Regularizada_** sobre os dados fornecidos e também verá como a regularização pode \n",
    "ajudar a combater o problema do sobreajuste."
   ]
  },
  {
   "cell_type": "code",
   "execution_count": 6,
   "metadata": {
    "collapsed": true
   },
   "outputs": [],
   "source": [
    "def mapFeature(X1, X2):\n",
    "    '''\n",
    "    Função que mapeia características p/ os termos polinomiais X1 e X2 até a 6ª potência.\n",
    "    Retorna um novo conjunto com mais características, através do algoritmo de mapping\n",
    "    X1, X2, X1 ** 2, X2 ** 2, X1*X2, X1*X2 ** 2, etc...\n",
    "    Os parâmetros X1, X2 devem ser do mesmo tamanho\n",
    "    '''\n",
    "    # Potência padrão para o mapeamento\n",
    "    potencia = 6\n",
    "    \n",
    "    X1.shape = (X1.size, 1)\n",
    "    X2.shape = (X2.size, 1)\n",
    "    \n",
    "    features = np.ones(shape=(X1.size, 1))\n",
    "\n",
    "    for i in range(1, potencia + 1):\n",
    "        for j in range(i + 1):\n",
    "            r = (X1 ** (i - j)) * (X2 ** j)\n",
    "            features = np.append(features, r, axis=1)\n",
    "\n",
    "    return features"
   ]
  },
  {
   "cell_type": "markdown",
   "metadata": {},
   "source": [
    "### Testando a Função de Mapeamento de _Features_"
   ]
  },
  {
   "cell_type": "code",
   "execution_count": 7,
   "metadata": {
    "collapsed": true
   },
   "outputs": [],
   "source": [
    "A = np.array( pd.DataFrame(data)[0] )\n",
    "B = np.array( pd.DataFrame(data)[1] )"
   ]
  },
  {
   "cell_type": "code",
   "execution_count": 8,
   "metadata": {},
   "outputs": [
    {
     "data": {
      "text/plain": [
       "(118, 28)"
      ]
     },
     "execution_count": 8,
     "metadata": {},
     "output_type": "execute_result"
    }
   ],
   "source": [
    "X_feature = np.c_[mapFeature(A, B)]\n",
    "X_feature.shape"
   ]
  },
  {
   "cell_type": "markdown",
   "metadata": {},
   "source": [
    "## Função de custo e gradiente\n",
    "\n",
    "Agora, você deverá implementar o código para calcular **_a função de custo e\n",
    "o gradiente para a regressão logística regularizada_**. Crie um arquivo de nome\n",
    "costFunctionReg.py que contém uma função de nome costFunctionReg.py\n",
    "e que computa o custo e o gradiente. Lembre-se de que a função de custo\n",
    "regularizada na regressão logística é dada por:\n",
    "    \n",
    "$$J_{regularizado} = \\small \\underbrace{-\\frac{1}{m} \\sum\\limits_{i = 1}^{m} \\large{(}\\small y^{(i)}\\log\\left(x^{(i)}\\right) + (1-y^{(i)})\\log\\left(1- x^{(i)}\\right) \\large{)} }_\\text{Função de Custo} + \\underbrace{\\frac{\\lambda}{2m} \\sum\\limits_{j = 1}^{n}\\ {\\theta}_{j}^{2} }_\\text{Fator Regularização} $$\n",
    "    \n",
    "Depois de concluir a implementação da função **costFunctionReg**, você deve\n",
    "testar a corretude dela usando o valor inicial de ${\\theta}$ (inicializado todo com zeros).\n",
    "Você deve ver que o custo é de cerca de `0.693`.\n",
    "Porém, usando a função **costFunctionReg**, você agora deve computar os valores ótimos para ${\\theta}$."
   ]
  },
  {
   "cell_type": "code",
   "execution_count": 9,
   "metadata": {
    "collapsed": true
   },
   "outputs": [],
   "source": [
    "def sigmoid(x):\n",
    "    '''\n",
    "    A função sigmoid\n",
    "    '''\n",
    "    g = np.array([x]).flatten()\n",
    "    s = 1 / (1 + np.exp(-x))\n",
    "    return s"
   ]
  },
  {
   "cell_type": "code",
   "execution_count": 10,
   "metadata": {
    "collapsed": true
   },
   "outputs": [],
   "source": [
    "def minFunction(theta, Lambda, X, y):\n",
    "    '''\n",
    "    Função de minimização sobrescrita  p/ atender à Função Objetivo \n",
    "    'costFunctionReg' e com o a aplicação de gradiente 'gradientReg'\n",
    "    '''\n",
    "    \n",
    "    M = minimize(costFunctionReg, theta, args=(Lambda, X, y), jac=gradientReg, options={'maxiter':3000})\n",
    "    print('Custo de Minimização da Função: ', np.round(M.fun, 4))\n",
    "    print('Custo da Função: ',M.status)\n",
    "    print('Nº de Iterações necessárias: ',M.nit)\n",
    "    print('Êxito de Otimização: ',M.message)\n",
    "    return M"
   ]
  },
  {
   "cell_type": "code",
   "execution_count": 11,
   "metadata": {
    "collapsed": true
   },
   "outputs": [],
   "source": [
    "def costFunctionReg(theta, X, y, alpha): \n",
    "    '''\n",
    "    A versão do GD que acabamos de estudar é denominada *Batch gradienteient Descent*.\n",
    "    Em cada iteração do algoritmo, todo o conjunto de treinamento é utilizado.\n",
    "\n",
    "        X = características (features)\n",
    "        y = alvo (target)\n",
    "        Lambda = Taxa de regularização\n",
    "    '''\n",
    "    \n",
    "    m = y.size\n",
    "    h = sigmoid(X.dot(theta))\n",
    "    Reg = (alpha/(2*m))*np.sum(np.square(theta[1:]))\n",
    "    J = -1*(1/m)*(np.log(h).T.dot(y)+np.log(1-h).T.dot(1-y)) + Reg \n",
    "    \n",
    "    if np.isnan(J[0]): return(np.inf)\n",
    "    \n",
    "    return(J[0])"
   ]
  },
  {
   "cell_type": "code",
   "execution_count": 12,
   "metadata": {
    "collapsed": true
   },
   "outputs": [],
   "source": [
    "def gradientReg(theta, X, y, alpha):\n",
    "    \n",
    "    m = y.size\n",
    "    h = sigmoid(X.dot(theta.reshape(-1,1)))\n",
    "    Reg = (alpha/m)*np.r_[[[0]],theta[1:].reshape(-1,1)]\n",
    "    grad = (1/m)*X.T.dot(h-y) + Reg\n",
    "        \n",
    "    return np.c_[grad]"
   ]
  },
  {
   "cell_type": "markdown",
   "metadata": {},
   "source": [
    "### Testando a Função de Custo e o Gradiente"
   ]
  },
  {
   "cell_type": "code",
   "execution_count": 13,
   "metadata": {},
   "outputs": [
    {
     "name": "stdout",
     "output_type": "stream",
     "text": [
      "Dimensionamento do y: (118, 1)\n",
      "Dimensionamento do X: (118, 28)\n"
     ]
    }
   ],
   "source": [
    "# Concatenando os valores de y de forma vetorizada\n",
    "\n",
    "y_feature = np.c_[pd.DataFrame(data)[2]]\n",
    "\n",
    "print('Dimensionamento do y: '+str(y_feature.shape))\n",
    "print('Dimensionamento do X: '+str(X_feature.shape))"
   ]
  },
  {
   "cell_type": "code",
   "execution_count": 14,
   "metadata": {},
   "outputs": [
    {
     "data": {
      "text/plain": [
       "0.69314718055994529"
      ]
     },
     "execution_count": 14,
     "metadata": {},
     "output_type": "execute_result"
    }
   ],
   "source": [
    "# Avaliando a Função de Custo Regularizada\n",
    "\n",
    "theta0 = np.zeros(X_feature.shape[1])\n",
    "costFunctionReg(theta0, X_feature, y_feature, 1)"
   ]
  },
  {
   "cell_type": "code",
   "execution_count": 15,
   "metadata": {
    "scrolled": true
   },
   "outputs": [
    {
     "data": {
      "text/plain": [
       "(28, 1)"
      ]
     },
     "execution_count": 15,
     "metadata": {},
     "output_type": "execute_result"
    }
   ],
   "source": [
    "# Avaliando a Gradiente Regularizado\n",
    "\n",
    "theta0 = np.zeros(X_feature.shape[1])\n",
    "grad = gradientReg(theta0, X_feature, y_feature, 1)\n",
    "grad.shape"
   ]
  },
  {
   "cell_type": "markdown",
   "metadata": {},
   "source": [
    "## Esboço da fronteira de decisão\n",
    "\n",
    "Nessa parte, você deve esboçar (plotar) a fronteira de decisão que foi aprendida\n",
    "para separar os exemplos positivos dos negativos. Crie uma arquivo de nome\n",
    "**``plotDecisionBoundary.py``**, para criar esse gráfico que traça o limite da decisão\n",
    "não-linear. Seu gráfico deve ser semelhante ao apresentado na **_Figura_** abaixo.\n",
    "\n",
    "![ScatterBoundaryPlot](scatter_boundary.jpg)"
   ]
  },
  {
   "cell_type": "code",
   "execution_count": 16,
   "metadata": {
    "collapsed": true
   },
   "outputs": [],
   "source": [
    "def plotDecisionBoundary(data, grad, LAMBDA):\n",
    "    ''' \n",
    "    Função que deve esboçar um Gráfico de Dispersão com a sua Fronteira de Decisão.\n",
    "    '''\n",
    "    \n",
    "    X = data[:,0:2]\n",
    "    y = np.c_[data[:,2]]\n",
    "    #theta = np.zeros(X_feature.shape[1])\n",
    "    \n",
    "    X_poli = PolynomialFeatures(6)\n",
    "    X_fit = X_poli.fit_transform(X)\n",
    "    #FMIN = minFunction(theta, 1, X_fit, y)\n",
    "    \n",
    "    # Plot decisionboundary\n",
    "    X0_min, X0_max = X[:,0].min(), X[:,0].max()\n",
    "    X1_min, X1_max = X[:,1].min(), X[:,1].max()\n",
    "    X0, X1 = np.meshgrid(np.linspace(X0_min, X0_max), np.linspace(X1_min, X1_max))\n",
    "    \n",
    "    h = sigmoid(X_poli.fit_transform(np.c_[X0.ravel(), X1.ravel()]).dot(grad))\n",
    "    #h = sigmoid((np.c_[X0.ravel(), X1.ravel()]).dot(grad))\n",
    "    h = h.reshape(X0.shape)\n",
    "\n",
    "    # Scatter plot of X,y and Get indexes for class 0 and class 1\n",
    "    neg = data[:,2] == 0\n",
    "    pos = data[:,2] == 1\n",
    "\n",
    "    # If no specific axes object has been passed, get the current axes\n",
    "    plt.figure(figsize=(10,5))\n",
    "    plt.contour(X0, X1, h, [0.5], linewidths=3, colors='g', s=60, label='Decision boundary'); \n",
    "    plt.scatter(data[pos][:,0], data[pos][:,1], marker='+', c='k', s=60, linewidth=2, label='y=1')\n",
    "    plt.scatter(data[neg][:,0], data[neg][:,1], marker='o', c='y', s=60, linewidth=2, label='y=0')\n",
    "    plt.xlabel('Microchip Test 1')\n",
    "    plt.ylabel('Microchip Test 2')      \n",
    "    plt.title('Lambda = '+str(LAMBDA))\n",
    "    plt.legend(loc=1);"
   ]
  },
  {
   "cell_type": "markdown",
   "metadata": {},
   "source": [
    "### Avaliando o Gráfico da fronteira de decisão\n",
    "\n",
    "    A geração do Gráfico da Fronteira de decisão está falhando ao criar o objeto de Contorno. Por inúmeros testes nesse caso, eu acredito que o meu problema esteja relacionado na utilização na Função de Minimização do Pacote Optimize."
   ]
  },
  {
   "cell_type": "code",
   "execution_count": 17,
   "metadata": {},
   "outputs": [
    {
     "data": {
      "image/png": "[encoded data removed]",
      "text/plain": [
       "<matplotlib.figure.Figure at 0x11d74b8d0>"
      ]
     },
     "metadata": {},
     "output_type": "display_data"
    }
   ],
   "source": [
    "plotDecisionBoundary(data, grad, 1)"
   ]
  },
  {
   "cell_type": "markdown",
   "metadata": {},
   "source": [
    "# Regressão Linear com Regularização"
   ]
  },
  {
   "cell_type": "markdown",
   "metadata": {
    "collapsed": true
   },
   "source": [
    "Na primeira metade desta parte, você implementará a regressão linear com regularização para prever a quantidade de água fluindo de uma barragem usando a mudança do nível da água em um reservatório. Na próxima metade, você realizará diagnósticos dos algoritmos de aprendizado por meio de depuração e irá examinar os efeitos de viés (_bias_) e da variância (_variance_).\n",
    "\n",
    "Você irá usar o dataset fornecido no arquivo **ex5data1.mat$^1$**. Nesse arquivo há registros históricos na mudança no nível da água, _x_, e da quantidade de água que sai da barragem, _y_. Este conjunto de dados é dividido em três partes:\n",
    " - Um conjunto de treinamento que seu modelo aprenderá em: _**X**_, _**y**_\n",
    " - Um conjunto de validação cruzada para determinar o parâmetro de regularizacão: _**Xval**_, _**yval**_\n",
    " - Um conjunto de testes para avaliar o desempenho. Estes são exemplos que seu modelo não irá usar durante o treino: _**Xtest**_, _**ytest**_\n",
    "\n",
    "Os nomes das variáveis contidas no arquivo **ex5data1.mat** são os seguintes: _X_, _Xtest_, _Xval_, _y_, _ytest_, _yval_. Você irá precisar desses nomes para carregar os dados do arquivo para usar em seus scripts em Python.\n",
    "\n",
    "_____________________________________\n",
    "$^1$ Arquivos com a extensão **_.mat_** são normalmente criados no **Octave** ou no **Matlab**. Para\n",
    "carregar esse arquivo no Python, você pode usar o procedimento descrito em <http://www.\n",
    "blogforbrains.com/blog/2014/9/6/loading-matlab-mat-data-in-python>"
   ]
  },
  {
   "cell_type": "code",
   "execution_count": 18,
   "metadata": {},
   "outputs": [
    {
     "data": {
      "text/plain": [
       "dict_keys(['__header__', '__version__', '__globals__', 'X', 'y', 'Xtest', 'ytest', 'Xval', 'yval'])"
      ]
     },
     "execution_count": 18,
     "metadata": {},
     "output_type": "execute_result"
    }
   ],
   "source": [
    "dataMatlab = loadmat('am-T2-dados/ex5data1.mat')\n",
    "dataMatlab.keys()"
   ]
  },
  {
   "cell_type": "markdown",
   "metadata": {
    "collapsed": true
   },
   "source": [
    "## Visualização dos Dados\n",
    "\n",
    "Você deve começar por produzir uma visualização do conjunto de dados de treinamento. O gráfico que você deve produzir deve ser similar ao apresentado na Figura abaixo:\n",
    "\n",
    "![scatter_trainning.jpg](scatter_trainning.jpg)"
   ]
  },
  {
   "cell_type": "code",
   "execution_count": 19,
   "metadata": {},
   "outputs": [
    {
     "name": "stdout",
     "output_type": "stream",
     "text": [
      "##############################################################################\n",
      "Os Conjuntos de Treinamento e Validação: \n",
      "\tX_train: (12, 2)\n",
      "\ty_train: (12, 1)\n",
      "\tX_test: (21, 2)\n",
      "\ty_test: (21, 1)\n",
      "\tXval: (21, 2)\n",
      "\tyval: (21, 1)\n",
      "##############################################################################\n"
     ]
    },
    {
     "data": {
      "image/png": "[encoded data removed]",
      "text/plain": [
       "<matplotlib.figure.Figure at 0x11d987358>"
      ]
     },
     "metadata": {},
     "output_type": "display_data"
    }
   ],
   "source": [
    "# Obtendo o conjunto de treinamento para a Visualização Gráfica\n",
    "y_treino = dataMatlab['y']\n",
    "X_treino = np.c_[np.ones_like(dataMatlab['X']), dataMatlab['X']]\n",
    "\n",
    "y_teste = dataMatlab['ytest']\n",
    "X_teste = np.c_[np.ones_like(dataMatlab['Xtest']), dataMatlab['Xtest']]\n",
    "\n",
    "y_valida = dataMatlab['yval']\n",
    "X_valida = np.c_[np.ones_like(dataMatlab['Xval']), dataMatlab['Xval']]\n",
    "\n",
    "print('##############################################################################')\n",
    "print('Os Conjuntos de Treinamento e Validação: ')\n",
    "print('\\tX_train:', X_treino.shape)\n",
    "print('\\ty_train:', y_treino.shape)\n",
    "print('\\tX_test:', X_teste.shape)\n",
    "print('\\ty_test:', y_teste.shape)\n",
    "print('\\tXval:', X_valida.shape)\n",
    "print('\\tyval:', y_valida.shape)\n",
    "print('##############################################################################')\n",
    "\n",
    "plt.figure(figsize=(10,5))\n",
    "plt.scatter(X_treino[:, 1], y_treino, c='xkcd:red', marker='x', label='Water flow')\n",
    "plt.xlabel('Change in water level (x)')  \n",
    "plt.ylabel('Water following out of the dam (y)')\n",
    "plt.ylim(ymin=-5)\n",
    "plt.xlim(xmin=-50)\n",
    "plt.legend(loc=4);"
   ]
  },
  {
   "cell_type": "markdown",
   "metadata": {},
   "source": [
    "## Função de Custo de Regressão Linear Regularizada\n",
    "\n",
    "Lembre-se de que a regressão linear regularizada tem a seguinte função de custo:\n",
    "\n",
    "$$\\large J_{\\theta} = \\small {\\frac{1}{2m} \\sum\\limits_{i = 1}^{m} \\large{[}\\small h_{\\theta}\\left((x^{(i)}) - y^{(i)}\\right)^{2} \\large{]} } + {\\frac{\\lambda}{2m} \\sum\\limits_{j = 1}^{n}\\ {\\theta}_{j}^{2} } $$\n",
    "\n",
    "\n",
    "Lembre-se de quê um hyperparâmetro que controla o grau de regularização (e assim, ajuda a prevenir o excesso de sobreajuste). O termo de regularização impõe uma penalidade sobre o custo total $\\large J_{\\theta}$. Conforme as magnitudes dos parâmetros do modelo J aumentam, a penalização aumenta também. Note que você não deve regularizar o termo **${\\theta}$**.\n",
    "\n",
    "Sua tarefa é escrever uma função para calcular a função de custo da regressão linear regularizada. Você deve implementar esse código em um arquivo de nome ${linearRegCostFunction.py}$. Se possível, tente vetorizar seu código e evitar o uso de _loops_. Quando você tiver completado a implementação, verifique a corretude da sua função de custo usando ${\\theta}$ inicializado com (1, 1). Você deve esperar ver uma saída de _303.993_."
   ]
  },
  {
   "cell_type": "code",
   "execution_count": 20,
   "metadata": {
    "collapsed": true
   },
   "outputs": [],
   "source": [
    "def linearRegCostFunction(theta, X, y, Lambda):\n",
    "    '''\n",
    "\n",
    "        theta = conjunto de pesos\n",
    "        X = características (features)\n",
    "        y = alvo (target)\n",
    "        Lambda = Taxa de regularização\n",
    "    '''\n",
    "    \n",
    "    m = y.size\n",
    "    H = X.dot(theta)\n",
    "    J = (1/(2*m)) * np.sum(np.square(H-y)) \n",
    "    Reg = (Lambda/(2*m)) * np.sum(np.square(theta))\n",
    "   \n",
    "    return J+Reg"
   ]
  },
  {
   "cell_type": "code",
   "execution_count": 21,
   "metadata": {
    "collapsed": true
   },
   "outputs": [],
   "source": [
    "def linearRegGradient(theta, X, y, Lambda):\n",
    "    '''\n",
    "\n",
    "        theta = conjunto de pesos\n",
    "        X = características (features)\n",
    "        y = alvo (target)\n",
    "        Lambda = Taxa de regularização\n",
    "    '''\n",
    "    \n",
    "    m = y.size\n",
    "    h = X.dot(theta.reshape(-1,1))\n",
    "    Reg = (Lambda/m)*np.r_[[[0]],theta[1:].reshape(-1,1)]\n",
    "    grad = (1/m)*(X.T.dot(h-y))+ Reg \n",
    "        \n",
    "    return grad.flatten()"
   ]
  },
  {
   "cell_type": "code",
   "execution_count": 22,
   "metadata": {},
   "outputs": [
    {
     "data": {
      "text/plain": [
       "(12, 2)"
      ]
     },
     "execution_count": 22,
     "metadata": {},
     "output_type": "execute_result"
    }
   ],
   "source": [
    "X_treino.shape"
   ]
  },
  {
   "cell_type": "code",
   "execution_count": 23,
   "metadata": {},
   "outputs": [
    {
     "name": "stdout",
     "output_type": "stream",
     "text": [
      "303.951525554\n"
     ]
    }
   ],
   "source": [
    "theta0 = np.ones((X_treino.shape[1],1))\n",
    "cost = linearRegCostFunction(theta0, X_treino, y_treino, 0)\n",
    "print(cost)"
   ]
  },
  {
   "cell_type": "markdown",
   "metadata": {
    "collapsed": true
   },
   "source": [
    "## Gradiente na regressão linear regularizada\n",
    "\n",
    "A derivada parcial do gradiente da função de custo da regressão linear regularizada é um vetor no qual o *j-ésimo* elemento.\n",
    "\n",
    "No arquivo $linearRegCostFunction.py$, adicione código para calcular o gradiente. Quando você tiver completado essa implementação, teste a corretude usando $theta$ inicializado em $(1, 1)$. Você deve esperar ver um gradiente de $(-15.30, 598.250)$."
   ]
  },
  {
   "cell_type": "code",
   "execution_count": 24,
   "metadata": {},
   "outputs": [
    {
     "name": "stdout",
     "output_type": "stream",
     "text": [
      "[ -15.30301567  598.16741084]\n"
     ]
    }
   ],
   "source": [
    "theta0 = np.ones((X_treino.shape[1],1))\n",
    "gradient = linearRegGradient(theta0, X_treino, y_treino, 0)\n",
    "print(gradient)"
   ]
  },
  {
   "cell_type": "markdown",
   "metadata": {
    "collapsed": true
   },
   "source": [
    "## Ajustando os parâmetros da regressão linear\n",
    "\n",
    "Nesta parte, use a função **linearRegCostFunction** para computar os valores ótimos para $\\theta$, mas sem usar regularização, i.e., defina $\\lambda$ = 0. Após isso, construa um gráfico para visualiar o modelo construído. Seu gráfico deve ser similar ao apresentado na Figura abaixo.\n",
    "\n",
    "![plot_linear.jpg](plot_linear.jpg)"
   ]
  },
  {
   "cell_type": "code",
   "execution_count": 25,
   "metadata": {
    "collapsed": true
   },
   "outputs": [],
   "source": [
    "def trainLinearReg(theta, X, y, Lambda):\n",
    "    '''\n",
    "    Função para mininzar a Função de Custo 'linearRegCostFunction' com Gradiente 'linearRegGradient'.\n",
    "        theta = conjunto de pesos\n",
    "        X = características (features)\n",
    "        y = alvo (target)\n",
    "        Lambda = Taxa de regularização\n",
    "    '''\n",
    " \n",
    "    M = minimize(linearRegCostFunction, theta, args=(X,y,Lambda), jac=linearRegGradient, options={'maxiter':5000})\n",
    "    \n",
    "    return M"
   ]
  },
  {
   "cell_type": "markdown",
   "metadata": {},
   "source": [
    "### Caso 1:  Função de Minimização não convergiu com $\\large \\theta$ = array([[ 1.],[1.]])"
   ]
  },
  {
   "cell_type": "markdown",
   "metadata": {},
   "source": [
    " - Quando inicializamos o theta com valores 1, não houve sucesso na minimização."
   ]
  },
  {
   "cell_type": "code",
   "execution_count": 26,
   "metadata": {},
   "outputs": [
    {
     "data": {
      "text/plain": [
       "      fun: 1285.0884851841522\n",
       " hess_inv: array([[ 1.02731204,  0.00634135],\n",
       "       [ 0.00634135,  0.00120857]])\n",
       "      jac: array([ -3.6472391, -92.1177481])\n",
       "  message: 'Desired error not necessarily achieved due to precision loss.'\n",
       "     nfev: 102\n",
       "      nit: 3\n",
       "     njev: 90\n",
       "   status: 2\n",
       "  success: False\n",
       "        x: array([ 8.75688344,  0.2333203 ])"
      ]
     },
     "execution_count": 26,
     "metadata": {},
     "output_type": "execute_result"
    }
   ],
   "source": [
    "theta0 = np.ones((X_treino.shape[1],1))\n",
    "fit = trainLinearReg(theta0, X_treino, y_treino, 0)\n",
    "fit"
   ]
  },
  {
   "cell_type": "markdown",
   "metadata": {},
   "source": [
    "### Caso 2: Função de Minimização somente convergiu com  $\\large \\theta$ = array([[15],[15]])"
   ]
  },
  {
   "cell_type": "markdown",
   "metadata": {},
   "source": [
    "- Quando inicializamos o theta com valores 15, houve sucesso na minimização."
   ]
  },
  {
   "cell_type": "code",
   "execution_count": 27,
   "metadata": {},
   "outputs": [
    {
     "data": {
      "text/plain": [
       "      fun: 1604.4002999186634\n",
       " hess_inv: array([[ 1.03142187,  0.00617881],\n",
       "       [ 0.00617881,  0.001215  ]])\n",
       "      jac: array([  3.42437190e-12,  -5.70370264e-10])\n",
       "  message: 'Optimization terminated successfully.'\n",
       "     nfev: 6\n",
       "      nit: 4\n",
       "     njev: 6\n",
       "   status: 0\n",
       "  success: True\n",
       "        x: array([ 13.08790351,   0.36777923])"
      ]
     },
     "execution_count": 27,
     "metadata": {},
     "output_type": "execute_result"
    }
   ],
   "source": [
    "theta0 = np.array([[15],[15]])\n",
    "fit = trainLinearReg(theta0, X_treino, y_treino, 0)\n",
    "fit"
   ]
  },
  {
   "cell_type": "markdown",
   "metadata": {},
   "source": [
    "### Avaliação do Treinamento: $trainLinearReg$ VS $sklearn.LinearRegression$"
   ]
  },
  {
   "cell_type": "code",
   "execution_count": 28,
   "metadata": {},
   "outputs": [
    {
     "name": "stdout",
     "output_type": "stream",
     "text": [
      "trainLinearReg :[ 13.08790351   0.36777923]\n",
      "LinearRegression :[ 13.08790351   0.36777923]\n"
     ]
    }
   ],
   "source": [
    "from sklearn.linear_model import LinearRegression\n",
    "from sklearn.preprocessing import PolynomialFeatures\n",
    "\n",
    "regr = LinearRegression(fit_intercept=False)\n",
    "regr.fit(X_treino, y_treino.ravel())\n",
    "print('trainLinearReg :' +str(regr.coef_) )\n",
    "print('LinearRegression :' +str(fit.x) )"
   ]
  },
  {
   "cell_type": "markdown",
   "metadata": {},
   "source": [
    "### Gráfico Modelado com Regressão Linear Regularizada"
   ]
  },
  {
   "cell_type": "code",
   "execution_count": 29,
   "metadata": {},
   "outputs": [
    {
     "data": {
      "image/png": "[encoded data removed]",
      "text/plain": [
       "<matplotlib.figure.Figure at 0x11d230128>"
      ]
     },
     "metadata": {},
     "output_type": "display_data"
    }
   ],
   "source": [
    "plt.figure(figsize=(10,5))\n",
    "plt.plot(np.linspace(-50,40), (fit.x[0]+ (fit.x[1]*np.linspace(-50,40))), label='trainLinearReg')\n",
    "plt.scatter(X_treino[:,1], y_treino, s=50, c='r', marker='x', linewidths=2, label='Water flow')\n",
    "plt.xlabel('Change in water level (x)')\n",
    "plt.ylabel('Water flowing out of the dam (y)')\n",
    "plt.ylim(ymin=-5)\n",
    "plt.xlim(xmin=-50)\n",
    "plt.legend(loc=4);"
   ]
  },
  {
   "cell_type": "markdown",
   "metadata": {
    "collapsed": true
   },
   "source": [
    "# Viés-Variância"
   ]
  },
  {
   "cell_type": "markdown",
   "metadata": {
    "collapsed": true
   },
   "source": [
    "Um conceito importante no Aprendizado de Máquina é o relacionamento entre o **viés (bias) e a variância (variance)** de um modelo de aprendizado. Modelos com viés elevado não são suficientemente complexos para os dados e tendem a sofrer de subajuste (underfitting), enquanto que modelos com alta variância tendem a sofrer de sobreajuste.\n",
    "\n",
    "Nesta parte do trabalho, você irá produzir gráficos dos erros de treinamento e teste na forma de curvas de aprendizado para diagnosticar problemas de **_viés-variância_**."
   ]
  },
  {
   "cell_type": "markdown",
   "metadata": {
    "collapsed": true
   },
   "source": [
    "## Curvas de Aprendizado\n",
    "\n",
    "Agora você implementará código para gerar as curvas de aprendizado que serão úteis na depuração de algoritmos de aprendizagem. Lembre-se de que uma curva de aprendizagem traça erros de treinamento e de validação cruzada como funções do tamanho do conjunto de treinamento. Crie um arquivo de nome **learningCurve.py** que deve conter uma função (também chamada $learningCurve$) que retorna um vetor de erros para o conjunto de treinamento e conjunto de *validação cruzada*.\n",
    "\n",
    "Para traçar a curva de aprendizado, precisamos de um conjunto de treinamento e validação cruzada erro para diferentes tamanhos de conjuntos de treinamento. Para obter diferentes tamanhos de conjuntos de treinamento, você deve usar subconjuntos diferentes do conjunto de treinamento original **X**. Especificamente, para um tamanho de conjunto de treinamento de $i$, você deve usar os primeiros exemplos de i (ou seja, _**X**(1 : i; :)_ e _**y**(1 : i)_).\n",
    "\n",
    "Para cada tamanho de conjunto de treinamento, você encontrar os parâmetros $\\theta$. Note que o $lambda$ deve ser passado como um parâmetro para a função $learningCurve$. Depois de aprender os parâmetros $\\theta$, você deve calcular o erro nos conjuntos de treinamento e de validação. Lembre-se de que o erro de treinamento para um conjunto de dados é definido como:\n",
    "\n",
    "Em particular, note que o erro de treinamento não inclui o termo de regularização. Uma maneira de calcular o erro de treinamento é usar a sua função de custo já implementada e definir $\\lambda$ = 0 apenas para calcular o erro de treinamento e o erro de validação cruzada. Quando você estiver computando o erro no conjunto de treinamento, certifique-se de computá-lo no subconjunto de treinamento (ou seja, _**X**(1 : n; :)_ e _**y**(1 : n)_), em vez de usar todo o conjunto de treinamento). No entanto, para o erro de validação cruzada, você deve calculá-lo usando todo o conjunto de validação cruzada. Você deve armazenar os erros calculados em dois vetores. \n",
    "\n",
    "Quando você estiver terminado o que foi descrito acima, imprima as curvas de aprendizado e produza um gráfico similar ao apresentado na Figura abaixo.\n",
    "\n",
    "![plot_train.jpg](plot_train.jpg)\n",
    "\n",
    "Na curva que você irá produzir, você poderá observar que os erros de treinamento e de validação cruzada s~ao ambos altos quando o número de exemplos de treinamento é aumentado. Isso reflete o viés alto do modelo (o modelo de\n",
    "regressão linear é muito simples e não consegue se ajustear bem ao conjunto de dados). Na próxima seção, você irá implementar regressão polinomial para ajustar um modelo melhor a este conjunto de dados.\n"
   ]
  },
  {
   "cell_type": "code",
   "execution_count": 30,
   "metadata": {
    "collapsed": true
   },
   "outputs": [],
   "source": [
    "def learningCurve(X_treino, y_treino, X_valida, y_valida, Lambda):\n",
    "    '''\n",
    "    Função que retorna um vetor de erros para o conjunto de treinamento e conjunto de validação cruzada.\n",
    "        Conjunto de treinamento: X_treino, y_treino\n",
    "        Conjunto de validação: X_valida, y_valida\n",
    "        Lambda = 0\n",
    "    '''\n",
    "    \n",
    "    theta0 = np.array([[15],[15]])\n",
    "    m = y_treino.size\n",
    "    Erro_treino = np.zeros((m, 1))\n",
    "    Erro_valida = np.zeros((m, 1))\n",
    "    \n",
    "    for i in np.arange(m):\n",
    "        TR = trainLinearReg(theta0, X_treino[:i+1], y_treino[:i+1], Lambda)\n",
    "        Erro_treino[i] = linearRegCostFunction(TR.x, X_treino[:i+1], y_treino[:i+1], Lambda)\n",
    "        Erro_valida[i] = linearRegCostFunction(TR.x, X_valida, y_valida, Lambda)\n",
    "    \n",
    "    return(Erro_treino, Erro_valida)"
   ]
  },
  {
   "cell_type": "markdown",
   "metadata": {},
   "source": [
    "### Testando a Função de Curvas de Aprendizado "
   ]
  },
  {
   "cell_type": "code",
   "execution_count": 31,
   "metadata": {},
   "outputs": [
    {
     "name": "stdout",
     "output_type": "stream",
     "text": [
      "[[  8.87468518e-31]\n",
      " [  4.61809566e-01]\n",
      " [  7.03694242e+02]\n",
      " [  1.14419271e+03]\n",
      " [  1.28992654e+03]\n",
      " [  1.38750307e+03]\n",
      " [  1.36542539e+03]\n",
      " [  1.46345650e+03]\n",
      " [  1.46740034e+03]\n",
      " [  1.48802029e+03]\n",
      " [  1.46024924e+03]\n",
      " [  1.60440030e+03]]\n",
      "[[ 8535.69120495]\n",
      " [ 2778.99137362]\n",
      " [ 4375.516645  ]\n",
      " [ 4576.68063807]\n",
      " [ 3612.77578886]\n",
      " [ 3620.49134089]\n",
      " [ 3450.74926653]\n",
      " [ 3340.37076697]\n",
      " [ 3281.63342101]\n",
      " [ 3011.56894994]\n",
      " [ 2932.99290931]\n",
      " [ 2958.19686606]]\n"
     ]
    }
   ],
   "source": [
    "Erro_treino, Erro_valida = learningCurve(X_treino, y_treino, X_valida, y_valida, 0)\n",
    "print(Erro_treino)\n",
    "print(Erro_valida)"
   ]
  },
  {
   "cell_type": "markdown",
   "metadata": {},
   "source": [
    "### Gráfico de Curvas de Aprendizado"
   ]
  },
  {
   "cell_type": "code",
   "execution_count": 32,
   "metadata": {},
   "outputs": [
    {
     "data": {
      "image/png": "[encoded data removed]",
      "text/plain": [
       "<matplotlib.figure.Figure at 0x11d2ede10>"
      ]
     },
     "metadata": {},
     "output_type": "display_data"
    }
   ],
   "source": [
    "plt.figure(figsize=(10,5))\n",
    "plt.plot(np.arange(1,13), Erro_treino, c='blue', label='Train')\n",
    "plt.plot(np.arange(1,13), Erro_valida, c='green', label='Cross Validation')\n",
    "plt.title('Learning curve for linear regression')\n",
    "plt.xlabel('Number of training examples')\n",
    "plt.ylabel('Error')\n",
    "plt.legend(loc=1);"
   ]
  },
  {
   "cell_type": "markdown",
   "metadata": {},
   "source": [
    "# Regressão Polinomial"
   ]
  },
  {
   "cell_type": "markdown",
   "metadata": {
    "collapsed": true
   },
   "source": [
    "O problema com nosso modelo linear é que ele é muito simples para os dados e resultou em subajuste (*viés alto*). Nesta parte, você irá resolver esse problema adicionando mais características. Para usar a regressão polinomial, defina uma hipótese da seguinte forma:\n",
    "\n",
    "$$H_{\\theta}(x) = \\theta_{0} + \\theta_{1} * waterLevel + \\theta_{2} * waterLevel^{2} + ... + \\theta_{p} * waterLevel^{p}$$."
   ]
  },
  {
   "cell_type": "markdown",
   "metadata": {},
   "source": [
    "Observe que, ao definir $x_{1} = (WaterLevel)$, $x_{2} = (WaterLevel)^{2}$, ... , $x_{p} = (WaterLevel)^{p}$, obtemos um modelo de regressão linear onde os características são as diferentes pontências do valor original $(WaterLevel)$. Agora, você irá adiciona mais características usando as pontências da característica existente x no conjunto de dados. Sua tarefa nesta parte é implementar código em um arquivo de nome **polyFeatures.py**. Nesse arquivo, crie um função de mesmo nome que mapeie o conjunto de treinamento original $X$ de tamanho $m$ $x$ $1$ em suas potências mais altas. Especificamente, quando um conjunto de treinamento $X$ de tamanho $m$ $x$ $1$ for passado para essa função, ela deve retornar uma matriz $m$ $x$ $p$ de nome $X_poli$, onde a coluna 1 contém os valores originais de $X$, a coluna $2$ contém os valores de $x^{2}$, a coluna 3 contém os valores de $x^{3}$, e assim por diante. Note que você não tem que considerar a potência de expoentezero nessa função. Após implementar o descrito acima, você terá uma função que mapeia características para uma maior dimensão."
   ]
  },
  {
   "cell_type": "code",
   "execution_count": 33,
   "metadata": {
    "collapsed": true
   },
   "outputs": [],
   "source": [
    "def polyFeatures(X, p):\n",
    "    '''\n",
    "    Função que mapeie o conjunto de treinamento X de tamanho M x 1 em n-ésima potência.\n",
    "    '''\n",
    "\n",
    "    X_poly = X\n",
    "    if p >= 2:\n",
    "        for k in range(1,p):\n",
    "            X_poly = np.column_stack((X_poly, np.power(X,k+1)))\n",
    "            \n",
    "    return X_poly"
   ]
  },
  {
   "cell_type": "code",
   "execution_count": 34,
   "metadata": {
    "collapsed": true
   },
   "outputs": [],
   "source": [
    "def normalizaFeatures(X):\n",
    "    '''\n",
    "    Função que calcula a normalizada para cada elemento, dado um vetor. \n",
    "    '''\n",
    "    \n",
    "    mu = np.mean(X, axis=0)\n",
    "    X_norm = X - mu\n",
    "\n",
    "    sigma = np.std(X_norm, axis=0)\n",
    "    X_norm = X_norm/sigma\n",
    "\n",
    "    return X_norm, mu, sigma"
   ]
  },
  {
   "cell_type": "markdown",
   "metadata": {},
   "source": [
    "## Preparação para a $Tarefa$ $de$ $Aprendizado$"
   ]
  },
  {
   "cell_type": "code",
   "execution_count": 35,
   "metadata": {},
   "outputs": [
    {
     "name": "stdout",
     "output_type": "stream",
     "text": [
      "X: (12, 1)\n",
      "y: (12, 1)\n",
      "Xtest: (21, 1)\n",
      "ytest: (21, 1)\n",
      "Xval: (21, 1)\n",
      "yval: (21, 1)\n"
     ]
    }
   ],
   "source": [
    "# Obtendo os conjuntos de Teste, Treino e Validação para a Tarefa de Aprendizado\n",
    "y = dataMatlab['y']\n",
    "X = dataMatlab['X']\n",
    "\n",
    "ytest = dataMatlab['ytest']\n",
    "Xtest = dataMatlab['Xtest']\n",
    "\n",
    "yval = dataMatlab['yval']\n",
    "Xval = dataMatlab['Xval']\n",
    "\n",
    "\n",
    "print('X:', X.shape)\n",
    "print('y:', y.shape)\n",
    "print('Xtest:', Xtest.shape)\n",
    "print('ytest:', ytest.shape)\n",
    "print('Xval:', Xval.shape)\n",
    "print('yval:', yval.shape)"
   ]
  },
  {
   "cell_type": "markdown",
   "metadata": {
    "collapsed": true
   },
   "source": [
    "# Regressão Polinomial - aprendizado"
   ]
  },
  {
   "cell_type": "markdown",
   "metadata": {
    "collapsed": true
   },
   "source": [
    "Depois de ter completado **polyFeatures.py**, você deve treinar um modelo de regressão polinomial usando sua função de custo da regressão linear. Tenha em mente que, apesar de termos termos polinomiais no vector de características, ainda estamos resolvendo um problema de otimização de regressão linear. Os termos polinomiais simplesmente se transformaram em características que podemos usar para aplicar regressão linear. Estamos usando a mesma função de custo e gradiente que você implementou para a parte anterior deste trabalho.\n",
    "\n",
    "Para esta parte do trabalho, você usará um polinômio de grau 8. Se executarmos o treinamento diretamente sobre os dados projetados, não iremos obter um bom resultado, porque as características não irão estar na mesma escala (por exemplo, um exemplo com x = 40 agora terá uma característica $x^{8} = 40^{8} = 6.5 \\times 10^{1} 2 $). \n",
    "\n",
    "Portanto, você vai precisar aplicar a normalização de características. Portanto, antes de aprender os parâmetros $\\theta$ para a regressão polinomial, você deve normalizar as características do conjunto de treinamento, e armazenar os parâmetros $\\mu$ e $\\sigma$. Depois de aprender os parâmetros $\\theta$, você deve ver gerar dois gráficos (que devem ser similares aos das $Figuras$ abaixo) gerados com a regressão polinomial com $\\lambda$ = 0.\n",
    "\n",
    "![plot_polinomial.jpg](plot_polinomial.jpg)"
   ]
  },
  {
   "cell_type": "markdown",
   "metadata": {},
   "source": [
    "## Tarefa de Aprendizado com as Funções $polyFeatures$ e $normalizaFeatures$"
   ]
  },
  {
   "cell_type": "code",
   "execution_count": 36,
   "metadata": {},
   "outputs": [
    {
     "name": "stdout",
     "output_type": "stream",
     "text": [
      "Normalized Training Example 1 \n",
      "[ 1.         -0.3782437  -0.78866232  0.19032872 -0.7375913   0.32025197\n",
      " -0.6171516   0.35983501 -0.53109126]\n"
     ]
    }
   ],
   "source": [
    "p = 8\n",
    "m = X.shape[0]\n",
    "\n",
    "X_poly = polyFeatures(X, p)\n",
    "X_poly, mu, sigma = normalizaFeatures(X_poly)  \n",
    "X_poly = np.column_stack((np.ones((m,1)), X_poly))\n",
    "\n",
    "X_poly_test = polyFeatures(Xtest, p)\n",
    "X_poly_test = (X_poly_test - mu) / sigma\n",
    "X_poly_test = np.column_stack((np.ones((X_poly_test.shape[0],1)), X_poly_test)) # Add Ones\n",
    "\n",
    "X_poly_val = polyFeatures(Xval, p)\n",
    "X_poly_val = (X_poly_val - mu) / sigma\n",
    "X_poly_val = np.column_stack((np.ones((X_poly_val.shape[0],1)), X_poly_val)) # Add Ones\n",
    "\n",
    "print('Normalized Training Example 1 ')\n",
    "print(X_poly[0, :])"
   ]
  },
  {
   "cell_type": "markdown",
   "metadata": {},
   "source": [
    "Da *Figura acima*, você deve perceber que o polinômio pode se ajustar aos pontos de dados muito bem, obtendo um baixo erro de treinamento. No entanto, o polinômio é muito complexo e até mesmo despenca nos extremos. Isso é um indicador de que o modelo de regressão polinomial está se ajustando demasiadamente aos dados de treinamento e que não irá generalizar bem. \n",
    "\n",
    "![plot_curva_aprendizado.jpg](plot_curva_aprendizado.jpg)\n",
    "\n",
    "Para entender melhor os problemas com o modelo não regularizado ($\\lambda$ = 0), você pode ver que a curva de aprendizado (na *Figura acima* ) apresenta erro de treinamento baixo, mas erro de validação alto. Há uma lacuna entre os erros de treinamento e validação cruzada, indicando um problema de variância alta."
   ]
  },
  {
   "cell_type": "markdown",
   "metadata": {},
   "source": [
    "# Tarefas adicionais (Opcionais)"
   ]
  },
  {
   "cell_type": "markdown",
   "metadata": {},
   "source": [
    "Ajuste do parâmetro de regularização. Teste o aprendizado para diferentes valores de lambda, $1 \\le \\lambda \\le 100$. Para $\\lambda = 1$, você deve ver o polinômio segue a tendência de dados bem e uma curva de aprendizado ($Figuras$ acima) mostrando que tanto o erro de validação quanto o erro de treinamento convergem para um valor relativamente baixo. Isso mostra que o modelo de regressão polinomial regularizado com $\\lambda = 1$ não sofre dos problema de viés alto ou de variância alta. De fato, esse modelo alcança um bom compromisso entre viés e variância. Para $\\lambda = 100$, você deve ver um polinômio ($Figura$ abaixo) que não segue os dados bem. Neste caso, há muita regularização, e o modelo é incapaz de se ajustar aos dados de treinamento.\n",
    "\n",
    "Defina o valor de $\\lambda$ usando o conjunto de validação. Implemente um método automatizado para selecionar o parâmetro $\\lambda$. Concretamente, use um conjunto de validação cruzada para avaliar quão bom é cada valor de $\\lambda$. Ao realizar essa tarefa, você deve encontrar um valor adequado de $\\lambda$ em torno de 3 (veja a $Figura$ abaixo). Tente valores de $\\lambda$ no intervalo $ \\left[0, 0.001, 0.003, 0.01, 0.03, 0.1, 0.3, 1, 3, 10\\right] $.\n",
    "\n",
    "Depois de selecionar o melhor valor de $\\lambda$ usando o conjunto de validação, você pode então avaliar o modelo no conjunto de teste para estimar o quão bem ele será executado em dados reais não vistos.\n",
    " \n",
    "![plot_lambda.jpg](plot_lambda.jpg)"
   ]
  }
 ],
 "metadata": {
  "kernelspec": {
   "display_name": "Python 3",
   "language": "python",
   "name": "python3"
  },
  "language_info": {
   "codemirror_mode": {
    "name": "ipython",
    "version": 3
   },
   "file_extension": ".py",
   "mimetype": "text/x-python",
   "name": "python",
   "nbconvert_exporter": "python",
   "pygments_lexer": "ipython3",
   "version": "3.6.1"
  }
 },
 "nbformat": 4,
 "nbformat_minor": 2
}
