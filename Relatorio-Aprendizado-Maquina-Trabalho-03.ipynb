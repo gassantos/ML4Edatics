{
 "cells": [
  {
   "cell_type": "code",
   "execution_count": null,
   "metadata": {
    "collapsed": true
   },
   "outputs": [],
   "source": []
  },
  {
   "cell_type": "markdown",
   "metadata": {},
   "source": [
    "# Redes Completamente Conectadas\n",
    "\n",
    "Uma instituição financeira possui uma base de dados com o histórico de crediário oferecido aos seus clientes. Baseado neste histórico, a instituição deseja criar um modelo de classificação para inferir se um novo cliente que submeteu uma requisição de empréstimo pagará ou não a dívida, caso o banco resolva realizar esse empréstimo. O conjunto de dados possui 1500 exemplos de créditos concedidos aos seus clientes. Esses registros estão contidos no arquivo **credtrain.txt**, que é fornecido juntamente com esse documento. Para cada cliente, são definidos `11 atributos (variáveis, características)`. Além disso, a última coluna de cada exemplo informa se o cliente honrou ou não o pagamento do empréstimo. Na `Tabela abaixo`, encontramos a descrição dos atributos."
   ]
  },
  {
   "cell_type": "markdown",
   "metadata": {},
   "source": [
    "| Variável \t| Descrição                    \t| Tipo       \t| Domínio         \t|\n",
    "|----------\t|------------------------------\t|------------\t|-----------------\t|\n",
    "| ESCT     \t| Estado civil                 \t| Categórica \t| 0,1,2,3         \t|\n",
    "| NDEP     \t| Número de dependentes        \t| Categórica \t| 0,1,2,3,4,5,6,7 \t|\n",
    "| RENDA    \t| Renda familiar               \t| Numérica   \t| 300 - 9765      \t|\n",
    "| TIPOR    \t| Tipo de residência           \t| Categórica \t| 0,1             \t|\n",
    "| VBEM     \t| Valor do bem a ser adquirido \t| Numérica   \t| 300 - 600       \t|\n",
    "| NPARC    \t| Número de parcelas           \t| Numérica   \t| 1 - 24          \t|\n",
    "| VPARC    \t| Valor da parcela             \t| Numérica   \t| 50 - 719        \t|\n",
    "| TEL      \t| Se o cliente possui telefone \t| Categórica \t| 0,1             \t|\n",
    "| IDADE    \t| Idade do cliente             \t| Numérica   \t| 18 - 70         \t|\n",
    "| RESMS    \t| Tempo de moradia (meses)     \t| Numérica   \t| 0 - 420         \t|\n",
    "| ENTRADA  \t| Valor da entrada             \t| Numérica   \t| 0 - 1300        \t|\n",
    "| CLASSE   \t| =1 se o cliente pagou        \t| Categórica \t| 0,1             \t|"
   ]
  },
  {
   "cell_type": "markdown",
   "metadata": {},
   "source": [
    "Nesta parte, você deve criar um modelo de classificação, rede neural de múltiplas camadas com propagação do erro (`error backpropagation`). O objetivo desse modelo de classificação é predizer se um novo cliente pagaria ou não uma dívida contraída, tendo como base as características desse novo cliente. Esse modelo deve ser criado com o uso de funções e classes fornecidas pelo `Keras`."
   ]
  },
  {
   "cell_type": "markdown",
   "metadata": {},
   "source": [
    "## Um Exemplo Introdutório"
   ]
  },
  {
   "cell_type": "markdown",
   "metadata": {},
   "source": [
    "Para servir de exemplo sobre o procedimento de cria ̧c ̃ao de um modelo de classifica ̧c ̃ao,  ́e relevante que vocˆe realize no Matlab os passos descritos nesta se ̧c ̃ao. O objetivo  ́e que, ao fim desta se ̧c ̃ao, vocˆe tenha uma vis ̃ao geral do processo de criac ̧ ̃ao de um modelo de classificac ̧ ̃ao em um exemplo pequeno e possa aplic ́a-lo a um exemplo maior (i.e., o conjunto de dados de cr ́edito banc ́ario). A sequ ̈ˆencia de passos descrita nesta se ̧c ̃ao representa a criac ̧ ̃ao, treinamento (aprendizado) e teste de uma rede neural backpropagation com um conjunto de dados pequeno armazenado nas matrizes P e T. Ap ́os realizar esses passos, vocˆe deve aplicar o mesmo procedimento sobre o conjunto de dados de crédito (credtrain) fornecido neste trabalho, para finalmente obter o modelo de classificação."
   ]
  },
  {
   "cell_type": "code",
   "execution_count": 1,
   "metadata": {},
   "outputs": [
    {
     "name": "stderr",
     "output_type": "stream",
     "text": [
      "Using TensorFlow backend.\n"
     ]
    }
   ],
   "source": [
    "import numpy as np\n",
    "from keras.models import Sequential\n",
    "from keras.layers.core import Dense"
   ]
  },
  {
   "cell_type": "code",
   "execution_count": null,
   "metadata": {
    "collapsed": true
   },
   "outputs": [],
   "source": []
  }
 ],
 "metadata": {
  "kernelspec": {
   "display_name": "Python 3",
   "language": "python",
   "name": "python3"
  },
  "language_info": {
   "codemirror_mode": {
    "name": "ipython",
    "version": 3
   },
   "file_extension": ".py",
   "mimetype": "text/x-python",
   "name": "python",
   "nbconvert_exporter": "python",
   "pygments_lexer": "ipython3",
   "version": "3.6.1"
  }
 },
 "nbformat": 4,
 "nbformat_minor": 2
}
