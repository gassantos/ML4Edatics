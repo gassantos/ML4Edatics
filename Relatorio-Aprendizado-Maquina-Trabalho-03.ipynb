{
 "cells": [
  {
   "cell_type": "code",
   "execution_count": null,
   "metadata": {
    "collapsed": true
   },
   "outputs": [],
   "source": []
  },
  {
   "cell_type": "markdown",
   "metadata": {},
   "source": [
    "# Redes Completamente Conectadas\n",
    "\n",
    "Uma institui ̧c ̃ao financeira possui uma base de dados com o hist ́orico de credi ́ario oferecido aos seus clientes. Baseado neste hist ́orico, a institui ̧c ̃ao deseja criar um modelo de classifica ̧c ̃ao para inferir se um novo cliente que submeteu uma requisi ̧c ̃ao de empr ́estimo pagar ́a ou n ̃ao a d ́ıvida, caso o banco resolva realizar esse empr ́estimo. O conjunto de dados possui 1500 exemplos de cr ́editos conce- didos aos seus clientes. Esses registros est ̃ao contidos no arquivo credtrain.txt, que  ́e fornecido juntamente com esse documento. Para cada cliente, s ̃ao defi- nidos 11 atributos (vari ́aveis, caracter ́ısticas). Al ́em disso, a u ́ltima coluna de cada exemplo informa se o cliente honrou ou n ̃ao o pagamento do empr ́estimo. Na Tabela 1, encontramos a descri ̧c ̃ao dos atributos."
   ]
  },
  {
   "cell_type": "markdown",
   "metadata": {},
   "source": [
    "--- Colocar a Tabela 1 aqui"
   ]
  },
  {
   "cell_type": "markdown",
   "metadata": {},
   "source": [
    "Nesta parte, você deve criar um modelo de classificação, rede neural de múltiplas camadas com propagação do erro (`error backpropagation`). O objetivo desse modelo de classificação é predizer se um novo cliente pagaria ou não uma dívida contraída, tendo como base as características desse novo cliente. Esse modelo deve ser criado com o uso de funções e classes fornecidas pelo `Keras`."
   ]
  },
  {
   "cell_type": "markdown",
   "metadata": {},
   "source": [
    "## Um Exemplo Introdutório"
   ]
  },
  {
   "cell_type": "markdown",
   "metadata": {},
   "source": [
    "Para servir de exemplo sobre o procedimento de cria ̧c ̃ao de um modelo de classifica ̧c ̃ao,  ́e relevante que vocˆe realize no Matlab os passos descritos nesta se ̧c ̃ao. O objetivo  ́e que, ao fim desta se ̧c ̃ao, vocˆe tenha uma vis ̃ao geral do processo de criac ̧ ̃ao de um modelo de classificac ̧ ̃ao em um exemplo pequeno e possa aplic ́a-lo a um exemplo maior (i.e., o conjunto de dados de cr ́edito banc ́ario). A sequ ̈ˆencia de passos descrita nesta se ̧c ̃ao representa a criac ̧ ̃ao, treinamento (aprendizado) e teste de uma rede neural backpropagation com um conjunto de dados pequeno armazenado nas matrizes P e T. Ap ́os realizar esses passos, vocˆe deve aplicar o mesmo procedimento sobre o conjunto de dados de crédito (credtrain) fornecido neste trabalho, para finalmente obter o modelo de classificação."
   ]
  },
  {
   "cell_type": "code",
   "execution_count": null,
   "metadata": {
    "collapsed": true
   },
   "outputs": [],
   "source": []
  }
 ],
 "metadata": {
  "kernelspec": {
   "display_name": "Python 3",
   "language": "python",
   "name": "python3"
  },
  "language_info": {
   "codemirror_mode": {
    "name": "ipython",
    "version": 3
   },
   "file_extension": ".py",
   "mimetype": "text/x-python",
   "name": "python",
   "nbconvert_exporter": "python",
   "pygments_lexer": "ipython3",
   "version": "3.6.1"
  }
 },
 "nbformat": 4,
 "nbformat_minor": 2
}
