{
 "cells": [
  {
   "cell_type": "code",
   "execution_count": 1,
   "metadata": {
    "collapsed": true
   },
   "outputs": [],
   "source": [
    "import numpy as np"
   ]
  },
  {
   "cell_type": "code",
   "execution_count": 2,
   "metadata": {
    "collapsed": true
   },
   "outputs": [],
   "source": [
    "def learningCurve(X_treino, y_treino, X_valida, y_valida, Lambda):\n",
    "    '''\n",
    "    Função que retorna um vetor de erros para o conjunto de treinamento e conjunto de validação cruzada.\n",
    "        Conjunto de treinamento: X_treino, y_treino\n",
    "        Conjunto de validação: X_valida, y_valida\n",
    "        Lambda = 0\n",
    "    '''\n",
    "    \n",
    "    theta0 = np.array([[15],[15]])\n",
    "    m = y_treino.size\n",
    "    Erro_treino = np.zeros((m, 1))\n",
    "    Erro_valida = np.zeros((m, 1))\n",
    "    \n",
    "    for i in np.arange(m):\n",
    "        TR = trainLinearReg(theta0, X_treino[:i+1], y_treino[:i+1], Lambda)\n",
    "        Erro_treino[i] = linearRegCostFunction(TR.x, X_treino[:i+1], y_treino[:i+1], Lambda)\n",
    "        Erro_valida[i] = linearRegCostFunction(TR.x, X_valida, y_valida, Lambda)\n",
    "    \n",
    "    return(Erro_treino, Erro_valida)"
   ]
  }
 ],
 "metadata": {
  "kernelspec": {
   "display_name": "Python 3",
   "language": "python",
   "name": "python3"
  },
  "language_info": {
   "codemirror_mode": {
    "name": "ipython",
    "version": 3
   },
   "file_extension": ".py",
   "mimetype": "text/x-python",
   "name": "python",
   "nbconvert_exporter": "python",
   "pygments_lexer": "ipython3",
   "version": "3.6.1"
  }
 },
 "nbformat": 4,
 "nbformat_minor": 2
}
