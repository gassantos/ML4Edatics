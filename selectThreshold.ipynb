{
 "cells": [
  {
   "cell_type": "code",
   "execution_count": 1,
   "metadata": {
    "collapsed": true
   },
   "outputs": [],
   "source": [
    "import numpy as np"
   ]
  },
  {
   "cell_type": "code",
   "execution_count": 2,
   "metadata": {
    "collapsed": true
   },
   "outputs": [],
   "source": [
    "def selectThreshold(pval, yval):  \n",
    "    \n",
    "    EPSILON = 0\n",
    "    F1 = 0\n",
    "    f1 = 0\n",
    "\n",
    "    step = ((pval.max() - pval.min()) / 1000).astype(float)\n",
    "\n",
    "    for epsilon in np.arange(pval.min(), pval.max(), step):\n",
    "        \n",
    "        P = pval < epsilon\n",
    "        tp = np.sum(np.logical_and(P == 1, yval == 1)).astype(float)\n",
    "        fp = np.sum(np.logical_and(P == 1, yval == 0)).astype(float)\n",
    "        fn = np.sum(np.logical_and(P == 0, yval == 1)).astype(float)\n",
    "\n",
    "        prec = ( tp / (tp + fp) ).astype(float)\n",
    "        rec = ( tp / (tp + fn) ).astype(float)\n",
    "        f1 = (2 * prec * rec) / (prec + rec)\n",
    "\n",
    "        if f1 > F1:\n",
    "            F1 = f1\n",
    "            EPSILON = epsilon\n",
    "\n",
    "    return EPSILON, F1 "
   ]
  }
 ],
 "metadata": {
  "kernelspec": {
   "display_name": "Python 3",
   "language": "python",
   "name": "python3"
  },
  "language_info": {
   "codemirror_mode": {
    "name": "ipython",
    "version": 3
   },
   "file_extension": ".py",
   "mimetype": "text/x-python",
   "name": "python",
   "nbconvert_exporter": "python",
   "pygments_lexer": "ipython3",
   "version": "3.6.1"
  }
 },
 "nbformat": 4,
 "nbformat_minor": 2
}
