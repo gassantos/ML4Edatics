{
 "cells": [
  {
   "cell_type": "code",
   "execution_count": 1,
   "metadata": {
    "collapsed": true
   },
   "outputs": [],
   "source": [
    "import numpy as np"
   ]
  },
  {
   "cell_type": "code",
   "execution_count": 2,
   "metadata": {
    "collapsed": true
   },
   "outputs": [],
   "source": [
    "def sigmoid(x):\n",
    "    '''\n",
    "    A função sigmoid\n",
    "    '''\n",
    "    g = np.array([x]).flatten()\n",
    "    s = 1 / (1 + np.exp(-x))\n",
    "    return s"
   ]
  },
  {
   "cell_type": "code",
   "execution_count": 3,
   "metadata": {
    "collapsed": true
   },
   "outputs": [],
   "source": [
    "def costFunctionReg(theta, X, y, alpha): \n",
    "    '''\n",
    "    A versão do GD que acabamos de estudar é denominada *Batch gradienteient Descent*.\n",
    "    Em cada iteração do algoritmo, todo o conjunto de treinamento é utilizado.\n",
    "\n",
    "        X = características (features)\n",
    "        y = alvo (target)\n",
    "        Lambda = Taxa de regularização\n",
    "    '''\n",
    "    \n",
    "    m = y.size\n",
    "    h = sigmoid(X.dot(theta))\n",
    "    Reg = (alpha/(2*m))*np.sum(np.square(theta[1:]))\n",
    "    J = -1*(1/m)*(np.log(h).T.dot(y)+np.log(1-h).T.dot(1-y)) + Reg \n",
    "    \n",
    "    if np.isnan(J[0]): return(np.inf)\n",
    "    \n",
    "    return(J[0])"
   ]
  },
  {
   "cell_type": "code",
   "execution_count": 4,
   "metadata": {
    "collapsed": true
   },
   "outputs": [],
   "source": [
    "def gradientReg(theta, X, y, alpha):\n",
    "    \n",
    "    m = y.size\n",
    "    h = sigmoid(X.dot(theta.reshape(-1,1)))\n",
    "    Reg = (alpha/m)*np.r_[[[0]],theta[1:].reshape(-1,1)]\n",
    "    grad = (1/m)*X.T.dot(h-y) + Reg\n",
    "        \n",
    "    return np.c_[grad]"
   ]
  }
 ],
 "metadata": {
  "kernelspec": {
   "display_name": "Python 3",
   "language": "python",
   "name": "python3"
  },
  "language_info": {
   "codemirror_mode": {
    "name": "ipython",
    "version": 3
   },
   "file_extension": ".py",
   "mimetype": "text/x-python",
   "name": "python",
   "nbconvert_exporter": "python",
   "pygments_lexer": "ipython3",
   "version": "3.6.1"
  }
 },
 "nbformat": 4,
 "nbformat_minor": 2
}
