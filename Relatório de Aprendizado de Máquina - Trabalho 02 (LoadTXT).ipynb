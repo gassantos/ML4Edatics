{
 "cells": [
  {
   "cell_type": "markdown",
   "metadata": {},
   "source": [
    "# 1. Regressão Logística com Regularização\n",
    "\n",
    "Nesta parte do trabalho, será implementada a **_Regressão Logística Regularizada_**\n",
    "para prever se os microchips de uma usina de fabricação passam na garantia\n",
    "de qualidade (QA). Durante a QA, cada microchip passa por vários testes para\n",
    "garantir se está funcionando corretamente. Dessa forma, a Gestão de Produto da \n",
    "fábrica terá o resultados de teste para alguns microchips em dois testes diferentes. \n",
    "\n",
    "A partir desses dois testes, será determinado se os microchips deveriam ser \n",
    "aceitos ou rejeitados. Para auxiliar a tomar a decisão, há um conjunto de dados\n",
    "com resultados de testes anteriores sobre microchips, a partir do qual é possível construir\n",
    "um modelo de Regressão Logística.\n",
    "\n",
    "O arquivo {ex2data2.txt} contém os dados a serem usados nessa parte do trabalho. A primeira \n",
    "coluna corresponde aos resultados do primeiro teste, enquanto que a segunda coluna corresponde\n",
    "aos resultados do segundo teste. A terceira coluna contém os valores da classe (y = 0 significa \n",
    "rejeitado no teste, e y = 1 significa aceito no teste).\n",
    "\n",
    "## 1.1 Visualização dos Dados\n",
    "\n",
    "Para a maioria dos conjuntos de dados do mundo real, não é possível criar um gráfico para \n",
    "visualizar seus pontos. Mas, para o conjunto de dados fornecido, isso é possível. Implemente \n",
    "um script em _Python_ que produza um gráfico de dispersão (scatter plot) dos dados fornecidos. \n",
    "Após finalizado, seu script deve produzir um resultado similar ao apresentado na Figura abaixo.\n",
    "\n",
    "![ScatterPlot](scatter_plot2.jpg)\n"
   ]
  },
  {
   "cell_type": "code",
   "execution_count": 15,
   "metadata": {
    "collapsed": true
   },
   "outputs": [],
   "source": [
    "#import os \n",
    "#import pandas as pd\n",
    "#import numpy as np\n",
    "#import matplotlib as plt\n",
    "\n",
    "from numpy import loadtxt, where, append, zeros, ones, array, linspace, logspace\n",
    "from pylab import scatter, show, legend, xlabel, ylabel\n",
    "\n",
    "#%matplotlib inline\n",
    "\n",
    "# Carregando o arquivo gerado pelo MATLAB\n",
    "#import scipy.io\n",
    "#mat = scipy.io.loadmat('file.mat')"
   ]
  },
  {
   "cell_type": "code",
   "execution_count": 4,
   "metadata": {},
   "outputs": [
    {
     "ename": "NameError",
     "evalue": "name 'pd' is not defined",
     "output_type": "error",
     "traceback": [
      "\u001b[0;31m---------------------------------------------------------------------------\u001b[0m",
      "\u001b[0;31mNameError\u001b[0m                                 Traceback (most recent call last)",
      "\u001b[0;32m<ipython-input-4-32f3bc533a28>\u001b[0m in \u001b[0;36m<module>\u001b[0;34m()\u001b[0m\n\u001b[1;32m      1\u001b[0m \u001b[0;31m# Construindo um dataset com base num Dataframe, já identificando colunas e exibindo seus primeiros 20 registros.\u001b[0m\u001b[0;34m\u001b[0m\u001b[0;34m\u001b[0m\u001b[0m\n\u001b[0;32m----> 2\u001b[0;31m \u001b[0mdf\u001b[0m \u001b[0;34m=\u001b[0m \u001b[0mpd\u001b[0m\u001b[0;34m.\u001b[0m\u001b[0mread_csv\u001b[0m\u001b[0;34m(\u001b[0m\u001b[0;34m'am-T2-dados/ex2data2.txt'\u001b[0m\u001b[0;34m,\u001b[0m \u001b[0mnames\u001b[0m\u001b[0;34m=\u001b[0m\u001b[0;34m[\u001b[0m\u001b[0;34m'QATest1'\u001b[0m\u001b[0;34m,\u001b[0m \u001b[0;34m'QATest2'\u001b[0m\u001b[0;34m,\u001b[0m \u001b[0;34m'QAcceptance'\u001b[0m\u001b[0;34m]\u001b[0m\u001b[0;34m)\u001b[0m\u001b[0;34m\u001b[0m\u001b[0m\n\u001b[0m\u001b[1;32m      3\u001b[0m \u001b[0mdf\u001b[0m\u001b[0;34m.\u001b[0m\u001b[0mhead\u001b[0m\u001b[0;34m(\u001b[0m\u001b[0;34m)\u001b[0m\u001b[0;34m\u001b[0m\u001b[0m\n",
      "\u001b[0;31mNameError\u001b[0m: name 'pd' is not defined"
     ]
    }
   ],
   "source": [
    "# Construindo um dataset com base num Dataframe, já identificando colunas e exibindo seus primeiros 20 registros.\n",
    "df = pd.read_csv('am-T2-dados/ex2data2.txt', names=['QATest1', 'QATest2', 'QAcceptance'])\n",
    "df.head()"
   ]
  },
  {
   "cell_type": "code",
   "execution_count": 34,
   "metadata": {},
   "outputs": [
    {
     "data": {
      "image/png": "[encoded data removed]",
      "text/plain": [
       "<matplotlib.figure.Figure at 0x116d862b0>"
      ]
     },
     "metadata": {},
     "output_type": "display_data"
    },
    {
     "data": {
      "image/png": "[encoded data removed]",
      "text/plain": [
       "<matplotlib.figure.Figure at 0x117058ac8>"
      ]
     },
     "metadata": {},
     "output_type": "display_data"
    }
   ],
   "source": [
    "# Visualização da Distribuição dos Dados conforme Histograma\n",
    "\n",
    "df.hist()\n",
    "plt.pyplot.show()\n",
    "\n",
    "df.QATest1.hist(), df.QATest2.hist(), df.QAcceptance.hist()\n",
    "plt.pyplot.show()"
   ]
  },
  {
   "cell_type": "code",
   "execution_count": 35,
   "metadata": {},
   "outputs": [
    {
     "data": {
      "text/html": [
       "<div>\n",
       "<style>\n",
       "    .dataframe thead tr:only-child th {\n",
       "        text-align: right;\n",
       "    }\n",
       "\n",
       "    .dataframe thead th {\n",
       "        text-align: left;\n",
       "    }\n",
       "\n",
       "    .dataframe tbody tr th {\n",
       "        vertical-align: top;\n",
       "    }\n",
       "</style>\n",
       "<table border=\"1\" class=\"dataframe\">\n",
       "  <thead>\n",
       "    <tr style=\"text-align: right;\">\n",
       "      <th></th>\n",
       "      <th>QATest1</th>\n",
       "      <th>QATest2</th>\n",
       "      <th>QAcceptance</th>\n",
       "    </tr>\n",
       "  </thead>\n",
       "  <tbody>\n",
       "    <tr>\n",
       "      <th>count</th>\n",
       "      <td>118.000000</td>\n",
       "      <td>118.000000</td>\n",
       "      <td>118.000000</td>\n",
       "    </tr>\n",
       "    <tr>\n",
       "      <th>mean</th>\n",
       "      <td>0.054779</td>\n",
       "      <td>0.183102</td>\n",
       "      <td>0.491525</td>\n",
       "    </tr>\n",
       "    <tr>\n",
       "      <th>std</th>\n",
       "      <td>0.496654</td>\n",
       "      <td>0.519743</td>\n",
       "      <td>0.502060</td>\n",
       "    </tr>\n",
       "    <tr>\n",
       "      <th>min</th>\n",
       "      <td>-0.830070</td>\n",
       "      <td>-0.769740</td>\n",
       "      <td>0.000000</td>\n",
       "    </tr>\n",
       "    <tr>\n",
       "      <th>25%</th>\n",
       "      <td>-0.372120</td>\n",
       "      <td>-0.254385</td>\n",
       "      <td>0.000000</td>\n",
       "    </tr>\n",
       "    <tr>\n",
       "      <th>50%</th>\n",
       "      <td>-0.006336</td>\n",
       "      <td>0.213455</td>\n",
       "      <td>0.000000</td>\n",
       "    </tr>\n",
       "    <tr>\n",
       "      <th>75%</th>\n",
       "      <td>0.478970</td>\n",
       "      <td>0.646562</td>\n",
       "      <td>1.000000</td>\n",
       "    </tr>\n",
       "    <tr>\n",
       "      <th>max</th>\n",
       "      <td>1.070900</td>\n",
       "      <td>1.108900</td>\n",
       "      <td>1.000000</td>\n",
       "    </tr>\n",
       "  </tbody>\n",
       "</table>\n",
       "</div>"
      ],
      "text/plain": [
       "          QATest1     QATest2  QAcceptance\n",
       "count  118.000000  118.000000   118.000000\n",
       "mean     0.054779    0.183102     0.491525\n",
       "std      0.496654    0.519743     0.502060\n",
       "min     -0.830070   -0.769740     0.000000\n",
       "25%     -0.372120   -0.254385     0.000000\n",
       "50%     -0.006336    0.213455     0.000000\n",
       "75%      0.478970    0.646562     1.000000\n",
       "max      1.070900    1.108900     1.000000"
      ]
     },
     "execution_count": 35,
     "metadata": {},
     "output_type": "execute_result"
    }
   ],
   "source": [
    "df.describe()"
   ]
  },
  {
   "cell_type": "code",
   "execution_count": 36,
   "metadata": {},
   "outputs": [
    {
     "data": {
      "text/plain": [
       "count    118.00\n",
       "mean       0.05\n",
       "std        0.50\n",
       "min       -0.83\n",
       "25%       -0.37\n",
       "50%       -0.01\n",
       "75%        0.48\n",
       "max        1.07\n",
       "Name: QATest1, dtype: float64"
      ]
     },
     "execution_count": 36,
     "metadata": {},
     "output_type": "execute_result"
    }
   ],
   "source": [
    "df.QATest1.describe().round(2)"
   ]
  },
  {
   "cell_type": "code",
   "execution_count": 37,
   "metadata": {},
   "outputs": [
    {
     "data": {
      "text/plain": [
       "count    118.00\n",
       "mean       0.18\n",
       "std        0.52\n",
       "min       -0.77\n",
       "25%       -0.25\n",
       "50%        0.21\n",
       "75%        0.65\n",
       "max        1.11\n",
       "Name: QATest2, dtype: float64"
      ]
     },
     "execution_count": 37,
     "metadata": {},
     "output_type": "execute_result"
    }
   ],
   "source": [
    "df.QATest2.describe().round(2)"
   ]
  },
  {
   "cell_type": "code",
   "execution_count": 38,
   "metadata": {},
   "outputs": [
    {
     "data": {
      "text/plain": [
       "count    118.00\n",
       "mean       0.49\n",
       "std        0.50\n",
       "min        0.00\n",
       "25%        0.00\n",
       "50%        0.00\n",
       "75%        1.00\n",
       "max        1.00\n",
       "Name: QAcceptance, dtype: float64"
      ]
     },
     "execution_count": 38,
     "metadata": {},
     "output_type": "execute_result"
    }
   ],
   "source": [
    "df.QAcceptance.describe().round(2)"
   ]
  },
  {
   "cell_type": "code",
   "execution_count": 20,
   "metadata": {
    "collapsed": true
   },
   "outputs": [],
   "source": [
    "#load the dataset\n",
    "data = loadtxt('am-T2-dados/ex2data2.txt', delimiter=',')"
   ]
  },
  {
   "cell_type": "code",
   "execution_count": 55,
   "metadata": {},
   "outputs": [
    {
     "data": {
      "image/png": "[encoded data removed]",
      "text/plain": [
       "<matplotlib.figure.Figure at 0x11687fcf8>"
      ]
     },
     "metadata": {},
     "output_type": "display_data"
    }
   ],
   "source": [
    "X = data[:, 0:2]\n",
    "y = data[:, 2]\n",
    "\n",
    "pos = where(y == 1)\n",
    "neg = where(y == 0)\n",
    "scatter(X[pos, 0], X[pos, 1], marker='+', c='xkcd:black', label='Not Admitted')\n",
    "scatter(X[neg, 0], X[neg, 1], marker='o', c='xkcd:yellow', label='Admitted')\n",
    "legend(['Admitted', 'Not Admitted'])\n",
    "xlabel('Exam 1 score')\n",
    "ylabel('Exam 2 score')\n",
    "show()"
   ]
  },
  {
   "cell_type": "markdown",
   "metadata": {},
   "source": [
    "## 1.2 Mapeamento de características (_feature mapping_)\n",
    "\n",
    "Uma maneira de tornar os dados mais apropriados para a classificação é criar\n",
    "mais características a partir das já existentes. Para isso, você deve criar uma\n",
    "função **`mapFeature`**. Essa função deve ser implementada em um arquivo de\n",
    "nome **_`mapFeature.py`_**, que irá mapear as características para todos os termos\n",
    "polinomiais de x1 e x2, até a sexta potência. Como resultado desse mapeamento, nosso \n",
    "vetor de duas características (os escores nos dois testes de QA) será transformado \n",
    "em um **vetor de _28 dimensões_**.\n",
    "\n",
    "Um classificador que usa regressão logística treinado nesse vetor de características \n",
    "de maior dimensão terá uma fronteira de decisão mais complexa e parecerá não-linear \n",
    "quando desenhado em um gráfico bidimensional. \n",
    "\n",
    "Embora o mapeamento de características nos permita construir um classificador mais expressivo, \n",
    "também é mais suscetível a sobreajuste (overfitting). Desse modo, será implementada a \n",
    "**_Regressão Logística Regularizada_** sobre os dados fornecidos e também verá como a regularização pode \n",
    "ajudar a combater o problema do sobreajuste."
   ]
  },
  {
   "cell_type": "code",
   "execution_count": 12,
   "metadata": {
    "collapsed": true
   },
   "outputs": [],
   "source": []
  },
  {
   "cell_type": "code",
   "execution_count": 31,
   "metadata": {
    "collapsed": true
   },
   "outputs": [],
   "source": [
    "def map_feature(x1, x2):\n",
    "    '''\n",
    "    Maps the two input features to quadratic features.\n",
    "    Returns a new feature array with more features, comprising of\n",
    "    X1, X2, X1 ** 2, X2 ** 2, X1*X2, X1*X2 ** 2, etc...\n",
    "    Inputs X1, X2 must be the same size\n",
    "    '''\n",
    "    x1.shape = (x1.size, 1)\n",
    "    x2.shape = (x2.size, 1)\n",
    "    degree = 6\n",
    "    out = ones(shape=(x1[:, 0].size, 1))\n",
    "\n",
    "    m, n = out.shape\n",
    "\n",
    "    for i in range(1, degree + 1):\n",
    "        for j in range(i + 1):\n",
    "            r = (x1 ** (i - j)) * (x2 ** j)\n",
    "            out = append(out, r, axis=1)\n",
    "\n",
    "    return out"
   ]
  },
  {
   "cell_type": "code",
   "execution_count": 32,
   "metadata": {
    "collapsed": true
   },
   "outputs": [],
   "source": [
    "X = data[:, 0:2]\n",
    "y = data[:, 2]\n",
    "\n",
    "pos = where(y == 1)\n",
    "neg = where(y == 0)\n",
    "scatter(X[pos, 0], X[pos, 1], marker='o', c='b')\n",
    "scatter(X[neg, 0], X[neg, 1], marker='x', c='r')\n",
    "xlabel('Microchip Test 1')\n",
    "ylabel('Microchip Test 2')\n",
    "legend(['y = 1', 'y = 0'])\n",
    "\n",
    "\n",
    "m, n = X.shape\n",
    "y.shape = (m, 1)\n",
    "\n",
    "it = map_feature(X[:, 0], X[:, 1])"
   ]
  },
  {
   "cell_type": "code",
   "execution_count": 33,
   "metadata": {},
   "outputs": [
    {
     "data": {
      "text/plain": [
       "(118, 28)"
      ]
     },
     "execution_count": 33,
     "metadata": {},
     "output_type": "execute_result"
    }
   ],
   "source": [
    "it.shape"
   ]
  },
  {
   "cell_type": "markdown",
   "metadata": {},
   "source": [
    "## 1.3 Função de custo e gradiente\n",
    "\n",
    "Agora, você deverá implementar o código para calcular **_a função de custo e\n",
    "o gradiente para a regressão logística regularizada_**. Crie um arquivo de nome\n",
    "costFunctionReg.py que contém uma função de nome costFunctionReg.py\n",
    "e que computa o custo e o gradiente. Lembre-se de que a função de custo\n",
    "regularizada na regressão logística é dada por:\n",
    "    \n",
    "$$J_{regularizado} = \\small \\underbrace{-\\frac{1}{m} \\sum\\limits_{i = 1}^{m} \\large{(}\\small y^{(i)}\\log\\left(x^{(i)}\\right) + (1-y^{(i)})\\log\\left(1- x^{(i)}\\right) \\large{)} }_\\text{Função de Custo} + \\underbrace{\\frac{\\lambda}{2m} \\sum\\limits_{j = 1}^{n}\\ {\\theta}_{j}^{2} }_\\text{Fator Regularização} $$\n",
    "    \n",
    "Depois de concluir a implementação da função **costFunctionReg**, você deve\n",
    "testar a corretude dela usando o valor inicial de ${\\theta}$ (inicializado todo com zeros).\n",
    "Você deve ver que o custo é de cerca de `0.693`.\n",
    "Porém, usando a função **costFunctionReg**, você agora deve computar os valores ótimos para ${\\theta}$."
   ]
  },
  {
   "cell_type": "code",
   "execution_count": 36,
   "metadata": {
    "collapsed": true
   },
   "outputs": [],
   "source": [
    "from numpy import loadtxt, where, zeros, e, array, log, ones, append, linspace\n",
    "from pylab import scatter, show, legend, xlabel, ylabel, contour, title\n",
    "from scipy.optimize import fmin_bfgs\n",
    "\n",
    "\n",
    "def sigmoid(X):\n",
    "    '''Compute the sigmoid function '''\n",
    "    #d = zeros(shape=(X.shape))\n",
    "\n",
    "    den = 1.0 + e ** (-1.0 * X)\n",
    "\n",
    "    d = 1.0 / den\n",
    "\n",
    "    return d\n",
    "\n",
    "\n",
    "def cost_function_reg(theta, X, y, l):\n",
    "    '''Compute the cost and partial derivatives as grads\n",
    "    '''\n",
    "\n",
    "    h = sigmoid(X.dot(theta))\n",
    "\n",
    "    thetaR = theta[1:, 0]\n",
    "\n",
    "    J = (1.0 / m) * ((-y.T.dot(log(h))) - ((1 - y.T).dot(log(1.0 - h)))) + (l / (2.0 * m)) * (thetaR.T.dot(thetaR))\n",
    "\n",
    "    delta = h - y\n",
    "    sumdelta = delta.T.dot(X[:, 1])\n",
    "    grad1 = (1.0 / m) * sumdelta\n",
    "\n",
    "    XR = X[:, 1:X.shape[1]]\n",
    "    sumdelta = delta.T.dot(XR)\n",
    "\n",
    "    grad = (1.0 / m) * (sumdelta + l * thetaR)\n",
    "\n",
    "    out = zeros(shape=(grad.shape[0], grad.shape[1] + 1))\n",
    "\n",
    "    out[:, 0] = grad1\n",
    "    out[:, 1:] = grad\n",
    "\n",
    "    return J.flatten(), out.T.flatten()"
   ]
  },
  {
   "cell_type": "markdown",
   "metadata": {},
   "source": [
    "### 1.3.1 Testando a Função de Custo e o Gradiente"
   ]
  },
  {
   "cell_type": "code",
   "execution_count": 52,
   "metadata": {},
   "outputs": [
    {
     "data": {
      "text/plain": [
       "(array([ 0.69314718]),\n",
       " array([  1.87880932e-02,   1.87880932e-02,   7.77711864e-05,\n",
       "          5.03446395e-02,   1.15013308e-02,   3.76648474e-02,\n",
       "          1.83559872e-02,   7.32393391e-03,   8.19244468e-03,\n",
       "          2.34764889e-02,   3.93486234e-02,   2.23923907e-03,\n",
       "          1.28600503e-02,   3.09593720e-03,   3.93028171e-02,\n",
       "          1.99707467e-02,   4.32983232e-03,   3.38643902e-03,\n",
       "          5.83822078e-03,   4.47629067e-03,   3.10079849e-02,\n",
       "          3.10312442e-02,   1.09740238e-03,   6.31570797e-03,\n",
       "          4.08503006e-04,   7.26504316e-03,   1.37646175e-03,\n",
       "          3.87936363e-02]))"
      ]
     },
     "execution_count": 52,
     "metadata": {},
     "output_type": "execute_result"
    }
   ],
   "source": [
    "from scipy.optimize import fmin_bfgs\n",
    "\n",
    "m, n = X.shape\n",
    "y.shape = (m, 1)\n",
    "it = map_feature(X[:, 0], X[:, 1])\n",
    "\n",
    "#Initialize theta parameters\n",
    "initial_theta = zeros(shape=(it.shape[1], 1))\n",
    "\n",
    "#Set regularization parameter lambda to 1\n",
    "regularizacao = 1\n",
    "\n",
    "# Compute and display initial cost and gradient for regularized logistic regression\n",
    "cost, grad = cost_function_reg(initial_theta, it, y, regularizacao)\n",
    "\n",
    "#def decorated_cost(theta):\n",
    "#    return cost_function_reg(theta, it, y, l)\n",
    "\n",
    "#cost_function_reg(theta, it, y, l)\n",
    "\n",
    "#print fmin_bfgs(decorated_cost, initial_theta, args=(it, y, l), maxfun=400)\n",
    "\n",
    "cost, grad"
   ]
  },
  {
   "cell_type": "markdown",
   "metadata": {},
   "source": [
    "## 1.4 Esboço da fronteira de decisão\n",
    "\n",
    "Nessa parte, você deve esboçar (plotar) a fronteira de decisão que foi aprendida\n",
    "para separar os exemplos positivos dos negativos. Crie uma arquivo de nome\n",
    "**``plotDecisionBoundary.py``**, para criar esse gráfico que traça o limite da decisão\n",
    "não-linear. Seu gráfico deve ser semelhante ao apresentado na **_Figura_** abaixo.\n",
    "\n",
    "![ScatterBoundaryPlot](scatter_boundary.jpg)"
   ]
  },
  {
   "cell_type": "code",
   "execution_count": 56,
   "metadata": {},
   "outputs": [
    {
     "ename": "ValueError",
     "evalue": "zero-size array to reduction operation minimum which has no identity",
     "output_type": "error",
     "traceback": [
      "\u001b[0;31m---------------------------------------------------------------------------\u001b[0m",
      "\u001b[0;31mValueError\u001b[0m                                Traceback (most recent call last)",
      "\u001b[0;32m<ipython-input-56-59a0f178f678>\u001b[0m in \u001b[0;36m<module>\u001b[0;34m()\u001b[0m\n\u001b[1;32m     13\u001b[0m \u001b[0;34m\u001b[0m\u001b[0m\n\u001b[1;32m     14\u001b[0m \u001b[0mz\u001b[0m \u001b[0;34m=\u001b[0m \u001b[0mz\u001b[0m\u001b[0;34m.\u001b[0m\u001b[0mT\u001b[0m\u001b[0;34m\u001b[0m\u001b[0m\n\u001b[0;32m---> 15\u001b[0;31m \u001b[0mcontour\u001b[0m\u001b[0;34m(\u001b[0m\u001b[0mu\u001b[0m\u001b[0;34m,\u001b[0m \u001b[0mv\u001b[0m\u001b[0;34m,\u001b[0m \u001b[0mz\u001b[0m\u001b[0;34m)\u001b[0m\u001b[0;34m\u001b[0m\u001b[0m\n\u001b[0m\u001b[1;32m     16\u001b[0m \u001b[0mtitle\u001b[0m\u001b[0;34m(\u001b[0m\u001b[0;34m'lambda = %f'\u001b[0m \u001b[0;34m%\u001b[0m \u001b[0ml\u001b[0m\u001b[0;34m)\u001b[0m\u001b[0;34m\u001b[0m\u001b[0m\n\u001b[1;32m     17\u001b[0m \u001b[0mxlabel\u001b[0m\u001b[0;34m(\u001b[0m\u001b[0;34m'Microchip Test 1'\u001b[0m\u001b[0;34m)\u001b[0m\u001b[0;34m\u001b[0m\u001b[0m\n",
      "\u001b[0;32m/anaconda/lib/python3.6/site-packages/matplotlib/pyplot.py\u001b[0m in \u001b[0;36mcontour\u001b[0;34m(*args, **kwargs)\u001b[0m\n\u001b[1;32m   2851\u001b[0m                       mplDeprecation)\n\u001b[1;32m   2852\u001b[0m     \u001b[0;32mtry\u001b[0m\u001b[0;34m:\u001b[0m\u001b[0;34m\u001b[0m\u001b[0m\n\u001b[0;32m-> 2853\u001b[0;31m         \u001b[0mret\u001b[0m \u001b[0;34m=\u001b[0m \u001b[0max\u001b[0m\u001b[0;34m.\u001b[0m\u001b[0mcontour\u001b[0m\u001b[0;34m(\u001b[0m\u001b[0;34m*\u001b[0m\u001b[0margs\u001b[0m\u001b[0;34m,\u001b[0m \u001b[0;34m**\u001b[0m\u001b[0mkwargs\u001b[0m\u001b[0;34m)\u001b[0m\u001b[0;34m\u001b[0m\u001b[0m\n\u001b[0m\u001b[1;32m   2854\u001b[0m     \u001b[0;32mfinally\u001b[0m\u001b[0;34m:\u001b[0m\u001b[0;34m\u001b[0m\u001b[0m\n\u001b[1;32m   2855\u001b[0m         \u001b[0max\u001b[0m\u001b[0;34m.\u001b[0m\u001b[0m_hold\u001b[0m \u001b[0;34m=\u001b[0m \u001b[0mwashold\u001b[0m\u001b[0;34m\u001b[0m\u001b[0m\n",
      "\u001b[0;32m/anaconda/lib/python3.6/site-packages/matplotlib/__init__.py\u001b[0m in \u001b[0;36minner\u001b[0;34m(ax, *args, **kwargs)\u001b[0m\n\u001b[1;32m   1896\u001b[0m                     warnings.warn(msg % (label_namer, func.__name__),\n\u001b[1;32m   1897\u001b[0m                                   RuntimeWarning, stacklevel=2)\n\u001b[0;32m-> 1898\u001b[0;31m             \u001b[0;32mreturn\u001b[0m \u001b[0mfunc\u001b[0m\u001b[0;34m(\u001b[0m\u001b[0max\u001b[0m\u001b[0;34m,\u001b[0m \u001b[0;34m*\u001b[0m\u001b[0margs\u001b[0m\u001b[0;34m,\u001b[0m \u001b[0;34m**\u001b[0m\u001b[0mkwargs\u001b[0m\u001b[0;34m)\u001b[0m\u001b[0;34m\u001b[0m\u001b[0m\n\u001b[0m\u001b[1;32m   1899\u001b[0m         \u001b[0mpre_doc\u001b[0m \u001b[0;34m=\u001b[0m \u001b[0minner\u001b[0m\u001b[0;34m.\u001b[0m\u001b[0m__doc__\u001b[0m\u001b[0;34m\u001b[0m\u001b[0m\n\u001b[1;32m   1900\u001b[0m         \u001b[0;32mif\u001b[0m \u001b[0mpre_doc\u001b[0m \u001b[0;32mis\u001b[0m \u001b[0;32mNone\u001b[0m\u001b[0;34m:\u001b[0m\u001b[0;34m\u001b[0m\u001b[0m\n",
      "\u001b[0;32m/anaconda/lib/python3.6/site-packages/matplotlib/axes/_axes.py\u001b[0m in \u001b[0;36mcontour\u001b[0;34m(self, *args, **kwargs)\u001b[0m\n\u001b[1;32m   5823\u001b[0m             \u001b[0mself\u001b[0m\u001b[0;34m.\u001b[0m\u001b[0mcla\u001b[0m\u001b[0;34m(\u001b[0m\u001b[0;34m)\u001b[0m\u001b[0;34m\u001b[0m\u001b[0m\n\u001b[1;32m   5824\u001b[0m         \u001b[0mkwargs\u001b[0m\u001b[0;34m[\u001b[0m\u001b[0;34m'filled'\u001b[0m\u001b[0;34m]\u001b[0m \u001b[0;34m=\u001b[0m \u001b[0;32mFalse\u001b[0m\u001b[0;34m\u001b[0m\u001b[0m\n\u001b[0;32m-> 5825\u001b[0;31m         \u001b[0mcontours\u001b[0m \u001b[0;34m=\u001b[0m \u001b[0mmcontour\u001b[0m\u001b[0;34m.\u001b[0m\u001b[0mQuadContourSet\u001b[0m\u001b[0;34m(\u001b[0m\u001b[0mself\u001b[0m\u001b[0;34m,\u001b[0m \u001b[0;34m*\u001b[0m\u001b[0margs\u001b[0m\u001b[0;34m,\u001b[0m \u001b[0;34m**\u001b[0m\u001b[0mkwargs\u001b[0m\u001b[0;34m)\u001b[0m\u001b[0;34m\u001b[0m\u001b[0m\n\u001b[0m\u001b[1;32m   5826\u001b[0m         \u001b[0mself\u001b[0m\u001b[0;34m.\u001b[0m\u001b[0mautoscale_view\u001b[0m\u001b[0;34m(\u001b[0m\u001b[0;34m)\u001b[0m\u001b[0;34m\u001b[0m\u001b[0m\n\u001b[1;32m   5827\u001b[0m         \u001b[0;32mreturn\u001b[0m \u001b[0mcontours\u001b[0m\u001b[0;34m\u001b[0m\u001b[0m\n",
      "\u001b[0;32m/anaconda/lib/python3.6/site-packages/matplotlib/contour.py\u001b[0m in \u001b[0;36m__init__\u001b[0;34m(self, ax, *args, **kwargs)\u001b[0m\n\u001b[1;32m    863\u001b[0m \u001b[0;34m\u001b[0m\u001b[0m\n\u001b[1;32m    864\u001b[0m         \u001b[0mself\u001b[0m\u001b[0;34m.\u001b[0m\u001b[0m_process_args\u001b[0m\u001b[0;34m(\u001b[0m\u001b[0;34m*\u001b[0m\u001b[0margs\u001b[0m\u001b[0;34m,\u001b[0m \u001b[0;34m**\u001b[0m\u001b[0mkwargs\u001b[0m\u001b[0;34m)\u001b[0m\u001b[0;34m\u001b[0m\u001b[0m\n\u001b[0;32m--> 865\u001b[0;31m         \u001b[0mself\u001b[0m\u001b[0;34m.\u001b[0m\u001b[0m_process_levels\u001b[0m\u001b[0;34m(\u001b[0m\u001b[0;34m)\u001b[0m\u001b[0;34m\u001b[0m\u001b[0m\n\u001b[0m\u001b[1;32m    866\u001b[0m \u001b[0;34m\u001b[0m\u001b[0m\n\u001b[1;32m    867\u001b[0m         \u001b[0;32mif\u001b[0m \u001b[0mself\u001b[0m\u001b[0;34m.\u001b[0m\u001b[0mcolors\u001b[0m \u001b[0;32mis\u001b[0m \u001b[0;32mnot\u001b[0m \u001b[0;32mNone\u001b[0m\u001b[0;34m:\u001b[0m\u001b[0;34m\u001b[0m\u001b[0m\n",
      "\u001b[0;32m/anaconda/lib/python3.6/site-packages/matplotlib/contour.py\u001b[0m in \u001b[0;36m_process_levels\u001b[0;34m(self)\u001b[0m\n\u001b[1;32m   1197\u001b[0m         \u001b[0;31m# The following attributes are no longer needed, and\u001b[0m\u001b[0;34m\u001b[0m\u001b[0;34m\u001b[0m\u001b[0m\n\u001b[1;32m   1198\u001b[0m         \u001b[0;31m# should be deprecated and removed to reduce confusion.\u001b[0m\u001b[0;34m\u001b[0m\u001b[0;34m\u001b[0m\u001b[0m\n\u001b[0;32m-> 1199\u001b[0;31m         \u001b[0mself\u001b[0m\u001b[0;34m.\u001b[0m\u001b[0mvmin\u001b[0m \u001b[0;34m=\u001b[0m \u001b[0mnp\u001b[0m\u001b[0;34m.\u001b[0m\u001b[0mamin\u001b[0m\u001b[0;34m(\u001b[0m\u001b[0mself\u001b[0m\u001b[0;34m.\u001b[0m\u001b[0mlevels\u001b[0m\u001b[0;34m)\u001b[0m\u001b[0;34m\u001b[0m\u001b[0m\n\u001b[0m\u001b[1;32m   1200\u001b[0m         \u001b[0mself\u001b[0m\u001b[0;34m.\u001b[0m\u001b[0mvmax\u001b[0m \u001b[0;34m=\u001b[0m \u001b[0mnp\u001b[0m\u001b[0;34m.\u001b[0m\u001b[0mamax\u001b[0m\u001b[0;34m(\u001b[0m\u001b[0mself\u001b[0m\u001b[0;34m.\u001b[0m\u001b[0mlevels\u001b[0m\u001b[0;34m)\u001b[0m\u001b[0;34m\u001b[0m\u001b[0m\n\u001b[1;32m   1201\u001b[0m \u001b[0;34m\u001b[0m\u001b[0m\n",
      "\u001b[0;32m/anaconda/lib/python3.6/site-packages/numpy/core/fromnumeric.py\u001b[0m in \u001b[0;36mamin\u001b[0;34m(a, axis, out, keepdims)\u001b[0m\n\u001b[1;32m   2350\u001b[0m \u001b[0;34m\u001b[0m\u001b[0m\n\u001b[1;32m   2351\u001b[0m     return _methods._amin(a, axis=axis,\n\u001b[0;32m-> 2352\u001b[0;31m                           out=out, **kwargs)\n\u001b[0m\u001b[1;32m   2353\u001b[0m \u001b[0;34m\u001b[0m\u001b[0m\n\u001b[1;32m   2354\u001b[0m \u001b[0;34m\u001b[0m\u001b[0m\n",
      "\u001b[0;32m/anaconda/lib/python3.6/site-packages/numpy/core/_methods.py\u001b[0m in \u001b[0;36m_amin\u001b[0;34m(a, axis, out, keepdims)\u001b[0m\n\u001b[1;32m     27\u001b[0m \u001b[0;34m\u001b[0m\u001b[0m\n\u001b[1;32m     28\u001b[0m \u001b[0;32mdef\u001b[0m \u001b[0m_amin\u001b[0m\u001b[0;34m(\u001b[0m\u001b[0ma\u001b[0m\u001b[0;34m,\u001b[0m \u001b[0maxis\u001b[0m\u001b[0;34m=\u001b[0m\u001b[0;32mNone\u001b[0m\u001b[0;34m,\u001b[0m \u001b[0mout\u001b[0m\u001b[0;34m=\u001b[0m\u001b[0;32mNone\u001b[0m\u001b[0;34m,\u001b[0m \u001b[0mkeepdims\u001b[0m\u001b[0;34m=\u001b[0m\u001b[0;32mFalse\u001b[0m\u001b[0;34m)\u001b[0m\u001b[0;34m:\u001b[0m\u001b[0;34m\u001b[0m\u001b[0m\n\u001b[0;32m---> 29\u001b[0;31m     \u001b[0;32mreturn\u001b[0m \u001b[0mumr_minimum\u001b[0m\u001b[0;34m(\u001b[0m\u001b[0ma\u001b[0m\u001b[0;34m,\u001b[0m \u001b[0maxis\u001b[0m\u001b[0;34m,\u001b[0m \u001b[0;32mNone\u001b[0m\u001b[0;34m,\u001b[0m \u001b[0mout\u001b[0m\u001b[0;34m,\u001b[0m \u001b[0mkeepdims\u001b[0m\u001b[0;34m)\u001b[0m\u001b[0;34m\u001b[0m\u001b[0m\n\u001b[0m\u001b[1;32m     30\u001b[0m \u001b[0;34m\u001b[0m\u001b[0m\n\u001b[1;32m     31\u001b[0m \u001b[0;32mdef\u001b[0m \u001b[0m_sum\u001b[0m\u001b[0;34m(\u001b[0m\u001b[0ma\u001b[0m\u001b[0;34m,\u001b[0m \u001b[0maxis\u001b[0m\u001b[0;34m=\u001b[0m\u001b[0;32mNone\u001b[0m\u001b[0;34m,\u001b[0m \u001b[0mdtype\u001b[0m\u001b[0;34m=\u001b[0m\u001b[0;32mNone\u001b[0m\u001b[0;34m,\u001b[0m \u001b[0mout\u001b[0m\u001b[0;34m=\u001b[0m\u001b[0;32mNone\u001b[0m\u001b[0;34m,\u001b[0m \u001b[0mkeepdims\u001b[0m\u001b[0;34m=\u001b[0m\u001b[0;32mFalse\u001b[0m\u001b[0;34m)\u001b[0m\u001b[0;34m:\u001b[0m\u001b[0;34m\u001b[0m\u001b[0m\n",
      "\u001b[0;31mValueError\u001b[0m: zero-size array to reduction operation minimum which has no identity"
     ]
    }
   ],
   "source": [
    "#Plot Boundary\n",
    "m, n = X.shape\n",
    "y.shape = (m, 1)\n",
    "it = map_feature(X[:, 0], X[:, 1])\n",
    "theta = zeros(shape=(it.shape[1], 1))\n",
    "\n",
    "u = linspace(-1, 1.5, 50)\n",
    "v = linspace(-1, 1.5, 50)\n",
    "z = zeros(shape=(len(u), len(v)))\n",
    "for i in range(len(u)):\n",
    "    for j in range(len(v)):\n",
    "        z[i, j] = (map_feature(array(u[i]), array(v[j])).dot(array(theta)))\n",
    "\n",
    "z = z.T\n",
    "contour(u, v, z)\n",
    "title('lambda = %f' % l)\n",
    "xlabel('Microchip Test 1')\n",
    "ylabel('Microchip Test 2')\n",
    "legend(['y = 1', 'y = 0', 'Decision boundary'])\n",
    "show()"
   ]
  },
  {
   "cell_type": "code",
   "execution_count": 58,
   "metadata": {},
   "outputs": [
    {
     "ename": "IndexError",
     "evalue": "too many indices for array",
     "output_type": "error",
     "traceback": [
      "\u001b[0;31m---------------------------------------------------------------------------\u001b[0m",
      "\u001b[0;31mIndexError\u001b[0m                                Traceback (most recent call last)",
      "\u001b[0;32m<ipython-input-58-07b6553796d5>\u001b[0m in \u001b[0;36m<module>\u001b[0;34m()\u001b[0m\n\u001b[0;32m----> 1\u001b[0;31m \u001b[0mtheta\u001b[0m \u001b[0;34m=\u001b[0m \u001b[0mtheta\u001b[0m\u001b[0;34m[\u001b[0m\u001b[0;34m:\u001b[0m\u001b[0;34m,\u001b[0m\u001b[0;36m0\u001b[0m\u001b[0;34m]\u001b[0m  \u001b[0;31m# Make theta a 1-d array.\u001b[0m\u001b[0;34m\u001b[0m\u001b[0m\n\u001b[0m\u001b[1;32m      2\u001b[0m \u001b[0mx\u001b[0m \u001b[0;34m=\u001b[0m \u001b[0mlinspace\u001b[0m\u001b[0;34m(\u001b[0m\u001b[0;34m-\u001b[0m\u001b[0;36m6\u001b[0m\u001b[0;34m,\u001b[0m \u001b[0;36m6\u001b[0m\u001b[0;34m,\u001b[0m \u001b[0;36m50\u001b[0m\u001b[0;34m)\u001b[0m\u001b[0;34m\u001b[0m\u001b[0m\n\u001b[1;32m      3\u001b[0m \u001b[0my\u001b[0m \u001b[0;34m=\u001b[0m \u001b[0;34m-\u001b[0m\u001b[0;34m(\u001b[0m\u001b[0mtheta\u001b[0m\u001b[0;34m[\u001b[0m\u001b[0;36m0\u001b[0m\u001b[0;34m]\u001b[0m \u001b[0;34m+\u001b[0m \u001b[0mtheta\u001b[0m\u001b[0;34m[\u001b[0m\u001b[0;36m1\u001b[0m\u001b[0;34m]\u001b[0m\u001b[0;34m*\u001b[0m\u001b[0mx\u001b[0m\u001b[0;34m)\u001b[0m\u001b[0;34m/\u001b[0m\u001b[0mtheta\u001b[0m\u001b[0;34m[\u001b[0m\u001b[0;36m2\u001b[0m\u001b[0;34m]\u001b[0m\u001b[0;34m\u001b[0m\u001b[0m\n\u001b[1;32m      4\u001b[0m \u001b[0mplt\u001b[0m\u001b[0;34m.\u001b[0m\u001b[0mplot\u001b[0m\u001b[0;34m(\u001b[0m\u001b[0mx\u001b[0m\u001b[0;34m,\u001b[0m \u001b[0my\u001b[0m\u001b[0;34m)\u001b[0m\u001b[0;34m\u001b[0m\u001b[0m\n",
      "\u001b[0;31mIndexError\u001b[0m: too many indices for array"
     ]
    }
   ],
   "source": []
  },
  {
   "cell_type": "code",
   "execution_count": null,
   "metadata": {
    "collapsed": true
   },
   "outputs": [],
   "source": [
    "def predict(theta, X):\n",
    "    '''Predict whether the label\n",
    "    is 0 or 1 using learned logistic\n",
    "    regression parameters '''\n",
    "    m, n = X.shape\n",
    "    p = zeros(shape=(m, 1))\n",
    "\n",
    "    h = sigmoid(X.dot(theta.T))\n",
    "\n",
    "    for it in range(0, h.shape[0]):\n",
    "        if h[it] > 0.5:\n",
    "            p[it, 0] = 1\n",
    "        else:\n",
    "            p[it, 0] = 0\n",
    "\n",
    "    return p\n",
    "\n",
    "\n",
    "#% Compute accuracy on our training set\n",
    "p = predict(array(theta), it)\n",
    "print 'Train Accuracy: %f' % ((y[where(p == y)].size / float(y.size)) * 100.0)"
   ]
  },
  {
   "cell_type": "markdown",
   "metadata": {
    "collapsed": true
   },
   "source": [
    "## 1.3 Visualização de J(ø)\n",
    "\n",
    "Para melhor entender a função de custo, você irá nessa parte do trabalho plotar o custo sobre \n",
    "uma grade bidimensional de valores de 0 e de 1. Para isso, você deve usar sua implementação da função **computarCusto**.\n",
    "\n",
    "O código que você deve implementar deve gerar um array bidimensional de valores de J(ø). Os valores gerados pelo seu código devem estar na faixa a seguir: -10;0;+10 e -1;+4. Utilize incremento de 0.01 para gerar os valores de 0 e de 1.\n",
    "\n",
    "A seguir, usando a função _matplotlib.pyplot.contour_ da biblioteca matplotlib, produza um gráfico de curvas de contorno (contour plot). Também\n",
    "utilizando a biblioteca matplotlib, crie um gráfico da superfície correspondente a J(ø)."
   ]
  },
  {
   "cell_type": "code",
   "execution_count": null,
   "metadata": {
    "collapsed": true
   },
   "outputs": [],
   "source": [
    "# Adicionando uma coluna de 1's em X p/ X de teste\n",
    "X_teste = np.ones(shape=(m, 2))\n",
    "X_teste[:, 1] = X\n",
    "\n",
    "# Construindo a superfície para representar J(ø)\n",
    "theta0 = np.linspace(-10, 10, 100) # Intervalo para theta0 (-10;10)\n",
    "theta1 = np.linspace(-1, 4, 100)   # Intervalo para theta1 (-1;4)\n",
    "\n",
    "# Inicializando J(ø) com uma matriz de zeros\n",
    "J = np.zeros(shape=(theta0.size, theta1.size))\n",
    "\n",
    "# Preenchendo a matriz J\n",
    "for t1, element1 in enumerate(theta0):\n",
    "    for t2, element2 in enumerate(theta1):\n",
    "        thetaT = np.zeros(shape=(2, 1))\n",
    "        thetaT[0][0] = element1\n",
    "        thetaT[1][0] = element2\n",
    "        J[t1, t2] = computarCusto(X_teste, y, thetaT)\n",
    "\n",
    "# Plotando a Superfície de Contorno correspondente a J(ø)\n",
    "plt.contour(theta0, theta1, J.T, np.logspace(-4, 5, 50))\n",
    "plt.title('Gráfico da Superfície J(ø)')\n",
    "xlabel('Theta0')\n",
    "ylabel('Theta1')\n",
    "plt.scatter(theta[0][0], theta[1][0])\n",
    "show()"
   ]
  },
  {
   "cell_type": "markdown",
   "metadata": {},
   "source": [
    "# 2. Regressão Linear com Múltiplas Variáveis\n",
    "\n",
    "\n",
    "Nessa parte do trabalho, você irá implementar a regressão linear com múltiplas variáveis para predizer \n",
    "o preço de venda de imóveis. O arquivo ex1data2.txt contém informações acerca de preços de imóveis. \n",
    "A primeira coluna corersponde ao tamanho do imóvel (em _pés quadrados_). A segunda coluna corresponde à\n",
    "quantidade de dormitórios no imóvel em questão. A terceira coluna corresponde ao preço do imóvel.\n",
    "\n",
    "## Visualização dos dados"
   ]
  },
  {
   "cell_type": "code",
   "execution_count": null,
   "metadata": {
    "collapsed": true
   },
   "outputs": [],
   "source": [
    "# Carregando o dataset na forma de txt, porque tem melhor desempenho p/ representação gráfica e \n",
    "# principalmente na vertorização, se comparado ao Dataframe, utilizado na primeira seção deste trabalho.\n",
    "\n",
    "data = np.loadtxt('am-T1-dados/ex1data2.txt', delimiter=',')"
   ]
  },
  {
   "cell_type": "code",
   "execution_count": null,
   "metadata": {
    "collapsed": true
   },
   "outputs": [],
   "source": [
    "data"
   ]
  },
  {
   "cell_type": "code",
   "execution_count": null,
   "metadata": {
    "collapsed": true
   },
   "outputs": [],
   "source": [
    "# Inicializando visualização gráfica\n",
    "plano = plt.figure()\n",
    "plano = plano.add_subplot(111, projection='3d')\n",
    "\n",
    "# Criação dos pontos ('x' vermelhos) para o gráfico\n",
    "for c, m in [('red', 'x')]:\n",
    "    tamanho = data[:, 0] \n",
    "    quartos = data[:, 1] \n",
    "    valor   = data[:, 2] \n",
    "    plano.scatter(tamanho, quartos, valor, c=c, marker=m)\n",
    "\n",
    "\n",
    "# Plotando o Gráfico\n",
    "plano.set_xlabel('Tamanho')\n",
    "plano.set_ylabel('Nº de Quartos')\n",
    "plano.set_zlabel('Valor do Imóvel')\n",
    "show()"
   ]
  },
  {
   "cell_type": "markdown",
   "metadata": {
    "collapsed": true
   },
   "source": [
    "## 2.1 Normalização das características\n",
    "\n",
    "Se você inspecionar os valores do conjunto de dados fornecido, irá notar que os tamanhos dos imóveis são \n",
    "aproximadamente 1000 vezes maiores que as quantidades encontradas na coluna de quantidade de dormitórios. \n",
    "Sua tarefa nessa parte é implementar uma função denominada normalizarCaracteristica em um arquivo denominado \n",
    "normalizarCaracteristica.py. Essa função deve:\n",
    "\n",
    " - subtrair o valor médio de todas as características do conjunto de dados.\n",
    " - após subtrair a média, dividir cada característica pelos seus respectivos desvios padrões.\n",
    "\n",
    "A sua função **normalizarCaracteristica** deve a matriz de dados X de dados como parâmetro (na forma de um numpy array). Além disso, essa função deve funcionar com conjuntos de dados de variados tamanhos (qualquer quantidade\n",
    "de características / exemplos). Repare que cada coluna da matriz de dados X passada para a função **normalizarCaracteristica** deve corresponder a um característica.\n",
    "\n",
    "**Nota de Implementação**: Ao normalizar as características, é importante armazenar os valores utilizados para a normalização - o valor médio e o desvio padrão utilizados para a normalização. Depois de aprender os parâmetros do modelo, muitas vezes queremos prever os preços das casas que não temos visto antes. Dado um novo valor x (área da sala de estar e número de quartos), devemos normalizar x usando a média e o desvio padrão que nós previamente\n",
    "calculamos a partir do conjunto de treinamento."
   ]
  },
  {
   "cell_type": "code",
   "execution_count": null,
   "metadata": {
    "collapsed": true
   },
   "outputs": [],
   "source": [
    "def normalizarCaracteristica(X):\n",
    "    '''\n",
    "    Retorna uma versão normalizada de X onde o valor médio de cada característica é 0 \n",
    "    e o desvio padrão é 1. Este é frequentemente um bom passo de pré-processamento \n",
    "    a ser feito ao trabalhar com algoritmos de aprendizado.\n",
    "    '''\n",
    "    valormedio = []\n",
    "    desviopadrao = []\n",
    "    X_Normalizado = X\n",
    "\n",
    "    for i in range(X.shape[1]):\n",
    "        m = np.mean(X[:, i])\n",
    "        s = np.std(X[:, i])\n",
    "        valormedio.append(m)\n",
    "        desviopadrao.append(s)\n",
    "        X_Normalizado[:, i] = (X_Normalizado[:, i] - m) / s\n",
    "\n",
    "    return X_Normalizado, valormedio, desviopadrao"
   ]
  },
  {
   "cell_type": "markdown",
   "metadata": {},
   "source": [
    "## 2.2 Gradiente descendente\n",
    "\n",
    "Anteriormente, você implementou o GD em uma regressão linear univariada. A única diferença agora é que há mais uma característica na matriz de dados X. A função de hipótese h(x) e a atualização dos gradientes em lote permanecem inalteradas. Você deve implementar código nos arquivos denominados **computarCustoMulti.py** e **gdmulti.py** para implementar a função de custo e o algoritmo GD para regressão linear com múltiplas variáveis, respectivamente. Se o seu código na parte anterior (variável única) já provê suporte a múltiplas variáveis, você também pode reusá-lo aqui. Se assegure de que o seu código dá suporte a qualquer número de características e está bem vetorizado."
   ]
  },
  {
   "cell_type": "code",
   "execution_count": null,
   "metadata": {
    "collapsed": true
   },
   "outputs": [],
   "source": [
    "def computarCustoMulti(X, y, theta):\n",
    "    '''\n",
    "    Função que computa o custo para Regressão Linear com múltiplas variáveis.\n",
    "    '''\n",
    "    # Número do conjunto de treinamento\n",
    "    m = y.size\n",
    "    J = (1 / (2 * m)) * (X.dot(theta) - y).T.dot(X.dot(theta) - y)\n",
    "    return J"
   ]
  },
  {
   "cell_type": "code",
   "execution_count": null,
   "metadata": {
    "collapsed": true
   },
   "outputs": [],
   "source": [
    "def gradienteDescendenteMulti(X, y, theta, alpha, iteracoes):\n",
    "    '''\n",
    "    Essa função calcula o gradiente descendente conforme o Theta, e com\n",
    "    etapas de iteracoes gradiente mediante a taxa de aprendizado em Alpha.\n",
    "    '''\n",
    "    m = y.size\n",
    "    J = np.zeros(shape=(iteracoes, 1))\n",
    "\n",
    "    for i in range(iteracoes):\n",
    "        hipotese = X.dot(theta)\n",
    "        \n",
    "        for it in range(theta.size):\n",
    "            temp = X[:, it]\n",
    "            temp.shape = (m, 1)\n",
    "\n",
    "            errors_x1 = (hipotese - y) * temp\n",
    "            theta[it][0] = theta[it][0] - alpha * (1.0 / m) * errors_x1.sum()\n",
    "\n",
    "        J[i, 0] = computarCustoMulti(X, y, theta)\n",
    "\n",
    "    return J"
   ]
  },
  {
   "cell_type": "code",
   "execution_count": null,
   "metadata": {
    "collapsed": true
   },
   "outputs": [],
   "source": [
    "X = data[:, :2]\n",
    "y = data[:, 2]\n",
    "\n",
    "# Tamanho do conjunto de treinamento\n",
    "m = y.size\n",
    "y.shape = (m,1)\n",
    "\n",
    "# Normalizando X, obtendo Média e Desvio-padrão\n",
    "x, media, desviopadrao = normalizarCaracteristica(X)\n",
    "\n",
    "# Adicionando uma coluna de 1's ao novo X\n",
    "Xnovo = np.ones(shape=(m, 3))\n",
    "Xnovo[:, 1:3] = x\n",
    "\n",
    "# Atributos para a função GradienteDescendenteMulti\n",
    "iteracao = 100           # Número de repeticões p/ o algoritmo\n",
    "alpha = 0.01             # Taxa de aprendizado\n",
    "\n",
    "# Inicializando o Theta p/ execução da função GradienteDescendenteMulti\n",
    "theta = np.zeros(shape=(3, 1))\n",
    "J = gradienteDescendenteMulti(Xnovo, y, theta, alpha, iteracao)\n",
    "\n",
    "plot(np.arange(iteracao), J)\n",
    "xlabel('Iteracões')\n",
    "ylabel('Função de Custo')\n",
    "show()"
   ]
  },
  {
   "cell_type": "markdown",
   "metadata": {},
   "source": [
    "# 3. Regressão Logística\n",
    "\n",
    "Nessa parte do trabalho, você irá implementar a regressão logística. Em particular,\n",
    "você irá criar uma classificador para predizer se um estudante será admitido em uma \n",
    "universidade, com base nos resultados de duas avaliações. Suponha que estão disponíveis \n",
    "dados históricos acerca de realizações passadas dessas avaliações, e que esses dados \n",
    "históricos podem ser usados como conjunto de treinamento. Para cada exemplo desse conjunto \n",
    "de treinamento, temos as notas das duas avaliações e a decisão acerca do candidato \n",
    "(aprovado ou reprovado). \n",
    "\n",
    "Sua tarefa é construir um modelo de classificação que provê uma estimativa da probabilidade \n",
    "de admissão de um candidato, com base na notas que ele obteve nas duas avaliações. \n",
    "\n",
    "O arquivo **ex2data1.txt** contém os dados a serem usados nessa parte do trabalho."
   ]
  },
  {
   "cell_type": "markdown",
   "metadata": {},
   "source": [
    "## 3.1 Visualização dos dados\n",
    "\n",
    "Antes de começar a implementar qualquer algoritmo de aprendizado, é adequado\n",
    "visualizar os dados, quando possível. Nessa parte do trabalho, você deve\n",
    "carregar o arquivo com o conjunto de treinamento e plotar (i.e., produzir um\n",
    "gráfico) os pontos de dados. O resultado dessa tarefa deve ser um gráfico similar\n",
    "ao apresentado na _Figura_ abaixo.\n",
    "\n",
    "![Boundary.png](Boundary.png)\n"
   ]
  },
  {
   "cell_type": "code",
   "execution_count": null,
   "metadata": {
    "collapsed": true
   },
   "outputs": [],
   "source": [
    "# carregando os dados \n",
    "data = np.loadtxt('am-T1-dados/ex2data1.txt', delimiter=',', usecols=(0,1,2), unpack=True)"
   ]
  },
  {
   "cell_type": "code",
   "execution_count": null,
   "metadata": {
    "collapsed": true
   },
   "outputs": [],
   "source": [
    "# Transportando matriz\n",
    "X = np.transpose(np.array(data[:2]))\n",
    "y = np.transpose(np.array(data[2:]))\n",
    "\n",
    "# Tamanho do conjunto de treinamento\n",
    "m = y.size\n",
    "\n",
    "# Adicionando uma coluna de 1's ao novo X\n",
    "X = np.insert(X,0,1,axis=1)\n",
    "\n",
    "# Classificando a amostra em Positiva (data[:, 2]=1) e Negativa(data[:, 2]=0)\n",
    "X_Admitted  = np.array([X[i] for i in range(X.shape[0]) if y[i] == 1])\n",
    "X_Nadmitted = np.array([X[i] for i in range(X.shape[0]) if y[i] == 0])\n",
    "\n",
    "plt.figure(figsize=(16,8))\n",
    "plt.plot(X_Admitted[:, 1], X_Admitted[:, 2],'k+',label='Admitted')\n",
    "plt.plot(X_Nadmitted[:, 1], X_Nadmitted[:, 2],'yo',label='Not admitted')\n",
    "plt.title('Gráfico Decision Boundary p/ admissão de candidato', fontsize=18, fontweight='bold')\n",
    "plt.xlabel('Exam 1 Score', fontweight='bold')\n",
    "plt.ylabel('Exam 2 Score', fontweight='bold')\n",
    "plt.legend()\n",
    "plt.grid(False)    \n",
    "plt.show()"
   ]
  },
  {
   "cell_type": "markdown",
   "metadata": {},
   "source": [
    "## 3.2 Implementação\n",
    "\n",
    "### 3.2.1 Função sigmoide\n",
    "\n",
    "Como primeiro passo nessa parte, implemente a função em Python que calcula\n",
    "o valor da função **sigmoide**. Defina essa função em um arquivo denominado\n",
    "**_sigmoide.py_**, de tal forma que ela possa ser chamada de outras parte do seu\n",
    "código. Após finalizar sua implementação, você pode verificar sua corretude:\n",
    "\n",
    " - Para a sigmoide(0), o valor retornado deve ser 0.5. \n",
    " - Para valores muito grandes positivos (ou negativos), ela retornará um valor muito próximo de 1 (ou de 0). \n",
    "\n",
    "O seu código também deve funcionar com vetores (i.e., **o seu código deve estar vetorizado**). Em particular, se\n",
    "uma matriz for passada, o seu código deve aplicar a função sigmoide a cada componente."
   ]
  },
  {
   "cell_type": "code",
   "execution_count": null,
   "metadata": {
    "collapsed": true
   },
   "outputs": [],
   "source": [
    "def sigmoid(x):\n",
    "    '''\n",
    "    A função sigmoid\n",
    "    '''\n",
    "    g = np.array([x]).flatten()\n",
    "    s = 1 / (1 + np.exp(-g))\n",
    "    return s"
   ]
  },
  {
   "cell_type": "code",
   "execution_count": null,
   "metadata": {
    "collapsed": true
   },
   "outputs": [],
   "source": [
    "print('\\t ###########################  Teste para função sigmoid(0)  ###########################\\n')\n",
    "print('\\t O Valor da Sigmoid(0) é', sigmoid(0))\n",
    "print('\\t O Valor da Sigmoid([0,1,2,3000]) é', sigmoid(np.array([0,1,2,3000])))\n",
    "print('\\t ######################################################################################\\n')"
   ]
  },
  {
   "cell_type": "code",
   "execution_count": null,
   "metadata": {
    "collapsed": true
   },
   "outputs": [],
   "source": [
    "# Exibindo o gráfico da função Sigmoid\n",
    "X_teste = np.arange(-6,6,.5)\n",
    "plt.plot(X_teste, sigmoid(X_teste))\n",
    "plt.title(\"Função Sigmoid\", fontsize=18, fontweight='bold')\n",
    "plt.grid(True)\n",
    "plt.show()"
   ]
  },
  {
   "cell_type": "markdown",
   "metadata": {},
   "source": [
    "## 3.2.2 Função de custo e gradiente\n",
    "\n",
    "Agora, você deverá implementar a função de custo para a regressão logística.\n",
    "Essa função deve retornar o valor de função de custo e o gradiente. Implemente\n",
    "esse código em um arquivo denominado funcaoCustoRegressaoLogistica.py.\n",
    "Lembre-se de que o gradiente é um vetor com o mesmo número de elementos que ø.\n",
    "\n",
    "Uma vez que tenha implementado essa função, realize uma chamada usando\n",
    "o valor inicial de ø. Você deve confirmar que o valor produzido é aproximadamente 0.693."
   ]
  },
  {
   "cell_type": "code",
   "execution_count": null,
   "metadata": {
    "collapsed": true
   },
   "outputs": [],
   "source": [
    "def custoJ(theta, X, y):\n",
    "    '''\n",
    "    A função custoJ retorna o valor de função de custo:\n",
    "        X é uma matrix com n-colunas e m-linhas\n",
    "        y é um vetor com m-linhas\n",
    "        theta é um vetor n-dimensional\n",
    "        \n",
    "    Obs.: Será utilizada para facilitar o cálculo de minimização. \n",
    "    '''\n",
    "    m = len(y)\n",
    "    H = sigmoid(X.dot(theta).T)\n",
    "    J = -np.sum( y* np.log(H) + (1-y) * np.log(1-H))/m\n",
    "    return J"
   ]
  },
  {
   "cell_type": "code",
   "execution_count": null,
   "metadata": {
    "collapsed": true
   },
   "outputs": [],
   "source": [
    "def custoRegressaoLogistica(theta, X, y):\n",
    "    '''\n",
    "    A função funcaoCustoRegressaoLogistica retorna o valor de função de custo e o gradiente.\n",
    "        Returna J, gradiente:\n",
    "        \n",
    "        X é uma matrix com n-colunas e m-linhas\n",
    "        y é um vetor com m-linhas\n",
    "        theta é um vetor n-dimensional\n",
    "    '''\n",
    "    \n",
    "    # Calcula o Custo\n",
    "    m = len(y)\n",
    "    H = sigmoid(X.dot(theta).T)\n",
    "    J = -np.sum( y* np.log(H) + (1-y) * np.log(1-H))/m\n",
    "\n",
    "    # Calcula o Gradiente\n",
    "    erro = H-y\n",
    "    gradiente = []\n",
    "    for i in range(len(X.columns)):\n",
    "        gradiente.append(np.sum(erro*(X.iloc[:,i]))/m)\n",
    "    \n",
    "    return J, gradiente"
   ]
  },
  {
   "cell_type": "markdown",
   "metadata": {},
   "source": [
    "## 3.2.3 Aprendizado dos parâmetros\n",
    "\n",
    "Para a regressão logística, o objetivo é minimizar J(ø) com relação ao vetor\n",
    "de parâmetros ø. Sendo assim, nessa parte você deve implementar uma função\n",
    "em Python para encontrar o vetor ø que minimiza a função de custo. Utilize a\n",
    "função **funcaoCustoRegressaoLogistica** que você implementou previamente."
   ]
  },
  {
   "cell_type": "code",
   "execution_count": null,
   "metadata": {
    "collapsed": true
   },
   "outputs": [],
   "source": [
    "from scipy import optimize\n",
    "\n",
    "def minimizar(theta, X, y):\n",
    "    '''\n",
    "    A função minimizar J(ø) com relação ao vetor de parâmetros ø\n",
    "    '''\n",
    "    minimo = optimize.fmin(func=custoJ, x0=theta, args=(X, y), maxiter=1000, full_output=True)\n",
    "    return minimo[0], minimo[1]"
   ]
  },
  {
   "cell_type": "code",
   "execution_count": null,
   "metadata": {
    "collapsed": true
   },
   "outputs": [],
   "source": [
    "# Utilizando uma segunda estrutura de dados\n",
    "df = pd.read_csv('am-T1-dados/ex2data1.txt', names=['Exame1', 'Exame2', 'Admissao'])\n",
    "\n",
    "X = df.iloc[:, :2]\n",
    "y = df.iloc[:, 2]\n",
    "X.head()"
   ]
  },
  {
   "cell_type": "code",
   "execution_count": null,
   "metadata": {
    "collapsed": true
   },
   "outputs": [],
   "source": [
    "#add a column of ones to the feature matrix X to account for theta 0\n",
    "m = len(y)\n",
    "X.insert(0, \"theta0\",value=pd.Series(np.ones([m])))\n",
    "X.head()"
   ]
  },
  {
   "cell_type": "code",
   "execution_count": null,
   "metadata": {
    "collapsed": true
   },
   "outputs": [],
   "source": [
    "# Apresentando uma visualização gráfica com base na classificação\n",
    "from seaborn import lmplot\n",
    "\n",
    "g = lmplot(\"Exame1\", \"Exame2\", hue=\"Admissao\", data=df, fit_reg=True, palette = \"dark\", markers = [\"o\",\"x\"], legend = True)\n",
    "plt.xlabel(\"Exame 1 Score\")\n",
    "plt.ylabel(\"Exame 2 Score\")\n",
    "plot_x = np.array([min(X.iloc[:,2])-2,  max(X.iloc[:,2])+2])\n",
    "plt.ylim(30,100)"
   ]
  },
  {
   "cell_type": "code",
   "execution_count": null,
   "metadata": {
    "collapsed": true
   },
   "outputs": [],
   "source": [
    "theta0 = np.zeros([X.shape[1], 1])\n",
    "hypothesis = sigmoid(X.dot(theta0).T)\n",
    "print(hypothesis)"
   ]
  },
  {
   "cell_type": "code",
   "execution_count": null,
   "metadata": {
    "collapsed": true
   },
   "outputs": [],
   "source": [
    "print(custoRegressaoLogistica(theta0, X, y))"
   ]
  },
  {
   "cell_type": "code",
   "execution_count": null,
   "metadata": {
    "collapsed": true
   },
   "outputs": [],
   "source": [
    "# \n",
    "print(custoJ(theta0, X, y))"
   ]
  },
  {
   "cell_type": "code",
   "execution_count": null,
   "metadata": {
    "collapsed": true
   },
   "outputs": [],
   "source": [
    "# Avaliando a minimização\n",
    "X_min, theta_min = minimizar(theta0, X, y)\n",
    "print(X_min, theta_min)"
   ]
  },
  {
   "cell_type": "markdown",
   "metadata": {},
   "source": [
    "## 3.2.4 Avaliação do modelo\n",
    "\n",
    "Após o aprendizado dos parâmetros, você pode usar o modelo correspondente\n",
    "para predizer se um candidato qualquer será aprovado. Para um candidato\n",
    "com **_notas 45 e 85 na primeira e segunda avaliações_**, respectivamente, você deve\n",
    "esperar que ele seja aprovado com **probabilidade de 77.6%**.\n",
    "\n",
    "Outro modo de avaliar a qualidade dos parâmetros é verificar o quão bem o\n",
    "modelo aprendido prediz os pontos de dados do conjunto de treinamento. Nessa\n",
    "parte, você deve implementar uma função denominada predizer. Essa função\n",
    "deve produzir os valores 0 ou 1, dados um exemplo do conjunto de treinamento\n",
    "o vetor de parâmetros ø. Use essa função para produzir a porcentagem de\n",
    "acertos do seu classificador sobre o conjunto de treinamento."
   ]
  },
  {
   "cell_type": "code",
   "execution_count": null,
   "metadata": {
    "collapsed": true
   },
   "outputs": [],
   "source": [
    "def predizer(theta, X):\n",
    "    P = sigmoid(X.dot(theta))\n",
    "    return (P >= 0.5).astype(int)"
   ]
  },
  {
   "cell_type": "code",
   "execution_count": null,
   "metadata": {
    "collapsed": true
   },
   "outputs": [],
   "source": [
    "# Predição de Admissão do candidato\n",
    "A = np.array([1,45,85])\n",
    "H = sigmoid(A.dot(X_min))\n",
    "\n",
    "# Efetuando predição p/ Admissão de um candidato com notas 45 e 85 na primeira e segunda avaliações \n",
    "print('\\t ######################################  ALUNO TESTE  #################################\\n')\n",
    "print('\\t Para as notas 45 e 85 no 1º e 2º Exame prevê a probabilidade de admissão de %f' % H)\n",
    "print('\\t ######################################################################################\\n')"
   ]
  },
  {
   "cell_type": "markdown",
   "metadata": {},
   "source": [
    "## 2 - L2 Regularization\n",
    "\n",
    "The standard way to avoid overfitting is called **L2 regularization**. It consists of appropriately modifying your cost function, from:\n",
    "$$J = -\\frac{1}{m} \\sum\\limits_{i = 1}^{m} \\large{(}\\small  y^{(i)}\\log\\left(a^{[L](i)}\\right) + (1-y^{(i)})\\log\\left(1- a^{[L](i)}\\right) \\large{)} \\tag{1}$$\n",
    "To:\n",
    "$$J_{regularized} = \\small \\underbrace{-\\frac{1}{m} \\sum\\limits_{i = 1}^{m} \\large{(}\\small y^{(i)}\\log\\left(a^{[L](i)}\\right) + (1-y^{(i)})\\log\\left(1- a^{[L](i)}\\right) \\large{)} }_\\text{cross-entropy cost} + \\underbrace{\\frac{1}{m} \\frac{\\lambda}{2} \\sum\\limits_l\\sum\\limits_k\\sum\\limits_j W_{k,j}^{[l]2} }_\\text{L2 regularization cost} \\tag{2}$$\n",
    "\n",
    "Let's modify your cost and observe the consequences.\n",
    "\n",
    "**Exercise**: Implement `compute_cost_with_regularization()` which computes the cost given by formula (2). To calculate $\\sum\\limits_k\\sum\\limits_j W_{k,j}^{[l]2}$  , use :\n",
    "```python\n",
    "np.sum(np.square(Wl))\n",
    "```\n",
    "Note that you have to do this for $W^{[1]}$, $W^{[2]}$ and $W^{[3]}$, then sum the three terms and multiply by $ \\frac{1}{m} \\frac{\\lambda}{2} $."
   ]
  },
  {
   "cell_type": "code",
   "execution_count": null,
   "metadata": {
    "collapsed": true
   },
   "outputs": [],
   "source": []
  }
 ],
 "metadata": {
  "kernelspec": {
   "display_name": "Python 3",
   "language": "python",
   "name": "python3"
  },
  "language_info": {
   "codemirror_mode": {
    "name": "ipython",
    "version": 3
   },
   "file_extension": ".py",
   "mimetype": "text/x-python",
   "name": "python",
   "nbconvert_exporter": "python",
   "pygments_lexer": "ipython3",
   "version": "3.6.1"
  }
 },
 "nbformat": 4,
 "nbformat_minor": 2
}
