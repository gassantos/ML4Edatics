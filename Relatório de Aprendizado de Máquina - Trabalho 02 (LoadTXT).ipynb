{
 "cells": [
  {
   "cell_type": "markdown",
   "metadata": {},
   "source": [
    "# 1. Regressão Logística com Regularização\n",
    "\n",
    "Nesta parte do trabalho, será implementada a **_Regressão Logística Regularizada_**\n",
    "para prever se os microchips de uma usina de fabricação passam na garantia\n",
    "de qualidade (QA). Durante a QA, cada microchip passa por vários testes para\n",
    "garantir se está funcionando corretamente. Dessa forma, a Gestão de Produto da \n",
    "fábrica terá o resultados de teste para alguns microchips em dois testes diferentes. \n",
    "\n",
    "A partir desses dois testes, será determinado se os microchips deveriam ser \n",
    "aceitos ou rejeitados. Para auxiliar a tomar a decisão, há um conjunto de dados\n",
    "com resultados de testes anteriores sobre microchips, a partir do qual é possível construir\n",
    "um modelo de Regressão Logística.\n",
    "\n",
    "O arquivo {ex2data2.txt} contém os dados a serem usados nessa parte do trabalho. A primeira \n",
    "coluna corresponde aos resultados do primeiro teste, enquanto que a segunda coluna corresponde\n",
    "aos resultados do segundo teste. A terceira coluna contém os valores da classe (y = 0 significa \n",
    "rejeitado no teste, e y = 1 significa aceito no teste).\n",
    "\n",
    "## 1.1 Visualização dos Dados\n",
    "\n",
    "Para a maioria dos conjuntos de dados do mundo real, não é possível criar um gráfico para \n",
    "visualizar seus pontos. Mas, para o conjunto de dados fornecido, isso é possível. Implemente \n",
    "um script em _Python_ que produza um gráfico de dispersão (scatter plot) dos dados fornecidos. \n",
    "Após finalizado, seu script deve produzir um resultado similar ao apresentado na Figura abaixo.\n",
    "\n",
    "![ScatterPlot](scatter_plot2.jpg)\n"
   ]
  },
  {
   "cell_type": "code",
   "execution_count": 39,
   "metadata": {
    "collapsed": true
   },
   "outputs": [],
   "source": [
    "#import os \n",
    "import pandas as pd\n",
    "import numpy as np\n",
    "import matplotlib as plt\n",
    "\n",
    "from numpy import loadtxt, where, append, zeros, ones, array, linspace, logspace\n",
    "from pylab import scatter, show, legend, xlabel, ylabel\n",
    "\n",
    "#%matplotlib inline\n",
    "\n",
    "# Carregando o arquivo gerado pelo MATLAB\n",
    "#import scipy.io\n",
    "#mat = scipy.io.loadmat('file.mat')"
   ]
  },
  {
   "cell_type": "code",
   "execution_count": 40,
   "metadata": {},
   "outputs": [
    {
     "data": {
      "text/html": [
       "<div>\n",
       "<style>\n",
       "    .dataframe thead tr:only-child th {\n",
       "        text-align: right;\n",
       "    }\n",
       "\n",
       "    .dataframe thead th {\n",
       "        text-align: left;\n",
       "    }\n",
       "\n",
       "    .dataframe tbody tr th {\n",
       "        vertical-align: top;\n",
       "    }\n",
       "</style>\n",
       "<table border=\"1\" class=\"dataframe\">\n",
       "  <thead>\n",
       "    <tr style=\"text-align: right;\">\n",
       "      <th></th>\n",
       "      <th>QATest1</th>\n",
       "      <th>QATest2</th>\n",
       "      <th>QAcceptance</th>\n",
       "    </tr>\n",
       "  </thead>\n",
       "  <tbody>\n",
       "    <tr>\n",
       "      <th>0</th>\n",
       "      <td>0.051267</td>\n",
       "      <td>0.69956</td>\n",
       "      <td>1</td>\n",
       "    </tr>\n",
       "    <tr>\n",
       "      <th>1</th>\n",
       "      <td>-0.092742</td>\n",
       "      <td>0.68494</td>\n",
       "      <td>1</td>\n",
       "    </tr>\n",
       "    <tr>\n",
       "      <th>2</th>\n",
       "      <td>-0.213710</td>\n",
       "      <td>0.69225</td>\n",
       "      <td>1</td>\n",
       "    </tr>\n",
       "    <tr>\n",
       "      <th>3</th>\n",
       "      <td>-0.375000</td>\n",
       "      <td>0.50219</td>\n",
       "      <td>1</td>\n",
       "    </tr>\n",
       "    <tr>\n",
       "      <th>4</th>\n",
       "      <td>-0.513250</td>\n",
       "      <td>0.46564</td>\n",
       "      <td>1</td>\n",
       "    </tr>\n",
       "  </tbody>\n",
       "</table>\n",
       "</div>"
      ],
      "text/plain": [
       "    QATest1  QATest2  QAcceptance\n",
       "0  0.051267  0.69956            1\n",
       "1 -0.092742  0.68494            1\n",
       "2 -0.213710  0.69225            1\n",
       "3 -0.375000  0.50219            1\n",
       "4 -0.513250  0.46564            1"
      ]
     },
     "execution_count": 40,
     "metadata": {},
     "output_type": "execute_result"
    }
   ],
   "source": [
    "# Construindo um dataset com base num Dataframe, já identificando colunas e exibindo seus primeiros 20 registros.\n",
    "df = pd.read_csv('am-T2-dados/ex2data2.txt', names=['QATest1', 'QATest2', 'QAcceptance'])\n",
    "df.head()"
   ]
  },
  {
   "cell_type": "code",
   "execution_count": 41,
   "metadata": {},
   "outputs": [
    {
     "data": {
      "image/png": "[encoded data removed]",
      "text/plain": [
       "<matplotlib.figure.Figure at 0x11eafebe0>"
      ]
     },
     "metadata": {},
     "output_type": "display_data"
    },
    {
     "data": {
      "image/png": "[encoded data removed]",
      "text/plain": [
       "<matplotlib.figure.Figure at 0x11ec4a2b0>"
      ]
     },
     "metadata": {},
     "output_type": "display_data"
    }
   ],
   "source": [
    "# Visualização da Distribuição dos Dados conforme Histograma\n",
    "\n",
    "df.hist()\n",
    "plt.pyplot.show()\n",
    "\n",
    "df.QATest1.hist(), df.QATest2.hist(), df.QAcceptance.hist()\n",
    "plt.pyplot.show()"
   ]
  },
  {
   "cell_type": "code",
   "execution_count": 42,
   "metadata": {},
   "outputs": [
    {
     "data": {
      "text/html": [
       "<div>\n",
       "<style>\n",
       "    .dataframe thead tr:only-child th {\n",
       "        text-align: right;\n",
       "    }\n",
       "\n",
       "    .dataframe thead th {\n",
       "        text-align: left;\n",
       "    }\n",
       "\n",
       "    .dataframe tbody tr th {\n",
       "        vertical-align: top;\n",
       "    }\n",
       "</style>\n",
       "<table border=\"1\" class=\"dataframe\">\n",
       "  <thead>\n",
       "    <tr style=\"text-align: right;\">\n",
       "      <th></th>\n",
       "      <th>QATest1</th>\n",
       "      <th>QATest2</th>\n",
       "      <th>QAcceptance</th>\n",
       "    </tr>\n",
       "  </thead>\n",
       "  <tbody>\n",
       "    <tr>\n",
       "      <th>count</th>\n",
       "      <td>118.000000</td>\n",
       "      <td>118.000000</td>\n",
       "      <td>118.000000</td>\n",
       "    </tr>\n",
       "    <tr>\n",
       "      <th>mean</th>\n",
       "      <td>0.054779</td>\n",
       "      <td>0.183102</td>\n",
       "      <td>0.491525</td>\n",
       "    </tr>\n",
       "    <tr>\n",
       "      <th>std</th>\n",
       "      <td>0.496654</td>\n",
       "      <td>0.519743</td>\n",
       "      <td>0.502060</td>\n",
       "    </tr>\n",
       "    <tr>\n",
       "      <th>min</th>\n",
       "      <td>-0.830070</td>\n",
       "      <td>-0.769740</td>\n",
       "      <td>0.000000</td>\n",
       "    </tr>\n",
       "    <tr>\n",
       "      <th>25%</th>\n",
       "      <td>-0.372120</td>\n",
       "      <td>-0.254385</td>\n",
       "      <td>0.000000</td>\n",
       "    </tr>\n",
       "    <tr>\n",
       "      <th>50%</th>\n",
       "      <td>-0.006336</td>\n",
       "      <td>0.213455</td>\n",
       "      <td>0.000000</td>\n",
       "    </tr>\n",
       "    <tr>\n",
       "      <th>75%</th>\n",
       "      <td>0.478970</td>\n",
       "      <td>0.646562</td>\n",
       "      <td>1.000000</td>\n",
       "    </tr>\n",
       "    <tr>\n",
       "      <th>max</th>\n",
       "      <td>1.070900</td>\n",
       "      <td>1.108900</td>\n",
       "      <td>1.000000</td>\n",
       "    </tr>\n",
       "  </tbody>\n",
       "</table>\n",
       "</div>"
      ],
      "text/plain": [
       "          QATest1     QATest2  QAcceptance\n",
       "count  118.000000  118.000000   118.000000\n",
       "mean     0.054779    0.183102     0.491525\n",
       "std      0.496654    0.519743     0.502060\n",
       "min     -0.830070   -0.769740     0.000000\n",
       "25%     -0.372120   -0.254385     0.000000\n",
       "50%     -0.006336    0.213455     0.000000\n",
       "75%      0.478970    0.646562     1.000000\n",
       "max      1.070900    1.108900     1.000000"
      ]
     },
     "execution_count": 42,
     "metadata": {},
     "output_type": "execute_result"
    }
   ],
   "source": [
    "df.describe()"
   ]
  },
  {
   "cell_type": "code",
   "execution_count": 43,
   "metadata": {},
   "outputs": [
    {
     "data": {
      "text/plain": [
       "count    118.00\n",
       "mean       0.05\n",
       "std        0.50\n",
       "min       -0.83\n",
       "25%       -0.37\n",
       "50%       -0.01\n",
       "75%        0.48\n",
       "max        1.07\n",
       "Name: QATest1, dtype: float64"
      ]
     },
     "execution_count": 43,
     "metadata": {},
     "output_type": "execute_result"
    }
   ],
   "source": [
    "df.QATest1.describe().round(2)"
   ]
  },
  {
   "cell_type": "code",
   "execution_count": 44,
   "metadata": {},
   "outputs": [
    {
     "data": {
      "text/plain": [
       "count    118.00\n",
       "mean       0.18\n",
       "std        0.52\n",
       "min       -0.77\n",
       "25%       -0.25\n",
       "50%        0.21\n",
       "75%        0.65\n",
       "max        1.11\n",
       "Name: QATest2, dtype: float64"
      ]
     },
     "execution_count": 44,
     "metadata": {},
     "output_type": "execute_result"
    }
   ],
   "source": [
    "df.QATest2.describe().round(2)"
   ]
  },
  {
   "cell_type": "code",
   "execution_count": 45,
   "metadata": {},
   "outputs": [
    {
     "data": {
      "text/plain": [
       "count    118.00\n",
       "mean       0.49\n",
       "std        0.50\n",
       "min        0.00\n",
       "25%        0.00\n",
       "50%        0.00\n",
       "75%        1.00\n",
       "max        1.00\n",
       "Name: QAcceptance, dtype: float64"
      ]
     },
     "execution_count": 45,
     "metadata": {},
     "output_type": "execute_result"
    }
   ],
   "source": [
    "df.QAcceptance.describe().round(2)"
   ]
  },
  {
   "cell_type": "code",
   "execution_count": 46,
   "metadata": {},
   "outputs": [],
   "source": [
    "#df.drop(labels='QATest1', axis=1)\n",
    "#df.drop(labels='QATest2', axis=1)\n",
    "#df.drop(labels='QAcceptance', axis=1)\n",
    "\n",
    "\n",
    "#load the dataset\n",
    "data = np.loadtxt('am-T2-dados/ex2data2.txt', delimiter=',')"
   ]
  },
  {
   "cell_type": "code",
   "execution_count": null,
   "metadata": {
    "collapsed": true
   },
   "outputs": [],
   "source": []
  },
  {
   "cell_type": "code",
   "execution_count": 48,
   "metadata": {},
   "outputs": [
    {
     "data": {
      "image/png": "[encoded data removed]",
      "text/plain": [
       "<matplotlib.figure.Figure at 0x11f0da390>"
      ]
     },
     "metadata": {},
     "output_type": "display_data"
    }
   ],
   "source": [
    "X = data[:, 0:2]\n",
    "y = data[:, 2]\n",
    "\n",
    "pos = where(y == 1)\n",
    "neg = where(y == 0)\n",
    "scatter(X[pos, 0], X[pos, 1], marker='+', c='xkcd:black', label='Not Admitted')\n",
    "scatter(X[neg, 0], X[neg, 1], marker='o', c='xkcd:yellow', label='Admitted')\n",
    "legend(['Admitted', 'Not Admitted'])\n",
    "xlabel('Exam 1 score')\n",
    "ylabel('Exam 2 score')\n",
    "show()"
   ]
  },
  {
   "cell_type": "markdown",
   "metadata": {},
   "source": [
    "## 1.2 Mapeamento de características (_feature mapping_)\n",
    "\n",
    "Uma maneira de tornar os dados mais apropriados para a classificação é criar\n",
    "mais características a partir das já existentes. Para isso, você deve criar uma\n",
    "função **`mapFeature`**. Essa função deve ser implementada em um arquivo de\n",
    "nome **_`mapFeature.py`_**, que irá mapear as características para todos os termos\n",
    "polinomiais de x1 e x2, até a sexta potência. Como resultado desse mapeamento, nosso \n",
    "vetor de duas características (os escores nos dois testes de QA) será transformado \n",
    "em um **vetor de _28 dimensões_**.\n",
    "\n",
    "Um classificador que usa regressão logística treinado nesse vetor de características \n",
    "de maior dimensão terá uma fronteira de decisão mais complexa e parecerá não-linear \n",
    "quando desenhado em um gráfico bidimensional. \n",
    "\n",
    "Embora o mapeamento de características nos permita construir um classificador mais expressivo, \n",
    "também é mais suscetível a sobreajuste (overfitting). Desse modo, será implementada a \n",
    "**_Regressão Logística Regularizada_** sobre os dados fornecidos e também verá como a regularização pode \n",
    "ajudar a combater o problema do sobreajuste."
   ]
  },
  {
   "cell_type": "code",
   "execution_count": null,
   "metadata": {
    "collapsed": true
   },
   "outputs": [],
   "source": []
  },
  {
   "cell_type": "code",
   "execution_count": 49,
   "metadata": {
    "collapsed": true
   },
   "outputs": [],
   "source": [
    "def map_feature(X1, X2):\n",
    "    '''\n",
    "    Função que mapeia características p/ os termos polinomiais X1 e X2 até a 6ª potência.\n",
    "    Retorna um novo conjunto com mais características, através do algoritmo de mapping\n",
    "    X1, X2, X1 ** 2, X2 ** 2, X1*X2, X1*X2 ** 2, etc...\n",
    "    Os parâmetros X1, X2 devem ser do mesmo tamanho\n",
    "    '''\n",
    "    # Potência padrão para o mapeamento\n",
    "    potencia = 6\n",
    "    \n",
    "    X1.shape = (X1.size, 1)\n",
    "    X2.shape = (X2.size, 1)\n",
    "    \n",
    "    features = np.ones(shape=(X1.size, 1))\n",
    "\n",
    "    for i in range(1, potencia + 1):\n",
    "        for j in range(i + 1):\n",
    "            r = (X1 ** (i - j)) * (X2 ** j)\n",
    "            features = append(features, r, axis=1)\n",
    "\n",
    "    return features"
   ]
  },
  {
   "cell_type": "code",
   "execution_count": 50,
   "metadata": {},
   "outputs": [],
   "source": [
    "X = data[:, 0:2]\n",
    "y = data[:, 2]\n",
    "\n",
    "pos = where(y == 1)\n",
    "neg = where(y == 0)\n",
    "scatter(X[pos, 0], X[pos, 1], marker='o', c='b')\n",
    "scatter(X[neg, 0], X[neg, 1], marker='x', c='r')\n",
    "xlabel('Microchip Test 1')\n",
    "ylabel('Microchip Test 2')\n",
    "legend(['y = 1', 'y = 0'])\n",
    "\n",
    "\n",
    "m, n = X.shape\n",
    "y.shape = (m, 1)\n",
    "\n",
    "it = map_feature(X[:, 0], X[:, 1])"
   ]
  },
  {
   "cell_type": "code",
   "execution_count": 51,
   "metadata": {},
   "outputs": [
    {
     "data": {
      "text/plain": [
       "(118, 28)"
      ]
     },
     "execution_count": 51,
     "metadata": {},
     "output_type": "execute_result"
    }
   ],
   "source": [
    "it.shape"
   ]
  },
  {
   "cell_type": "code",
   "execution_count": 52,
   "metadata": {},
   "outputs": [
    {
     "name": "stdout",
     "output_type": "stream",
     "text": [
      "      0         1         2         3         4         5             6   \\\n",
      "0    1.0  0.051267  0.699560  0.002628  0.035864  0.489384  1.347453e-04   \n",
      "1    1.0 -0.092742  0.684940  0.008601 -0.063523  0.469143 -7.976812e-04   \n",
      "2    1.0 -0.213710  0.692250  0.045672 -0.147941  0.479210 -9.760555e-03   \n",
      "3    1.0 -0.375000  0.502190  0.140625 -0.188321  0.252195 -5.273438e-02   \n",
      "4    1.0 -0.513250  0.465640  0.263426 -0.238990  0.216821 -1.352032e-01   \n",
      "5    1.0 -0.524770  0.209800  0.275384 -0.110097  0.044016 -1.445130e-01   \n",
      "6    1.0 -0.398040  0.034357  0.158436 -0.013675  0.001180 -6.306380e-02   \n",
      "7    1.0 -0.305880 -0.192250  0.093563  0.058805  0.036960 -2.861892e-02   \n",
      "8    1.0  0.016705 -0.404240  0.000279 -0.006753  0.163410  4.661648e-06   \n",
      "9    1.0  0.131910 -0.513890  0.017400 -0.067787  0.264083  2.295267e-03   \n",
      "10   1.0  0.385370 -0.565060  0.148510 -0.217757  0.319293  5.723131e-02   \n",
      "11   1.0  0.529380 -0.521200  0.280243 -0.275913  0.271649  1.483551e-01   \n",
      "12   1.0  0.638820 -0.243420  0.408091 -0.155502  0.059253  2.606967e-01   \n",
      "13   1.0  0.736750 -0.184940  0.542801 -0.136255  0.034203  3.999083e-01   \n",
      "14   1.0  0.546660  0.487570  0.298837  0.266535  0.237725  1.633623e-01   \n",
      "15   1.0  0.322000  0.582600  0.103684  0.187597  0.339423  3.338625e-02   \n",
      "16   1.0  0.166470  0.538740  0.027712  0.089684  0.290241  4.613260e-03   \n",
      "17   1.0 -0.046659  0.816520  0.002177 -0.038098  0.666705 -1.015795e-04   \n",
      "18   1.0 -0.173390  0.699560  0.030064 -0.121297  0.489384 -5.212813e-03   \n",
      "19   1.0 -0.478690  0.633770  0.229144 -0.303379  0.401664 -1.096890e-01   \n",
      "20   1.0 -0.605410  0.597220  0.366521 -0.361563  0.356672 -2.218956e-01   \n",
      "21   1.0 -0.628460  0.334060  0.394962 -0.209943  0.111596 -2.482178e-01   \n",
      "22   1.0 -0.593890  0.005117  0.352705 -0.003039  0.000026 -2.094682e-01   \n",
      "23   1.0 -0.421080 -0.272660  0.177308  0.114812  0.074343 -7.466101e-02   \n",
      "24   1.0 -0.115780 -0.396930  0.013405  0.045957  0.157553 -1.552032e-03   \n",
      "25   1.0  0.201040 -0.601610  0.040417 -0.120948  0.361935  8.125450e-03   \n",
      "26   1.0  0.466010 -0.535820  0.217165 -0.249697  0.287103  1.012012e-01   \n",
      "27   1.0  0.673390 -0.535820  0.453454 -0.360816  0.287103  3.053515e-01   \n",
      "28   1.0 -0.138820  0.546050  0.019271 -0.075803  0.298171 -2.675199e-03   \n",
      "29   1.0 -0.294350  0.779970  0.086642 -0.229584  0.608353 -2.550305e-02   \n",
      "..   ...       ...       ...       ...       ...       ...           ...   \n",
      "88   1.0 -0.403800  0.706870  0.163054 -0.285434  0.499665 -6.584138e-02   \n",
      "89   1.0 -0.380760  0.918860  0.144978 -0.349865  0.844304 -5.520189e-02   \n",
      "90   1.0 -0.507490  0.904240  0.257546 -0.458893  0.817650 -1.307021e-01   \n",
      "91   1.0 -0.547810  0.706870  0.300096 -0.387230  0.499665 -1.643955e-01   \n",
      "92   1.0  0.103110  0.779970  0.010632  0.080423  0.608353  1.096232e-03   \n",
      "93   1.0  0.057028  0.918860  0.003252  0.052401  0.844304  1.854661e-04   \n",
      "94   1.0 -0.104260  0.991960  0.010870 -0.103422  0.983985 -1.133322e-03   \n",
      "95   1.0 -0.081221  1.108900  0.006597 -0.090066  1.229659 -5.358028e-04   \n",
      "96   1.0  0.287440  1.087000  0.082622  0.312447  1.181569  2.374880e-02   \n",
      "97   1.0  0.396890  0.823830  0.157522  0.326970  0.678696  6.251878e-02   \n",
      "98   1.0  0.638820  0.889620  0.408091  0.568307  0.791424  2.606967e-01   \n",
      "99   1.0  0.823160  0.663010  0.677592  0.545763  0.439582  5.577669e-01   \n",
      "100  1.0  0.673390  0.641080  0.453454  0.431697  0.410984  3.053515e-01   \n",
      "101  1.0  1.070900  0.100150  1.146827  0.107251  0.010030  1.228137e+00   \n",
      "102  1.0 -0.046659 -0.579680  0.002177  0.027047  0.336029 -1.015795e-04   \n",
      "103  1.0 -0.236750 -0.638160  0.056051  0.151084  0.407248 -1.326997e-02   \n",
      "104  1.0 -0.150350 -0.367690  0.022605  0.055282  0.135196 -3.398680e-03   \n",
      "105  1.0 -0.490210 -0.301900  0.240306  0.147994  0.091144 -1.178003e-01   \n",
      "106  1.0 -0.467170 -0.133770  0.218248  0.062493  0.017894 -1.019588e-01   \n",
      "107  1.0 -0.288590 -0.060673  0.083284  0.017510  0.003681 -2.403498e-02   \n",
      "108  1.0 -0.611180 -0.067982  0.373541  0.041549  0.004622 -2.283008e-01   \n",
      "109  1.0 -0.663020 -0.214180  0.439596  0.142006  0.045873 -2.914606e-01   \n",
      "110  1.0 -0.599650 -0.418860  0.359580  0.251169  0.175444 -2.156222e-01   \n",
      "111  1.0 -0.726380 -0.082602  0.527628  0.060000  0.006823 -3.832584e-01   \n",
      "112  1.0 -0.830070  0.312130  0.689016 -0.259090  0.097425 -5.719317e-01   \n",
      "113  1.0 -0.720620  0.538740  0.519293 -0.388227  0.290241 -3.742131e-01   \n",
      "114  1.0 -0.593890  0.494880  0.352705 -0.293904  0.244906 -2.094682e-01   \n",
      "115  1.0 -0.484450  0.999270  0.234692 -0.484096  0.998541 -1.136964e-01   \n",
      "116  1.0 -0.006336  0.999270  0.000040 -0.006332  0.998541 -2.544062e-07   \n",
      "117  1.0  0.632650 -0.030612  0.400246 -0.019367  0.000937  2.532156e-01   \n",
      "\n",
      "           7         8             9       ...                 18  \\\n",
      "0    0.001839  0.025089  3.423536e-01      ...       8.998098e-04   \n",
      "1    0.005891 -0.043509  3.213347e-01      ...       2.763825e-03   \n",
      "2    0.031616 -0.102412  3.317332e-01      ...       1.515091e-02   \n",
      "3    0.070620 -0.094573  1.266497e-01      ...       1.781011e-02   \n",
      "4    0.122661 -0.111283  1.009603e-01      ...       2.659554e-02   \n",
      "5    0.057775 -0.023098  9.234565e-03      ...       2.543047e-03   \n",
      "6    0.005443 -0.000470  4.055512e-05      ...       6.425385e-06   \n",
      "7   -0.017987 -0.011305 -7.105572e-03      ...      -6.648156e-04   \n",
      "8   -0.000113  0.002730 -6.605685e-02      ...      -1.843363e-05   \n",
      "9   -0.008942  0.034835 -1.357096e-01      ...      -2.361380e-03   \n",
      "10  -0.083917  0.123046 -1.804196e-01      ...      -2.679412e-02   \n",
      "11  -0.146063  0.143806 -1.415837e-01      ...      -3.967786e-02   \n",
      "12  -0.099338  0.037852 -1.442344e-02      ...      -5.886075e-03   \n",
      "13  -0.100386  0.025199 -6.325466e-03      ...      -3.433467e-03   \n",
      "14   0.145704  0.129954  1.159073e-01      ...       3.463742e-02   \n",
      "15   0.060406  0.109294  1.977477e-01      ...       2.050327e-02   \n",
      "16   0.014930  0.048316  1.563643e-01      ...       4.333209e-03   \n",
      "17   0.001778 -0.031108  5.443779e-01      ...       1.185145e-03   \n",
      "18   0.021032 -0.084854  3.423536e-01      ...       1.029255e-02   \n",
      "19   0.145225 -0.192273  2.545629e-01      ...       5.833158e-02   \n",
      "20   0.218894 -0.215933  2.130115e-01      ...       7.807324e-02   \n",
      "21   0.131941 -0.070134  3.727979e-02      ...       1.472410e-02   \n",
      "22   0.001805 -0.000016  1.339819e-07      ...       4.725614e-08   \n",
      "23  -0.048345 -0.031305 -2.027049e-02      ...      -3.594128e-03   \n",
      "24  -0.005321 -0.018242 -6.253768e-02      ...      -8.383181e-04   \n",
      "25  -0.024315  0.072763 -2.177435e-01      ...      -8.800556e-03   \n",
      "26  -0.116362  0.133793 -1.538356e-01      ...      -3.340775e-02   \n",
      "27  -0.242970  0.193332 -1.538356e-01      ...      -6.975737e-02   \n",
      "28   0.010523 -0.041392  1.628161e-01      ...       3.137627e-03   \n",
      "29   0.067578 -0.179069  4.744972e-01      ...       4.111135e-02   \n",
      "..        ...       ...           ...      ...                ...   \n",
      "88   0.115258 -0.201765  3.531983e-01      ...       5.759056e-02   \n",
      "89   0.133215 -0.321477  7.757969e-01      ...       1.124736e-01   \n",
      "90   0.232883 -0.414949  7.393518e-01      ...       1.904172e-01   \n",
      "91   0.212129 -0.273722  3.531983e-01      ...       1.059933e-01   \n",
      "92   0.008292  0.062727  4.744972e-01      ...       5.044699e-03   \n",
      "93   0.002988  0.048149  7.757969e-01      ...       2.523041e-03   \n",
      "94   0.010783 -0.102590  9.760734e-01      ...       1.061006e-02   \n",
      "95   0.007315 -0.099874  1.363569e+00      ...       8.995262e-03   \n",
      "96   0.089810  0.339630  1.284366e+00      ...       1.061165e-01   \n",
      "97   0.129771  0.269368  5.591300e-01      ...       8.807510e-02   \n",
      "98   0.363046  0.505577  7.040664e-01      ...       2.873232e-01   \n",
      "99   0.449251  0.361847  2.914474e-01      ...       1.974826e-01   \n",
      "100  0.290700  0.276752  2.634733e-01      ...       1.194731e-01   \n",
      "101  0.114855  0.010741  1.004507e-03      ...       1.151995e-03   \n",
      "102 -0.001262 -0.015679 -1.947892e-01      ...      -4.240683e-04   \n",
      "103 -0.035769 -0.096416 -2.598895e-01      ...      -1.456695e-02   \n",
      "104 -0.008312 -0.020327 -4.971019e-02      ...      -1.123705e-03   \n",
      "105 -0.072548 -0.044680 -2.751626e-02      ...      -6.612317e-03   \n",
      "106 -0.029195 -0.008360 -2.393736e-03      ...      -5.224276e-04   \n",
      "107 -0.005053 -0.001062 -2.233502e-04      ...      -1.860154e-05   \n",
      "108 -0.025394 -0.002825 -3.141824e-04      ...      -1.173600e-04   \n",
      "109 -0.094153 -0.030415 -9.825095e-03      ...      -4.319068e-03   \n",
      "110 -0.150614 -0.105205 -7.348635e-02      ...      -2.642423e-02   \n",
      "111 -0.043583 -0.004956 -5.636009e-04      ...      -2.973716e-04   \n",
      "112  0.215063 -0.080870  3.040931e-02      ...       2.095251e-02   \n",
      "113  0.279764 -0.209153  1.563643e-01      ...       8.119893e-02   \n",
      "114  0.174547 -0.145447  1.211992e-01      ...       4.274760e-02   \n",
      "115  0.234520 -0.483743  9.978116e-01      ...       2.341782e-01   \n",
      "116  0.000040 -0.006327  9.978116e-01      ...       4.006210e-05   \n",
      "117 -0.012252  0.000593 -2.868634e-05      ...      -1.148159e-05   \n",
      "\n",
      "               19            20            21            22            23  \\\n",
      "0    1.227829e-02  1.675424e-01  1.815630e-08  2.477505e-07  3.380660e-06   \n",
      "1   -2.041205e-02  1.507518e-01  6.362953e-07 -4.699318e-06  3.470651e-05   \n",
      "2   -4.907685e-02  1.589699e-01  9.526844e-05 -3.085938e-04  9.995978e-04   \n",
      "3   -2.385083e-02  3.194040e-02  2.780914e-03 -3.724126e-03  4.987251e-03   \n",
      "4   -2.412849e-02  2.189028e-02  1.827990e-02 -1.658422e-02  1.504584e-02   \n",
      "5   -1.016696e-03  4.064690e-04  2.088401e-02 -8.349308e-03  3.338005e-03   \n",
      "6   -5.546100e-07  4.787141e-08  3.977043e-03 -3.432803e-04  2.963039e-05   \n",
      "7   -4.178462e-04 -2.626224e-04  8.190426e-04  5.147801e-04  3.235467e-04   \n",
      "8    4.460706e-04 -1.079435e-02  2.173096e-11 -5.258619e-10  1.272520e-08   \n",
      "9    9.199376e-03 -3.583858e-02  5.268249e-06 -2.052385e-05  7.995603e-05   \n",
      "10   3.928766e-02 -5.760668e-02  3.275423e-03 -4.802685e-03  7.042077e-03   \n",
      "11   3.906476e-02 -3.846113e-02  2.200925e-02 -2.166916e-02  2.133433e-02   \n",
      "12   2.242867e-03 -8.546362e-04  6.796276e-02 -2.589696e-02  9.867941e-03   \n",
      "13   8.618736e-04 -2.163487e-04  1.599267e-01 -4.014501e-02  1.007726e-02   \n",
      "14   3.089336e-02  2.755401e-02  2.668725e-02  2.380255e-02  2.122966e-02   \n",
      "15   3.709691e-02  6.712007e-02  1.114642e-03  2.016740e-03  3.648921e-03   \n",
      "16   1.402339e-02  4.538330e-02  2.128217e-05  6.887460e-05  2.228960e-04   \n",
      "17  -2.073971e-02  3.629394e-01  1.031840e-08 -1.805693e-07  3.159915e-06   \n",
      "18  -4.152637e-02  1.675424e-01  2.717342e-05 -1.096340e-04  4.423297e-04   \n",
      "19  -7.722912e-02  1.022488e-01  1.203168e-02 -1.592955e-02  2.109020e-02   \n",
      "20  -7.701706e-02  7.597518e-02  4.923768e-02 -4.857159e-02  4.791451e-02   \n",
      "21  -7.826643e-03  4.160278e-03  6.161208e-02 -3.275010e-02  1.740843e-02   \n",
      "22  -4.071624e-10  3.508141e-12  4.387691e-02 -3.780467e-04  3.257278e-06   \n",
      "23  -2.327289e-03 -1.506979e-03  5.574266e-03  3.609479e-03  2.337229e-03   \n",
      "24  -2.874016e-03 -9.853026e-03  2.408803e-06  8.258129e-06  2.831144e-05   \n",
      "25   2.633557e-02 -7.880889e-02  6.602294e-05 -1.975729e-04  5.912348e-04   \n",
      "26   3.841235e-02 -4.416666e-02  1.024169e-02 -1.177593e-02  1.354000e-02   \n",
      "27   5.550631e-02 -4.416666e-02  9.323951e-02 -7.419117e-02  5.903431e-02   \n",
      "28  -1.234189e-02  4.854696e-02  7.156691e-06 -2.815092e-05  1.107320e-04   \n",
      "29  -1.089371e-01  2.886619e-01  6.504056e-04 -1.723448e-03  4.566800e-03   \n",
      "..            ...           ...           ...           ...           ...   \n",
      "88  -1.008149e-01  1.764809e-01  4.335088e-03 -7.588765e-03  1.328447e-02   \n",
      "89  -2.714243e-01  6.550082e-01  3.047249e-03 -7.353700e-03  1.774614e-02   \n",
      "90  -3.392832e-01  6.045310e-01  1.708303e-02 -3.043835e-02  5.423472e-02   \n",
      "91  -1.367692e-01  1.764809e-01  2.702587e-02 -3.487300e-02  4.499859e-02   \n",
      "92   3.816035e-02  2.886619e-01  1.201724e-06  9.090376e-06  6.876365e-05   \n",
      "93   4.065234e-02  6.550082e-01  3.439766e-08  5.542300e-07  8.929996e-06   \n",
      "94  -1.009472e-01  9.604412e-01  1.284418e-06 -1.222033e-05  1.162677e-04   \n",
      "95  -1.228112e-01  1.676725e+00  2.870847e-07 -3.919530e-06  5.351285e-05   \n",
      "96   4.012965e-01  1.517566e+00  5.640054e-04  2.132876e-03  8.065808e-03   \n",
      "97   1.828187e-01  3.794792e-01  3.908597e-03  8.113129e-03  1.684053e-02   \n",
      "98   4.001259e-01  5.572149e-01  6.796276e-02  9.464487e-02  1.318023e-01   \n",
      "99   1.590613e-01  1.281151e-01  3.111040e-01  2.505771e-01  2.018260e-01   \n",
      "100  1.137406e-01  1.082832e-01  9.323951e-02  8.876577e-02  8.450669e-02   \n",
      "101  1.077340e-04  1.007523e-05  1.508320e+00  1.410573e-01  1.319160e-02   \n",
      "102 -5.268521e-03 -6.545481e-02  1.031840e-08  1.281933e-07  1.592643e-06   \n",
      "103 -3.926524e-02 -1.058395e-01  1.760921e-04  4.746566e-04  1.279438e-03   \n",
      "104 -2.748088e-03 -6.720616e-03  1.155103e-05  2.824873e-05  6.908398e-05   \n",
      "105 -4.072252e-03 -2.507931e-03  1.387692e-02  8.546218e-03  5.263261e-03   \n",
      "106 -1.495925e-04 -4.283449e-05  1.039560e-02  2.976689e-03  8.523486e-04   \n",
      "107 -3.910778e-06 -8.221998e-07  5.776804e-04  1.214512e-04  2.553384e-05   \n",
      "108 -1.305404e-05 -1.452010e-06  5.212125e-02  5.797485e-03  6.448585e-04   \n",
      "109 -1.395219e-03 -4.507073e-04  8.494929e-02  2.744177e-02  8.864706e-03   \n",
      "110 -1.845752e-02 -1.289272e-02  4.649294e-02  3.247567e-02  2.268450e-02   \n",
      "111 -3.381630e-05 -3.845500e-06  1.468870e-01  1.670360e-02  1.899488e-03   \n",
      "112 -7.878740e-03  2.962631e-03  3.271058e-01 -1.230011e-01  4.625193e-02   \n",
      "113 -6.070482e-02  4.538330e-02  1.400354e-01 -1.046913e-01  7.826790e-02   \n",
      "114 -3.562096e-02  2.968243e-02  4.387691e-02 -3.656200e-02  3.046659e-02   \n",
      "115 -4.830370e-01  9.963553e-01  1.292688e-02 -2.666414e-02  5.499985e-02   \n",
      "116 -6.317918e-03  9.963553e-01  6.472253e-14 -1.020695e-11  1.609667e-09   \n",
      "117  5.555592e-07 -2.688181e-08  6.411816e-02 -3.102482e-03  1.501196e-04   \n",
      "\n",
      "               24            25            26            27  \n",
      "0    4.613055e-05  6.294709e-04  8.589398e-03  1.172060e-01  \n",
      "1   -2.563226e-04  1.893054e-03 -1.398103e-02  1.032560e-01  \n",
      "2   -3.237900e-03  1.048821e-02 -3.397345e-02  1.100469e-01  \n",
      "3   -6.678793e-03  8.944062e-03 -1.197765e-02  1.604015e-02  \n",
      "4   -1.365016e-02  1.238395e-02 -1.123519e-02  1.019299e-02  \n",
      "5   -1.334515e-03  5.335313e-04 -2.133027e-04  8.527719e-05  \n",
      "6   -2.557560e-06  2.207569e-07 -1.905473e-08  1.644718e-09  \n",
      "7    2.033538e-04  1.278108e-04  8.033094e-05  5.048915e-05  \n",
      "8   -3.079338e-07  7.451610e-06 -1.803196e-04  4.363507e-03  \n",
      "9   -3.114897e-04  1.213490e-03 -4.727468e-03  1.841709e-02  \n",
      "10  -1.032565e-02  1.514029e-02 -2.219989e-02  3.255123e-02  \n",
      "11  -2.100467e-02  2.068010e-02 -2.036055e-02  2.004594e-02  \n",
      "12  -3.760142e-03  1.432788e-03 -5.459587e-04  2.080355e-04  \n",
      "13  -2.529607e-03  6.349853e-04 -1.593949e-04  4.001153e-05  \n",
      "14   1.893489e-02  1.688817e-02  1.506268e-02  1.343451e-02  \n",
      "15   6.602054e-03  1.194521e-02  2.161266e-02  3.910415e-02  \n",
      "16   7.213493e-04  2.334473e-03  7.554959e-03  2.444980e-02  \n",
      "17  -5.529766e-05  9.676943e-04 -1.693439e-02  2.963473e-01  \n",
      "18  -1.784625e-03  7.200257e-03 -2.905018e-02  1.172060e-01  \n",
      "19  -2.792274e-02  3.696881e-02 -4.894550e-02  6.480225e-02  \n",
      "20  -4.726632e-02  4.662690e-02 -4.599613e-02  4.537389e-02  \n",
      "21  -9.253507e-03  4.918732e-03 -2.614569e-03  1.389783e-03  \n",
      "22  -2.806495e-08  2.418097e-10 -2.083450e-12  1.795116e-14  \n",
      "23   1.513415e-03  9.799749e-04  6.345586e-04  4.108928e-04  \n",
      "24   9.706047e-05  3.327536e-04  1.140783e-03  3.910962e-03  \n",
      "25  -1.769264e-03  5.294502e-03 -1.584374e-02  4.741222e-02  \n",
      "26  -1.556835e-02  1.790054e-02 -2.058211e-02  2.366538e-02  \n",
      "27  -4.697391e-02  3.737739e-02 -2.974139e-02  2.366538e-02  \n",
      "28  -4.355654e-04  1.713301e-03 -6.739289e-03  2.650907e-02  \n",
      "29  -1.210113e-02  3.206562e-02 -8.496764e-02  2.251476e-01  \n",
      "..            ...           ...           ...           ...  \n",
      "88  -2.325507e-02  4.070904e-02 -7.126299e-02  1.247491e-01  \n",
      "89  -4.282546e-02  1.033475e-01 -2.494009e-01  6.018608e-01  \n",
      "90  -9.663481e-02  1.721828e-01 -3.067934e-01  5.466411e-01  \n",
      "91  -5.806421e-02  7.492351e-02 -9.667801e-02  1.247491e-01  \n",
      "92   5.201589e-04  3.934714e-03  2.976393e-02  2.251476e-01  \n",
      "93   1.438840e-04  2.318322e-03  3.735381e-02  6.018608e-01  \n",
      "94  -1.106205e-03  1.052476e-02 -1.001356e-01  9.527193e-01  \n",
      "95  -7.306042e-04  9.974846e-03 -1.361853e-01  1.859321e+00  \n",
      "96   3.050214e-02  1.153487e-01  4.362093e-01  1.649595e+00  \n",
      "97   3.495612e-02  7.255891e-02  1.506115e-01  3.126264e-01  \n",
      "98   1.835478e-01  2.556084e-01  3.559600e-01  4.957095e-01  \n",
      "99   1.625597e-01  1.309329e-01  1.054592e-01  8.494161e-02  \n",
      "100  8.045197e-02  7.659179e-02  7.291683e-02  6.941820e-02  \n",
      "101  1.233672e-03  1.153723e-04  1.078956e-05  1.009034e-06  \n",
      "102  1.978660e-05  2.458239e-04  3.054056e-03  3.794285e-02  \n",
      "103  3.448726e-03  9.296047e-03  2.505751e-02  6.754255e-02  \n",
      "104  1.689490e-04  4.131751e-04  1.010445e-03  2.471103e-03  \n",
      "105  3.241424e-03  1.996259e-03  1.229413e-03  7.571443e-04  \n",
      "106  2.440625e-04  6.988513e-05  2.001099e-05  5.729970e-06  \n",
      "107  5.368219e-06  1.128611e-06  2.372786e-07  4.988533e-08  \n",
      "108  7.172808e-05  7.978367e-06  8.874396e-07  9.871056e-08  \n",
      "109  2.863628e-03  9.250579e-04  2.988279e-04  9.653248e-05  \n",
      "110  1.584529e-02  1.106805e-02  7.731118e-03  5.400243e-03  \n",
      "111  2.160048e-04  2.456349e-05  2.793294e-06  3.176460e-07  \n",
      "112 -1.739205e-02  6.539906e-03 -2.459191e-03  9.247260e-04  \n",
      "113 -5.851357e-02  4.374511e-02 -3.270412e-02  2.444980e-02  \n",
      "114 -2.538737e-02  2.115493e-02 -1.762810e-02  1.468924e-02  \n",
      "115 -1.134476e-01  2.340073e-01 -4.826843e-01  9.956280e-01  \n",
      "116 -2.538495e-07  4.003286e-05 -6.313306e-03  9.956280e-01  \n",
      "117 -7.263830e-06  3.514745e-07 -1.700678e-08  8.229060e-10  \n",
      "\n",
      "[118 rows x 28 columns]\n"
     ]
    }
   ],
   "source": [
    "print(pd.DataFrame(it))"
   ]
  },
  {
   "cell_type": "markdown",
   "metadata": {},
   "source": [
    "## 1.3 Função de custo e gradiente\n",
    "\n",
    "Agora, você deverá implementar o código para calcular **_a função de custo e\n",
    "o gradiente para a regressão logística regularizada_**. Crie um arquivo de nome\n",
    "costFunctionReg.py que contém uma função de nome costFunctionReg.py\n",
    "e que computa o custo e o gradiente. Lembre-se de que a função de custo\n",
    "regularizada na regressão logística é dada por:\n",
    "    \n",
    "$$J_{regularizado} = \\small \\underbrace{-\\frac{1}{m} \\sum\\limits_{i = 1}^{m} \\large{(}\\small y^{(i)}\\log\\left(x^{(i)}\\right) + (1-y^{(i)})\\log\\left(1- x^{(i)}\\right) \\large{)} }_\\text{Função de Custo} + \\underbrace{\\frac{\\lambda}{2m} \\sum\\limits_{j = 1}^{n}\\ {\\theta}_{j}^{2} }_\\text{Fator Regularização} $$\n",
    "    \n",
    "Depois de concluir a implementação da função **costFunctionReg**, você deve\n",
    "testar a corretude dela usando o valor inicial de ${\\theta}$ (inicializado todo com zeros).\n",
    "Você deve ver que o custo é de cerca de `0.693`.\n",
    "Porém, usando a função **costFunctionReg**, você agora deve computar os valores ótimos para ${\\theta}$."
   ]
  },
  {
   "cell_type": "code",
   "execution_count": 53,
   "metadata": {
    "collapsed": true
   },
   "outputs": [],
   "source": [
    "from numpy import loadtxt, where, zeros, e, array, log, ones, append, linspace\n",
    "from pylab import scatter, show, legend, xlabel, ylabel, contour, title\n",
    "from scipy.optimize import fmin_bfgs\n",
    "\n",
    "\n",
    "def sigmoid(X):\n",
    "    '''Compute the sigmoid function '''\n",
    "    den = 1.0 + e ** (-1.0 * X)\n",
    "    d = 1.0 / den\n",
    "    return d\n",
    "\n",
    "\n",
    "def cost_function_reg(theta, X, y, l):\n",
    "    '''Compute the cost and partial derivatives as grads\n",
    "    '''\n",
    "\n",
    "    h = sigmoid(X.dot(theta))\n",
    "\n",
    "    thetaR = theta[1:, 0]\n",
    "\n",
    "    J = (1.0 / m) * ((-y.T.dot(log(h))) - ((1 - y.T).dot(log(1.0 - h)))) + (l / (2.0 * m)) * (thetaR.T.dot(thetaR))\n",
    "\n",
    "    delta = h - y\n",
    "    sumdelta = delta.T.dot(X[:, 1])\n",
    "    grad1 = (1.0 / m) * sumdelta\n",
    "\n",
    "    XR = X[:, 1:X.shape[1]]\n",
    "    sumdelta = delta.T.dot(XR)\n",
    "\n",
    "    grad = (1.0 / m) * (sumdelta + l * thetaR)\n",
    "\n",
    "    out = zeros(shape=(grad.shape[0], grad.shape[1] + 1))\n",
    "\n",
    "    out[:, 0] = grad1\n",
    "    out[:, 1:] = grad\n",
    "\n",
    "    return J.flatten(), out.T.flatten()"
   ]
  },
  {
   "cell_type": "markdown",
   "metadata": {},
   "source": [
    "### 1.3.1 Testando a Função de Custo e o Gradiente"
   ]
  },
  {
   "cell_type": "code",
   "execution_count": 54,
   "metadata": {},
   "outputs": [
    {
     "data": {
      "text/plain": [
       "(array([ 0.69314718]),\n",
       " array([  1.87880932e-02,   1.87880932e-02,   7.77711864e-05,\n",
       "          5.03446395e-02,   1.15013308e-02,   3.76648474e-02,\n",
       "          1.83559872e-02,   7.32393391e-03,   8.19244468e-03,\n",
       "          2.34764889e-02,   3.93486234e-02,   2.23923907e-03,\n",
       "          1.28600503e-02,   3.09593720e-03,   3.93028171e-02,\n",
       "          1.99707467e-02,   4.32983232e-03,   3.38643902e-03,\n",
       "          5.83822078e-03,   4.47629067e-03,   3.10079849e-02,\n",
       "          3.10312442e-02,   1.09740238e-03,   6.31570797e-03,\n",
       "          4.08503006e-04,   7.26504316e-03,   1.37646175e-03,\n",
       "          3.87936363e-02]))"
      ]
     },
     "execution_count": 54,
     "metadata": {},
     "output_type": "execute_result"
    }
   ],
   "source": [
    "from scipy.optimize import fmin_bfgs\n",
    "\n",
    "m, n = X.shape\n",
    "y.shape = (m, 1)\n",
    "it = map_feature(X[:, 0], X[:, 1])\n",
    "\n",
    "#Initialize theta parameters\n",
    "initial_theta = zeros(shape=(it.shape[1], 1))\n",
    "\n",
    "#Set regularization parameter lambda to 1\n",
    "regularizacao = 1\n",
    "\n",
    "# Compute and display initial cost and gradient for regularized logistic regression\n",
    "cost, grad = cost_function_reg(initial_theta, it, y, regularizacao)\n",
    "\n",
    "#def decorated_cost(theta):\n",
    "#    return cost_function_reg(theta, it, y, l)\n",
    "\n",
    "#cost_function_reg(theta, it, y, l)\n",
    "\n",
    "#print fmin_bfgs(decorated_cost, initial_theta, args=(it, y, l), maxfun=400)\n",
    "\n",
    "cost, grad"
   ]
  },
  {
   "cell_type": "markdown",
   "metadata": {},
   "source": [
    "## 1.4 Esboço da fronteira de decisão\n",
    "\n",
    "Nessa parte, você deve esboçar (plotar) a fronteira de decisão que foi aprendida\n",
    "para separar os exemplos positivos dos negativos. Crie uma arquivo de nome\n",
    "**``plotDecisionBoundary.py``**, para criar esse gráfico que traça o limite da decisão\n",
    "não-linear. Seu gráfico deve ser semelhante ao apresentado na **_Figura_** abaixo.\n",
    "\n",
    "![ScatterBoundaryPlot](scatter_boundary.jpg)"
   ]
  },
  {
   "cell_type": "code",
   "execution_count": 60,
   "metadata": {},
   "outputs": [
    {
     "data": {
      "image/png": "[encoded data removed]",
      "text/plain": [
       "<matplotlib.figure.Figure at 0x11f412630>"
      ]
     },
     "metadata": {},
     "output_type": "display_data"
    }
   ],
   "source": [
    "#Plot Boundary\n",
    "l = 1\n",
    "m, n = X.shape\n",
    "y.shape = (m, 1)\n",
    "it = map_feature(X[:, 0], X[:, 1])\n",
    "theta = ones(shape=(it.shape[1], 1))\n",
    "\n",
    "u = linspace(-1, 1.5, 50)\n",
    "v = linspace(-1, 1.5, 50)\n",
    "z = zeros(shape=(len(u), len(v)))\n",
    "for i in range(len(u)):\n",
    "    for j in range(len(v)):\n",
    "        z[i, j] = (map_feature(array(u[i]), array(v[j])).dot(array(theta)))\n",
    "\n",
    "z = z.T\n",
    "contour(u, v, z)\n",
    "title('lambda = %f' % l)\n",
    "xlabel('Microchip Test 1')\n",
    "ylabel('Microchip Test 2')\n",
    "legend(['y = 1', 'y = 0', 'Decision boundary'])\n",
    "show()"
   ]
  },
  {
   "cell_type": "code",
   "execution_count": 61,
   "metadata": {},
   "outputs": [],
   "source": [
    "#load the dataset\n",
    "data2 = np.loadtxt('am-T2-dados/ex2data2.txt', delimiter=',')"
   ]
  },
  {
   "cell_type": "code",
   "execution_count": 82,
   "metadata": {},
   "outputs": [],
   "source": [
    "#y = np.c_[data2[:,2]]\n",
    "y = data2[:,2]\n",
    "y.shape = (y.size, 1)\n",
    "X = data2[:,0:2]"
   ]
  },
  {
   "cell_type": "code",
   "execution_count": 89,
   "metadata": {},
   "outputs": [
    {
     "name": "stdout",
     "output_type": "stream",
     "text": [
      "(118, 1)\n"
     ]
    }
   ],
   "source": [
    "print(y.shape)"
   ]
  },
  {
   "cell_type": "code",
   "execution_count": 84,
   "metadata": {},
   "outputs": [
    {
     "data": {
      "text/plain": [
       "(118, 28)"
      ]
     },
     "execution_count": 84,
     "metadata": {},
     "output_type": "execute_result"
    }
   ],
   "source": [
    "#it = map_feature(X[:, 0], X[:, 1])\n",
    "\n",
    "X_feature = map_feature(X[:, 0], X[:, 1])\n",
    "X_feature.shape"
   ]
  },
  {
   "cell_type": "code",
   "execution_count": 85,
   "metadata": {
    "collapsed": true
   },
   "outputs": [],
   "source": [
    "def costFunctionReg(theta, reg, X, y):\n",
    "    m = y.size\n",
    "    h = sigmoid(X.dot(theta))\n",
    "    J = -1*(1/m)*(np.log(h).T.dot(y)+np.log(1-h).T.dot(1-y)) + (reg/(2*m))*np.sum(np.square(theta[1:]))\n",
    "    \n",
    "    if np.isnan(J[0]):\n",
    "        return(np.inf)\n",
    "    return(J[0])"
   ]
  },
  {
   "cell_type": "code",
   "execution_count": 86,
   "metadata": {
    "collapsed": true
   },
   "outputs": [],
   "source": [
    "def gradientReg(theta, reg,  X, y):\n",
    "    m = y.size\n",
    "    h = sigmoid(X.dot(theta.reshape(-1,1)))\n",
    "      \n",
    "    grad = (1/m)*X.T.dot(h-y) + (reg/m)*np.r_[[[0]],theta[1:].reshape(-1,1)]\n",
    "        \n",
    "    return(grad.flatten())"
   ]
  },
  {
   "cell_type": "code",
   "execution_count": 87,
   "metadata": {},
   "outputs": [
    {
     "data": {
      "text/plain": [
       "0.69314718055994529"
      ]
     },
     "execution_count": 87,
     "metadata": {},
     "output_type": "execute_result"
    }
   ],
   "source": [
    "initial_theta = np.zeros(X_feature.shape[1])\n",
    "costFunctionReg(initial_theta, 1, X_feature, y)"
   ]
  },
  {
   "cell_type": "code",
   "execution_count": 100,
   "metadata": {},
   "outputs": [
    {
     "data": {
      "text/plain": [
       "array([ 0.,  0.,  0.,  0.,  0.,  0.,  0.,  0.,  0.,  0.,  0.,  0.,  0.,\n",
       "        0.,  0.,  0.,  0.,  0.,  0.,  0.,  0.,  0.,  0.,  0.,  0.,  0.,\n",
       "        0.,  0.])"
      ]
     },
     "execution_count": 100,
     "metadata": {},
     "output_type": "execute_result"
    }
   ],
   "source": [
    "initial_theta"
   ]
  },
  {
   "cell_type": "markdown",
   "metadata": {
    "collapsed": true
   },
   "source": [
    "## 1.3 Visualização de J(ø)\n",
    "\n",
    "Para melhor entender a função de custo, você irá nessa parte do trabalho plotar o custo sobre \n",
    "uma grade bidimensional de valores de 0 e de 1. Para isso, você deve usar sua implementação da função **computarCusto**.\n",
    "\n",
    "O código que você deve implementar deve gerar um array bidimensional de valores de J(ø). Os valores gerados pelo seu código devem estar na faixa a seguir: -10;0;+10 e -1;+4. Utilize incremento de 0.01 para gerar os valores de 0 e de 1.\n",
    "\n",
    "A seguir, usando a função _matplotlib.pyplot.contour_ da biblioteca matplotlib, produza um gráfico de curvas de contorno (contour plot). Também\n",
    "utilizando a biblioteca matplotlib, crie um gráfico da superfície correspondente a J(ø)."
   ]
  },
  {
   "cell_type": "code",
   "execution_count": 92,
   "metadata": {
    "collapsed": true
   },
   "outputs": [],
   "source": [
    "import pandas as pd\n",
    "import numpy as np\n",
    "import matplotlib as mpl\n",
    "import matplotlib.pyplot as plt\n",
    "\n",
    "from scipy.optimize import minimize\n",
    "\n",
    "from sklearn.preprocessing import PolynomialFeatures\n",
    "\n",
    "pd.set_option('display.notebook_repr_html', False)\n",
    "pd.set_option('display.max_columns', None)\n",
    "pd.set_option('display.max_rows', 150)\n",
    "pd.set_option('display.max_seq_items', None)\n",
    " \n",
    "#%config InlineBackend.figure_formats = {'pdf',}\n",
    "%matplotlib inline\n",
    "\n",
    "import seaborn as sns\n",
    "sns.set_context('notebook')\n",
    "sns.set_style('white')"
   ]
  },
  {
   "cell_type": "code",
   "execution_count": 95,
   "metadata": {
    "collapsed": true
   },
   "outputs": [],
   "source": [
    "def predict(theta, X, threshold=0.5):\n",
    "    p = sigmoid(X.dot(theta.T)) >= threshold\n",
    "    return(p.astype('int'))\n",
    "\n",
    "def loaddata(file, delimeter):\n",
    "    data = np.loadtxt(file, delimiter=delimeter)\n",
    "    print('Dimensions: ',data.shape)\n",
    "    print(data[1:6,:])\n",
    "    return(data)\n",
    "\n",
    "def plotData(data, label_x, label_y, label_pos, label_neg, axes=None):\n",
    "    # Get indexes for class 0 and class 1\n",
    "    neg = data[:,2] == 0\n",
    "    pos = data[:,2] == 1\n",
    "    \n",
    "    # If no specific axes object has been passed, get the current axes.\n",
    "    if axes == None:\n",
    "        axes = plt.gca()\n",
    "    axes.scatter(data[pos][:,0], data[pos][:,1], marker='+', c='k', s=60, linewidth=2, label=label_pos)\n",
    "    axes.scatter(data[neg][:,0], data[neg][:,1], c='y', s=60, label=label_neg)\n",
    "    axes.set_xlabel(label_x)\n",
    "    axes.set_ylabel(label_y)\n",
    "    axes.legend(frameon= True, fancybox = True);"
   ]
  },
  {
   "cell_type": "code",
   "execution_count": 99,
   "metadata": {},
   "outputs": [
    {
     "ename": "TypeError",
     "evalue": "Input z must be a 2D array.",
     "output_type": "error",
     "traceback": [
      "\u001b[0;31m---------------------------------------------------------------------------\u001b[0m",
      "\u001b[0;31mTypeError\u001b[0m                                 Traceback (most recent call last)",
      "\u001b[0;32m<ipython-input-99-04dbf6a05529>\u001b[0m in \u001b[0;36m<module>\u001b[0;34m()\u001b[0m\n\u001b[1;32m     23\u001b[0m     \u001b[0mh\u001b[0m \u001b[0;34m=\u001b[0m \u001b[0msigmoid\u001b[0m\u001b[0;34m(\u001b[0m\u001b[0mX_feature\u001b[0m\u001b[0;34m)\u001b[0m\u001b[0;34m.\u001b[0m\u001b[0mdot\u001b[0m\u001b[0;34m(\u001b[0m\u001b[0mres2\u001b[0m\u001b[0;34m.\u001b[0m\u001b[0mx\u001b[0m\u001b[0;34m)\u001b[0m\u001b[0;34m\u001b[0m\u001b[0m\n\u001b[1;32m     24\u001b[0m     \u001b[0;31m#h = h.reshape(xx1.shape)\u001b[0m\u001b[0;34m\u001b[0m\u001b[0;34m\u001b[0m\u001b[0m\n\u001b[0;32m---> 25\u001b[0;31m     \u001b[0maxes\u001b[0m\u001b[0;34m.\u001b[0m\u001b[0mflatten\u001b[0m\u001b[0;34m(\u001b[0m\u001b[0;34m)\u001b[0m\u001b[0;34m[\u001b[0m\u001b[0mi\u001b[0m\u001b[0;34m]\u001b[0m\u001b[0;34m.\u001b[0m\u001b[0mcontour\u001b[0m\u001b[0;34m(\u001b[0m\u001b[0mxx1\u001b[0m\u001b[0;34m,\u001b[0m \u001b[0mxx2\u001b[0m\u001b[0;34m,\u001b[0m \u001b[0mh\u001b[0m\u001b[0;34m,\u001b[0m \u001b[0;34m[\u001b[0m\u001b[0;36m0.5\u001b[0m\u001b[0;34m]\u001b[0m\u001b[0;34m,\u001b[0m \u001b[0mlinewidths\u001b[0m\u001b[0;34m=\u001b[0m\u001b[0;36m1\u001b[0m\u001b[0;34m,\u001b[0m \u001b[0mcolors\u001b[0m\u001b[0;34m=\u001b[0m\u001b[0;34m'g'\u001b[0m\u001b[0;34m)\u001b[0m\u001b[0;34m;\u001b[0m\u001b[0;34m\u001b[0m\u001b[0m\n\u001b[0m\u001b[1;32m     26\u001b[0m     \u001b[0maxes\u001b[0m\u001b[0;34m.\u001b[0m\u001b[0mflatten\u001b[0m\u001b[0;34m(\u001b[0m\u001b[0;34m)\u001b[0m\u001b[0;34m[\u001b[0m\u001b[0mi\u001b[0m\u001b[0;34m]\u001b[0m\u001b[0;34m.\u001b[0m\u001b[0mset_title\u001b[0m\u001b[0;34m(\u001b[0m\u001b[0;34m'Train accuracy {}% with Lambda = {}'\u001b[0m\u001b[0;34m.\u001b[0m\u001b[0mformat\u001b[0m\u001b[0;34m(\u001b[0m\u001b[0mnp\u001b[0m\u001b[0;34m.\u001b[0m\u001b[0mround\u001b[0m\u001b[0;34m(\u001b[0m\u001b[0maccuracy\u001b[0m\u001b[0;34m,\u001b[0m \u001b[0mdecimals\u001b[0m\u001b[0;34m=\u001b[0m\u001b[0;36m2\u001b[0m\u001b[0;34m)\u001b[0m\u001b[0;34m,\u001b[0m \u001b[0mC\u001b[0m\u001b[0;34m)\u001b[0m\u001b[0;34m)\u001b[0m\u001b[0;34m\u001b[0m\u001b[0m\n",
      "\u001b[0;32m/anaconda/lib/python3.6/site-packages/matplotlib/__init__.py\u001b[0m in \u001b[0;36minner\u001b[0;34m(ax, *args, **kwargs)\u001b[0m\n\u001b[1;32m   1896\u001b[0m                     warnings.warn(msg % (label_namer, func.__name__),\n\u001b[1;32m   1897\u001b[0m                                   RuntimeWarning, stacklevel=2)\n\u001b[0;32m-> 1898\u001b[0;31m             \u001b[0;32mreturn\u001b[0m \u001b[0mfunc\u001b[0m\u001b[0;34m(\u001b[0m\u001b[0max\u001b[0m\u001b[0;34m,\u001b[0m \u001b[0;34m*\u001b[0m\u001b[0margs\u001b[0m\u001b[0;34m,\u001b[0m \u001b[0;34m**\u001b[0m\u001b[0mkwargs\u001b[0m\u001b[0;34m)\u001b[0m\u001b[0;34m\u001b[0m\u001b[0m\n\u001b[0m\u001b[1;32m   1899\u001b[0m         \u001b[0mpre_doc\u001b[0m \u001b[0;34m=\u001b[0m \u001b[0minner\u001b[0m\u001b[0;34m.\u001b[0m\u001b[0m__doc__\u001b[0m\u001b[0;34m\u001b[0m\u001b[0m\n\u001b[1;32m   1900\u001b[0m         \u001b[0;32mif\u001b[0m \u001b[0mpre_doc\u001b[0m \u001b[0;32mis\u001b[0m \u001b[0;32mNone\u001b[0m\u001b[0;34m:\u001b[0m\u001b[0;34m\u001b[0m\u001b[0m\n",
      "\u001b[0;32m/anaconda/lib/python3.6/site-packages/matplotlib/axes/_axes.py\u001b[0m in \u001b[0;36mcontour\u001b[0;34m(self, *args, **kwargs)\u001b[0m\n\u001b[1;32m   5823\u001b[0m             \u001b[0mself\u001b[0m\u001b[0;34m.\u001b[0m\u001b[0mcla\u001b[0m\u001b[0;34m(\u001b[0m\u001b[0;34m)\u001b[0m\u001b[0;34m\u001b[0m\u001b[0m\n\u001b[1;32m   5824\u001b[0m         \u001b[0mkwargs\u001b[0m\u001b[0;34m[\u001b[0m\u001b[0;34m'filled'\u001b[0m\u001b[0;34m]\u001b[0m \u001b[0;34m=\u001b[0m \u001b[0;32mFalse\u001b[0m\u001b[0;34m\u001b[0m\u001b[0m\n\u001b[0;32m-> 5825\u001b[0;31m         \u001b[0mcontours\u001b[0m \u001b[0;34m=\u001b[0m \u001b[0mmcontour\u001b[0m\u001b[0;34m.\u001b[0m\u001b[0mQuadContourSet\u001b[0m\u001b[0;34m(\u001b[0m\u001b[0mself\u001b[0m\u001b[0;34m,\u001b[0m \u001b[0;34m*\u001b[0m\u001b[0margs\u001b[0m\u001b[0;34m,\u001b[0m \u001b[0;34m**\u001b[0m\u001b[0mkwargs\u001b[0m\u001b[0;34m)\u001b[0m\u001b[0;34m\u001b[0m\u001b[0m\n\u001b[0m\u001b[1;32m   5826\u001b[0m         \u001b[0mself\u001b[0m\u001b[0;34m.\u001b[0m\u001b[0mautoscale_view\u001b[0m\u001b[0;34m(\u001b[0m\u001b[0;34m)\u001b[0m\u001b[0;34m\u001b[0m\u001b[0m\n\u001b[1;32m   5827\u001b[0m         \u001b[0;32mreturn\u001b[0m \u001b[0mcontours\u001b[0m\u001b[0;34m\u001b[0m\u001b[0m\n",
      "\u001b[0;32m/anaconda/lib/python3.6/site-packages/matplotlib/contour.py\u001b[0m in \u001b[0;36m__init__\u001b[0;34m(self, ax, *args, **kwargs)\u001b[0m\n\u001b[1;32m    862\u001b[0m         \u001b[0mself\u001b[0m\u001b[0;34m.\u001b[0m\u001b[0m_transform\u001b[0m \u001b[0;34m=\u001b[0m \u001b[0mkwargs\u001b[0m\u001b[0;34m.\u001b[0m\u001b[0mget\u001b[0m\u001b[0;34m(\u001b[0m\u001b[0;34m'transform'\u001b[0m\u001b[0;34m,\u001b[0m \u001b[0;32mNone\u001b[0m\u001b[0;34m)\u001b[0m\u001b[0;34m\u001b[0m\u001b[0m\n\u001b[1;32m    863\u001b[0m \u001b[0;34m\u001b[0m\u001b[0m\n\u001b[0;32m--> 864\u001b[0;31m         \u001b[0mself\u001b[0m\u001b[0;34m.\u001b[0m\u001b[0m_process_args\u001b[0m\u001b[0;34m(\u001b[0m\u001b[0;34m*\u001b[0m\u001b[0margs\u001b[0m\u001b[0;34m,\u001b[0m \u001b[0;34m**\u001b[0m\u001b[0mkwargs\u001b[0m\u001b[0;34m)\u001b[0m\u001b[0;34m\u001b[0m\u001b[0m\n\u001b[0m\u001b[1;32m    865\u001b[0m         \u001b[0mself\u001b[0m\u001b[0;34m.\u001b[0m\u001b[0m_process_levels\u001b[0m\u001b[0;34m(\u001b[0m\u001b[0;34m)\u001b[0m\u001b[0;34m\u001b[0m\u001b[0m\n\u001b[1;32m    866\u001b[0m \u001b[0;34m\u001b[0m\u001b[0m\n",
      "\u001b[0;32m/anaconda/lib/python3.6/site-packages/matplotlib/contour.py\u001b[0m in \u001b[0;36m_process_args\u001b[0;34m(self, *args, **kwargs)\u001b[0m\n\u001b[1;32m   1427\u001b[0m                 \u001b[0mself\u001b[0m\u001b[0;34m.\u001b[0m\u001b[0m_corner_mask\u001b[0m \u001b[0;34m=\u001b[0m \u001b[0mmpl\u001b[0m\u001b[0;34m.\u001b[0m\u001b[0mrcParams\u001b[0m\u001b[0;34m[\u001b[0m\u001b[0;34m'contour.corner_mask'\u001b[0m\u001b[0;34m]\u001b[0m\u001b[0;34m\u001b[0m\u001b[0m\n\u001b[1;32m   1428\u001b[0m \u001b[0;34m\u001b[0m\u001b[0m\n\u001b[0;32m-> 1429\u001b[0;31m             \u001b[0mx\u001b[0m\u001b[0;34m,\u001b[0m \u001b[0my\u001b[0m\u001b[0;34m,\u001b[0m \u001b[0mz\u001b[0m \u001b[0;34m=\u001b[0m \u001b[0mself\u001b[0m\u001b[0;34m.\u001b[0m\u001b[0m_contour_args\u001b[0m\u001b[0;34m(\u001b[0m\u001b[0margs\u001b[0m\u001b[0;34m,\u001b[0m \u001b[0mkwargs\u001b[0m\u001b[0;34m)\u001b[0m\u001b[0;34m\u001b[0m\u001b[0m\n\u001b[0m\u001b[1;32m   1430\u001b[0m \u001b[0;34m\u001b[0m\u001b[0m\n\u001b[1;32m   1431\u001b[0m             \u001b[0m_mask\u001b[0m \u001b[0;34m=\u001b[0m \u001b[0mma\u001b[0m\u001b[0;34m.\u001b[0m\u001b[0mgetmask\u001b[0m\u001b[0;34m(\u001b[0m\u001b[0mz\u001b[0m\u001b[0;34m)\u001b[0m\u001b[0;34m\u001b[0m\u001b[0m\n",
      "\u001b[0;32m/anaconda/lib/python3.6/site-packages/matplotlib/contour.py\u001b[0m in \u001b[0;36m_contour_args\u001b[0;34m(self, args, kwargs)\u001b[0m\n\u001b[1;32m   1506\u001b[0m             \u001b[0margs\u001b[0m \u001b[0;34m=\u001b[0m \u001b[0margs\u001b[0m\u001b[0;34m[\u001b[0m\u001b[0;36m1\u001b[0m\u001b[0;34m:\u001b[0m\u001b[0;34m]\u001b[0m\u001b[0;34m\u001b[0m\u001b[0m\n\u001b[1;32m   1507\u001b[0m         \u001b[0;32melif\u001b[0m \u001b[0mNargs\u001b[0m \u001b[0;34m<=\u001b[0m \u001b[0;36m4\u001b[0m\u001b[0;34m:\u001b[0m\u001b[0;34m\u001b[0m\u001b[0m\n\u001b[0;32m-> 1508\u001b[0;31m             \u001b[0mx\u001b[0m\u001b[0;34m,\u001b[0m \u001b[0my\u001b[0m\u001b[0;34m,\u001b[0m \u001b[0mz\u001b[0m \u001b[0;34m=\u001b[0m \u001b[0mself\u001b[0m\u001b[0;34m.\u001b[0m\u001b[0m_check_xyz\u001b[0m\u001b[0;34m(\u001b[0m\u001b[0margs\u001b[0m\u001b[0;34m[\u001b[0m\u001b[0;34m:\u001b[0m\u001b[0;36m3\u001b[0m\u001b[0;34m]\u001b[0m\u001b[0;34m,\u001b[0m \u001b[0mkwargs\u001b[0m\u001b[0;34m)\u001b[0m\u001b[0;34m\u001b[0m\u001b[0m\n\u001b[0m\u001b[1;32m   1509\u001b[0m             \u001b[0margs\u001b[0m \u001b[0;34m=\u001b[0m \u001b[0margs\u001b[0m\u001b[0;34m[\u001b[0m\u001b[0;36m3\u001b[0m\u001b[0;34m:\u001b[0m\u001b[0;34m]\u001b[0m\u001b[0;34m\u001b[0m\u001b[0m\n\u001b[1;32m   1510\u001b[0m         \u001b[0;32melse\u001b[0m\u001b[0;34m:\u001b[0m\u001b[0;34m\u001b[0m\u001b[0m\n",
      "\u001b[0;32m/anaconda/lib/python3.6/site-packages/matplotlib/contour.py\u001b[0m in \u001b[0;36m_check_xyz\u001b[0;34m(self, args, kwargs)\u001b[0m\n\u001b[1;32m   1540\u001b[0m \u001b[0;34m\u001b[0m\u001b[0m\n\u001b[1;32m   1541\u001b[0m         \u001b[0;32mif\u001b[0m \u001b[0mz\u001b[0m\u001b[0;34m.\u001b[0m\u001b[0mndim\u001b[0m \u001b[0;34m!=\u001b[0m \u001b[0;36m2\u001b[0m\u001b[0;34m:\u001b[0m\u001b[0;34m\u001b[0m\u001b[0m\n\u001b[0;32m-> 1542\u001b[0;31m             \u001b[0;32mraise\u001b[0m \u001b[0mTypeError\u001b[0m\u001b[0;34m(\u001b[0m\u001b[0;34m\"Input z must be a 2D array.\"\u001b[0m\u001b[0;34m)\u001b[0m\u001b[0;34m\u001b[0m\u001b[0m\n\u001b[0m\u001b[1;32m   1543\u001b[0m         \u001b[0;32melse\u001b[0m\u001b[0;34m:\u001b[0m\u001b[0;34m\u001b[0m\u001b[0m\n\u001b[1;32m   1544\u001b[0m             \u001b[0mNy\u001b[0m\u001b[0;34m,\u001b[0m \u001b[0mNx\u001b[0m \u001b[0;34m=\u001b[0m \u001b[0mz\u001b[0m\u001b[0;34m.\u001b[0m\u001b[0mshape\u001b[0m\u001b[0;34m\u001b[0m\u001b[0m\n",
      "\u001b[0;31mTypeError\u001b[0m: Input z must be a 2D array."
     ]
    },
    {
     "data": {
      "image/png": "[encoded data removed]",
      "text/plain": [
       "<matplotlib.figure.Figure at 0x120026be0>"
      ]
     },
     "metadata": {},
     "output_type": "display_data"
    }
   ],
   "source": [
    "fig, axes = plt.subplots(1,3, sharey = True, figsize=(17,5))\n",
    "\n",
    "# Decision boundaries\n",
    "# Lambda = 0 : No regularization --> too flexible, overfitting the training data\n",
    "# Lambda = 1 : Looks about right\n",
    "# Lambda = 100 : Too much regularization --> high bias\n",
    "\n",
    "for i, C in enumerate([0, 1, 100]):\n",
    "    # Optimize costFunctionReg\n",
    "    res2 = minimize(costFunctionReg, initial_theta, args=(C, X_feature, y), method=None, jac=gradientReg, options={'maxiter':3000})\n",
    "    \n",
    "    # Accuracy\n",
    "    accuracy = 100*sum(predict(res2.x, X_feature) == y.ravel())/y.size    \n",
    "\n",
    "    # Scatter plot of X,y\n",
    "    plotData(data2, 'Microchip Test 1', 'Microchip Test 2', 'y = 1', 'y = 0', axes.flatten()[i])\n",
    "    \n",
    "    # Plot decisionboundary\n",
    "    x1_min, x1_max = X[:,0].min(), X[:,0].max(),\n",
    "    x2_min, x2_max = X[:,1].min(), X[:,1].max(),\n",
    "    xx1, xx2 = np.meshgrid(np.linspace(x1_min, x1_max), np.linspace(x2_min, x2_max))\n",
    "    \n",
    "    h = sigmoid(X_feature.fit_transform(np.c_[xx1.ravel(), xx2.ravel()]).dot(res2.x))\n",
    "    h = h.reshape(xx1.shape)\n",
    "    axes.flatten()[i].contour(xx1, xx2, h, [0.5], linewidths=1, colors='g');       \n",
    "    axes.flatten()[i].set_title('Train accuracy {}% with Lambda = {}'.format(np.round(accuracy, decimals=2), C))"
   ]
  },
  {
   "cell_type": "markdown",
   "metadata": {},
   "source": [
    "# 2. Regressão Linear com Múltiplas Variáveis\n",
    "\n",
    "\n",
    "Nessa parte do trabalho, você irá implementar a regressão linear com múltiplas variáveis para predizer \n",
    "o preço de venda de imóveis. O arquivo ex1data2.txt contém informações acerca de preços de imóveis. \n",
    "A primeira coluna corersponde ao tamanho do imóvel (em _pés quadrados_). A segunda coluna corresponde à\n",
    "quantidade de dormitórios no imóvel em questão. A terceira coluna corresponde ao preço do imóvel.\n",
    "\n",
    "## Visualização dos dados"
   ]
  },
  {
   "cell_type": "code",
   "execution_count": null,
   "metadata": {
    "collapsed": true
   },
   "outputs": [],
   "source": [
    "# Carregando o dataset na forma de txt, porque tem melhor desempenho p/ representação gráfica e \n",
    "# principalmente na vertorização, se comparado ao Dataframe, utilizado na primeira seção deste trabalho.\n",
    "\n",
    "data = np.loadtxt('am-T1-dados/ex1data2.txt', delimiter=',')"
   ]
  },
  {
   "cell_type": "code",
   "execution_count": null,
   "metadata": {
    "collapsed": true
   },
   "outputs": [],
   "source": [
    "data"
   ]
  },
  {
   "cell_type": "code",
   "execution_count": null,
   "metadata": {
    "collapsed": true
   },
   "outputs": [],
   "source": [
    "# Inicializando visualização gráfica\n",
    "plano = plt.figure()\n",
    "plano = plano.add_subplot(111, projection='3d')\n",
    "\n",
    "# Criação dos pontos ('x' vermelhos) para o gráfico\n",
    "for c, m in [('red', 'x')]:\n",
    "    tamanho = data[:, 0] \n",
    "    quartos = data[:, 1] \n",
    "    valor   = data[:, 2] \n",
    "    plano.scatter(tamanho, quartos, valor, c=c, marker=m)\n",
    "\n",
    "\n",
    "# Plotando o Gráfico\n",
    "plano.set_xlabel('Tamanho')\n",
    "plano.set_ylabel('Nº de Quartos')\n",
    "plano.set_zlabel('Valor do Imóvel')\n",
    "show()"
   ]
  },
  {
   "cell_type": "markdown",
   "metadata": {
    "collapsed": true
   },
   "source": [
    "## 2.1 Normalização das características\n",
    "\n",
    "Se você inspecionar os valores do conjunto de dados fornecido, irá notar que os tamanhos dos imóveis são \n",
    "aproximadamente 1000 vezes maiores que as quantidades encontradas na coluna de quantidade de dormitórios. \n",
    "Sua tarefa nessa parte é implementar uma função denominada normalizarCaracteristica em um arquivo denominado \n",
    "normalizarCaracteristica.py. Essa função deve:\n",
    "\n",
    " - subtrair o valor médio de todas as características do conjunto de dados.\n",
    " - após subtrair a média, dividir cada característica pelos seus respectivos desvios padrões.\n",
    "\n",
    "A sua função **normalizarCaracteristica** deve a matriz de dados X de dados como parâmetro (na forma de um numpy array). Além disso, essa função deve funcionar com conjuntos de dados de variados tamanhos (qualquer quantidade\n",
    "de características / exemplos). Repare que cada coluna da matriz de dados X passada para a função **normalizarCaracteristica** deve corresponder a um característica.\n",
    "\n",
    "**Nota de Implementação**: Ao normalizar as características, é importante armazenar os valores utilizados para a normalização - o valor médio e o desvio padrão utilizados para a normalização. Depois de aprender os parâmetros do modelo, muitas vezes queremos prever os preços das casas que não temos visto antes. Dado um novo valor x (área da sala de estar e número de quartos), devemos normalizar x usando a média e o desvio padrão que nós previamente\n",
    "calculamos a partir do conjunto de treinamento."
   ]
  },
  {
   "cell_type": "code",
   "execution_count": null,
   "metadata": {
    "collapsed": true
   },
   "outputs": [],
   "source": [
    "def normalizarCaracteristica(X):\n",
    "    '''\n",
    "    Retorna uma versão normalizada de X onde o valor médio de cada característica é 0 \n",
    "    e o desvio padrão é 1. Este é frequentemente um bom passo de pré-processamento \n",
    "    a ser feito ao trabalhar com algoritmos de aprendizado.\n",
    "    '''\n",
    "    valormedio = []\n",
    "    desviopadrao = []\n",
    "    X_Normalizado = X\n",
    "\n",
    "    for i in range(X.shape[1]):\n",
    "        m = np.mean(X[:, i])\n",
    "        s = np.std(X[:, i])\n",
    "        valormedio.append(m)\n",
    "        desviopadrao.append(s)\n",
    "        X_Normalizado[:, i] = (X_Normalizado[:, i] - m) / s\n",
    "\n",
    "    return X_Normalizado, valormedio, desviopadrao"
   ]
  },
  {
   "cell_type": "markdown",
   "metadata": {},
   "source": [
    "## 2.2 Gradiente descendente\n",
    "\n",
    "Anteriormente, você implementou o GD em uma regressão linear univariada. A única diferença agora é que há mais uma característica na matriz de dados X. A função de hipótese h(x) e a atualização dos gradientes em lote permanecem inalteradas. Você deve implementar código nos arquivos denominados **computarCustoMulti.py** e **gdmulti.py** para implementar a função de custo e o algoritmo GD para regressão linear com múltiplas variáveis, respectivamente. Se o seu código na parte anterior (variável única) já provê suporte a múltiplas variáveis, você também pode reusá-lo aqui. Se assegure de que o seu código dá suporte a qualquer número de características e está bem vetorizado."
   ]
  },
  {
   "cell_type": "code",
   "execution_count": null,
   "metadata": {
    "collapsed": true
   },
   "outputs": [],
   "source": [
    "def computarCustoMulti(X, y, theta):\n",
    "    '''\n",
    "    Função que computa o custo para Regressão Linear com múltiplas variáveis.\n",
    "    '''\n",
    "    # Número do conjunto de treinamento\n",
    "    m = y.size\n",
    "    J = (1 / (2 * m)) * (X.dot(theta) - y).T.dot(X.dot(theta) - y)\n",
    "    return J"
   ]
  },
  {
   "cell_type": "code",
   "execution_count": null,
   "metadata": {
    "collapsed": true
   },
   "outputs": [],
   "source": [
    "def gradienteDescendenteMulti(X, y, theta, alpha, iteracoes):\n",
    "    '''\n",
    "    Essa função calcula o gradiente descendente conforme o Theta, e com\n",
    "    etapas de iteracoes gradiente mediante a taxa de aprendizado em Alpha.\n",
    "    '''\n",
    "    m = y.size\n",
    "    J = np.zeros(shape=(iteracoes, 1))\n",
    "\n",
    "    for i in range(iteracoes):\n",
    "        hipotese = X.dot(theta)\n",
    "        \n",
    "        for it in range(theta.size):\n",
    "            temp = X[:, it]\n",
    "            temp.shape = (m, 1)\n",
    "\n",
    "            errors_x1 = (hipotese - y) * temp\n",
    "            theta[it][0] = theta[it][0] - alpha * (1.0 / m) * errors_x1.sum()\n",
    "\n",
    "        J[i, 0] = computarCustoMulti(X, y, theta)\n",
    "\n",
    "    return J"
   ]
  },
  {
   "cell_type": "code",
   "execution_count": null,
   "metadata": {
    "collapsed": true
   },
   "outputs": [],
   "source": [
    "X = data[:, :2]\n",
    "y = data[:, 2]\n",
    "\n",
    "# Tamanho do conjunto de treinamento\n",
    "m = y.size\n",
    "y.shape = (m,1)\n",
    "\n",
    "# Normalizando X, obtendo Média e Desvio-padrão\n",
    "x, media, desviopadrao = normalizarCaracteristica(X)\n",
    "\n",
    "# Adicionando uma coluna de 1's ao novo X\n",
    "Xnovo = np.ones(shape=(m, 3))\n",
    "Xnovo[:, 1:3] = x\n",
    "\n",
    "# Atributos para a função GradienteDescendenteMulti\n",
    "iteracao = 100           # Número de repeticões p/ o algoritmo\n",
    "alpha = 0.01             # Taxa de aprendizado\n",
    "\n",
    "# Inicializando o Theta p/ execução da função GradienteDescendenteMulti\n",
    "theta = np.zeros(shape=(3, 1))\n",
    "J = gradienteDescendenteMulti(Xnovo, y, theta, alpha, iteracao)\n",
    "\n",
    "plot(np.arange(iteracao), J)\n",
    "xlabel('Iteracões')\n",
    "ylabel('Função de Custo')\n",
    "show()"
   ]
  },
  {
   "cell_type": "markdown",
   "metadata": {},
   "source": [
    "# 3. Regressão Logística\n",
    "\n",
    "Nessa parte do trabalho, você irá implementar a regressão logística. Em particular,\n",
    "você irá criar uma classificador para predizer se um estudante será admitido em uma \n",
    "universidade, com base nos resultados de duas avaliações. Suponha que estão disponíveis \n",
    "dados históricos acerca de realizações passadas dessas avaliações, e que esses dados \n",
    "históricos podem ser usados como conjunto de treinamento. Para cada exemplo desse conjunto \n",
    "de treinamento, temos as notas das duas avaliações e a decisão acerca do candidato \n",
    "(aprovado ou reprovado). \n",
    "\n",
    "Sua tarefa é construir um modelo de classificação que provê uma estimativa da probabilidade \n",
    "de admissão de um candidato, com base na notas que ele obteve nas duas avaliações. \n",
    "\n",
    "O arquivo **ex2data1.txt** contém os dados a serem usados nessa parte do trabalho."
   ]
  },
  {
   "cell_type": "markdown",
   "metadata": {},
   "source": [
    "## 3.1 Visualização dos dados\n",
    "\n",
    "Antes de começar a implementar qualquer algoritmo de aprendizado, é adequado\n",
    "visualizar os dados, quando possível. Nessa parte do trabalho, você deve\n",
    "carregar o arquivo com o conjunto de treinamento e plotar (i.e., produzir um\n",
    "gráfico) os pontos de dados. O resultado dessa tarefa deve ser um gráfico similar\n",
    "ao apresentado na _Figura_ abaixo.\n",
    "\n",
    "![Boundary.png](Boundary.png)\n"
   ]
  },
  {
   "cell_type": "code",
   "execution_count": null,
   "metadata": {
    "collapsed": true
   },
   "outputs": [],
   "source": [
    "# carregando os dados \n",
    "data = np.loadtxt('am-T1-dados/ex2data1.txt', delimiter=',', usecols=(0,1,2), unpack=True)"
   ]
  },
  {
   "cell_type": "code",
   "execution_count": null,
   "metadata": {
    "collapsed": true
   },
   "outputs": [],
   "source": [
    "# Transportando matriz\n",
    "X = np.transpose(np.array(data[:2]))\n",
    "y = np.transpose(np.array(data[2:]))\n",
    "\n",
    "# Tamanho do conjunto de treinamento\n",
    "m = y.size\n",
    "\n",
    "# Adicionando uma coluna de 1's ao novo X\n",
    "X = np.insert(X,0,1,axis=1)\n",
    "\n",
    "# Classificando a amostra em Positiva (data[:, 2]=1) e Negativa(data[:, 2]=0)\n",
    "X_Admitted  = np.array([X[i] for i in range(X.shape[0]) if y[i] == 1])\n",
    "X_Nadmitted = np.array([X[i] for i in range(X.shape[0]) if y[i] == 0])\n",
    "\n",
    "plt.figure(figsize=(16,8))\n",
    "plt.plot(X_Admitted[:, 1], X_Admitted[:, 2],'k+',label='Admitted')\n",
    "plt.plot(X_Nadmitted[:, 1], X_Nadmitted[:, 2],'yo',label='Not admitted')\n",
    "plt.title('Gráfico Decision Boundary p/ admissão de candidato', fontsize=18, fontweight='bold')\n",
    "plt.xlabel('Exam 1 Score', fontweight='bold')\n",
    "plt.ylabel('Exam 2 Score', fontweight='bold')\n",
    "plt.legend()\n",
    "plt.grid(False)    \n",
    "plt.show()"
   ]
  },
  {
   "cell_type": "markdown",
   "metadata": {},
   "source": [
    "## 3.2 Implementação\n",
    "\n",
    "### 3.2.1 Função sigmoide\n",
    "\n",
    "Como primeiro passo nessa parte, implemente a função em Python que calcula\n",
    "o valor da função **sigmoide**. Defina essa função em um arquivo denominado\n",
    "**_sigmoide.py_**, de tal forma que ela possa ser chamada de outras parte do seu\n",
    "código. Após finalizar sua implementação, você pode verificar sua corretude:\n",
    "\n",
    " - Para a sigmoide(0), o valor retornado deve ser 0.5. \n",
    " - Para valores muito grandes positivos (ou negativos), ela retornará um valor muito próximo de 1 (ou de 0). \n",
    "\n",
    "O seu código também deve funcionar com vetores (i.e., **o seu código deve estar vetorizado**). Em particular, se\n",
    "uma matriz for passada, o seu código deve aplicar a função sigmoide a cada componente."
   ]
  },
  {
   "cell_type": "code",
   "execution_count": null,
   "metadata": {
    "collapsed": true
   },
   "outputs": [],
   "source": [
    "def sigmoid(x):\n",
    "    '''\n",
    "    A função sigmoid\n",
    "    '''\n",
    "    g = np.array([x]).flatten()\n",
    "    s = 1 / (1 + np.exp(-g))\n",
    "    return s"
   ]
  },
  {
   "cell_type": "code",
   "execution_count": null,
   "metadata": {
    "collapsed": true
   },
   "outputs": [],
   "source": [
    "print('\\t ###########################  Teste para função sigmoid(0)  ###########################\\n')\n",
    "print('\\t O Valor da Sigmoid(0) é', sigmoid(0))\n",
    "print('\\t O Valor da Sigmoid([0,1,2,3000]) é', sigmoid(np.array([0,1,2,3000])))\n",
    "print('\\t ######################################################################################\\n')"
   ]
  },
  {
   "cell_type": "code",
   "execution_count": null,
   "metadata": {
    "collapsed": true
   },
   "outputs": [],
   "source": [
    "# Exibindo o gráfico da função Sigmoid\n",
    "X_teste = np.arange(-6,6,.5)\n",
    "plt.plot(X_teste, sigmoid(X_teste))\n",
    "plt.title(\"Função Sigmoid\", fontsize=18, fontweight='bold')\n",
    "plt.grid(True)\n",
    "plt.show()"
   ]
  },
  {
   "cell_type": "markdown",
   "metadata": {},
   "source": [
    "## 3.2.2 Função de custo e gradiente\n",
    "\n",
    "Agora, você deverá implementar a função de custo para a regressão logística.\n",
    "Essa função deve retornar o valor de função de custo e o gradiente. Implemente\n",
    "esse código em um arquivo denominado funcaoCustoRegressaoLogistica.py.\n",
    "Lembre-se de que o gradiente é um vetor com o mesmo número de elementos que ø.\n",
    "\n",
    "Uma vez que tenha implementado essa função, realize uma chamada usando\n",
    "o valor inicial de ø. Você deve confirmar que o valor produzido é aproximadamente 0.693."
   ]
  },
  {
   "cell_type": "code",
   "execution_count": null,
   "metadata": {
    "collapsed": true
   },
   "outputs": [],
   "source": [
    "def custoJ(theta, X, y):\n",
    "    '''\n",
    "    A função custoJ retorna o valor de função de custo:\n",
    "        X é uma matrix com n-colunas e m-linhas\n",
    "        y é um vetor com m-linhas\n",
    "        theta é um vetor n-dimensional\n",
    "        \n",
    "    Obs.: Será utilizada para facilitar o cálculo de minimização. \n",
    "    '''\n",
    "    m = len(y)\n",
    "    H = sigmoid(X.dot(theta).T)\n",
    "    J = -np.sum( y* np.log(H) + (1-y) * np.log(1-H))/m\n",
    "    return J"
   ]
  },
  {
   "cell_type": "code",
   "execution_count": null,
   "metadata": {
    "collapsed": true
   },
   "outputs": [],
   "source": [
    "def custoRegressaoLogistica(theta, X, y):\n",
    "    '''\n",
    "    A função funcaoCustoRegressaoLogistica retorna o valor de função de custo e o gradiente.\n",
    "        Returna J, gradiente:\n",
    "        \n",
    "        X é uma matrix com n-colunas e m-linhas\n",
    "        y é um vetor com m-linhas\n",
    "        theta é um vetor n-dimensional\n",
    "    '''\n",
    "    \n",
    "    # Calcula o Custo\n",
    "    m = len(y)\n",
    "    H = sigmoid(X.dot(theta).T)\n",
    "    J = -np.sum( y* np.log(H) + (1-y) * np.log(1-H))/m\n",
    "\n",
    "    # Calcula o Gradiente\n",
    "    erro = H-y\n",
    "    gradiente = []\n",
    "    for i in range(len(X.columns)):\n",
    "        gradiente.append(np.sum(erro*(X.iloc[:,i]))/m)\n",
    "    \n",
    "    return J, gradiente"
   ]
  },
  {
   "cell_type": "markdown",
   "metadata": {},
   "source": [
    "## 3.2.3 Aprendizado dos parâmetros\n",
    "\n",
    "Para a regressão logística, o objetivo é minimizar J(ø) com relação ao vetor\n",
    "de parâmetros ø. Sendo assim, nessa parte você deve implementar uma função\n",
    "em Python para encontrar o vetor ø que minimiza a função de custo. Utilize a\n",
    "função **funcaoCustoRegressaoLogistica** que você implementou previamente."
   ]
  },
  {
   "cell_type": "code",
   "execution_count": null,
   "metadata": {
    "collapsed": true
   },
   "outputs": [],
   "source": [
    "from scipy import optimize\n",
    "\n",
    "def minimizar(theta, X, y):\n",
    "    '''\n",
    "    A função minimizar J(ø) com relação ao vetor de parâmetros ø\n",
    "    '''\n",
    "    minimo = optimize.fmin(func=custoJ, x0=theta, args=(X, y), maxiter=1000, full_output=True)\n",
    "    return minimo[0], minimo[1]"
   ]
  },
  {
   "cell_type": "code",
   "execution_count": 12,
   "metadata": {},
   "outputs": [
    {
     "data": {
      "text/html": [
       "<div>\n",
       "<style>\n",
       "    .dataframe thead tr:only-child th {\n",
       "        text-align: right;\n",
       "    }\n",
       "\n",
       "    .dataframe thead th {\n",
       "        text-align: left;\n",
       "    }\n",
       "\n",
       "    .dataframe tbody tr th {\n",
       "        vertical-align: top;\n",
       "    }\n",
       "</style>\n",
       "<table border=\"1\" class=\"dataframe\">\n",
       "  <thead>\n",
       "    <tr style=\"text-align: right;\">\n",
       "      <th></th>\n",
       "      <th>Exame1</th>\n",
       "      <th>Exame2</th>\n",
       "    </tr>\n",
       "  </thead>\n",
       "  <tbody>\n",
       "    <tr>\n",
       "      <th>0</th>\n",
       "      <td>0.051267</td>\n",
       "      <td>0.69956</td>\n",
       "    </tr>\n",
       "    <tr>\n",
       "      <th>1</th>\n",
       "      <td>-0.092742</td>\n",
       "      <td>0.68494</td>\n",
       "    </tr>\n",
       "    <tr>\n",
       "      <th>2</th>\n",
       "      <td>-0.213710</td>\n",
       "      <td>0.69225</td>\n",
       "    </tr>\n",
       "    <tr>\n",
       "      <th>3</th>\n",
       "      <td>-0.375000</td>\n",
       "      <td>0.50219</td>\n",
       "    </tr>\n",
       "    <tr>\n",
       "      <th>4</th>\n",
       "      <td>-0.513250</td>\n",
       "      <td>0.46564</td>\n",
       "    </tr>\n",
       "  </tbody>\n",
       "</table>\n",
       "</div>"
      ],
      "text/plain": [
       "     Exame1   Exame2\n",
       "0  0.051267  0.69956\n",
       "1 -0.092742  0.68494\n",
       "2 -0.213710  0.69225\n",
       "3 -0.375000  0.50219\n",
       "4 -0.513250  0.46564"
      ]
     },
     "execution_count": 12,
     "metadata": {},
     "output_type": "execute_result"
    }
   ],
   "source": [
    "# Utilizando uma segunda estrutura de dados\n",
    "import pandas as pd\n",
    "\n",
    "dfQA = pd.read_csv('am-T2-dados/ex2data2.txt', names=['Exame1', 'Exame2', 'Admissao'])\n",
    "\n",
    "X = dfQA.iloc[:, :2]\n",
    "y = dfQA.iloc[:, 2]\n",
    "X.head()"
   ]
  },
  {
   "cell_type": "code",
   "execution_count": 13,
   "metadata": {},
   "outputs": [
    {
     "data": {
      "text/html": [
       "<div>\n",
       "<style>\n",
       "    .dataframe thead tr:only-child th {\n",
       "        text-align: right;\n",
       "    }\n",
       "\n",
       "    .dataframe thead th {\n",
       "        text-align: left;\n",
       "    }\n",
       "\n",
       "    .dataframe tbody tr th {\n",
       "        vertical-align: top;\n",
       "    }\n",
       "</style>\n",
       "<table border=\"1\" class=\"dataframe\">\n",
       "  <thead>\n",
       "    <tr style=\"text-align: right;\">\n",
       "      <th></th>\n",
       "      <th>theta0</th>\n",
       "      <th>Exame1</th>\n",
       "      <th>Exame2</th>\n",
       "    </tr>\n",
       "  </thead>\n",
       "  <tbody>\n",
       "    <tr>\n",
       "      <th>0</th>\n",
       "      <td>1.0</td>\n",
       "      <td>0.051267</td>\n",
       "      <td>0.69956</td>\n",
       "    </tr>\n",
       "    <tr>\n",
       "      <th>1</th>\n",
       "      <td>1.0</td>\n",
       "      <td>-0.092742</td>\n",
       "      <td>0.68494</td>\n",
       "    </tr>\n",
       "    <tr>\n",
       "      <th>2</th>\n",
       "      <td>1.0</td>\n",
       "      <td>-0.213710</td>\n",
       "      <td>0.69225</td>\n",
       "    </tr>\n",
       "    <tr>\n",
       "      <th>3</th>\n",
       "      <td>1.0</td>\n",
       "      <td>-0.375000</td>\n",
       "      <td>0.50219</td>\n",
       "    </tr>\n",
       "    <tr>\n",
       "      <th>4</th>\n",
       "      <td>1.0</td>\n",
       "      <td>-0.513250</td>\n",
       "      <td>0.46564</td>\n",
       "    </tr>\n",
       "  </tbody>\n",
       "</table>\n",
       "</div>"
      ],
      "text/plain": [
       "   theta0    Exame1   Exame2\n",
       "0     1.0  0.051267  0.69956\n",
       "1     1.0 -0.092742  0.68494\n",
       "2     1.0 -0.213710  0.69225\n",
       "3     1.0 -0.375000  0.50219\n",
       "4     1.0 -0.513250  0.46564"
      ]
     },
     "execution_count": 13,
     "metadata": {},
     "output_type": "execute_result"
    }
   ],
   "source": [
    "#add a column of ones to the feature matrix X to account for theta 0\n",
    "m = len(y)\n",
    "X.insert(0, \"theta0\",value=pd.Series(np.ones([m])))\n",
    "X.head()"
   ]
  },
  {
   "cell_type": "code",
   "execution_count": 18,
   "metadata": {},
   "outputs": [
    {
     "data": {
      "image/png": "[encoded data removed]",
      "text/plain": [
       "<matplotlib.figure.Figure at 0x11b59b358>"
      ]
     },
     "metadata": {},
     "output_type": "display_data"
    },
    {
     "data": {
      "image/png": "[encoded data removed]",
      "text/plain": [
       "<matplotlib.figure.Figure at 0x11eaff0f0>"
      ]
     },
     "metadata": {},
     "output_type": "display_data"
    },
    {
     "data": {
      "image/png": "[encoded data removed]",
      "text/plain": [
       "<matplotlib.figure.Figure at 0x11ea2af98>"
      ]
     },
     "metadata": {},
     "output_type": "display_data"
    }
   ],
   "source": [
    "# Apresentando uma visualização gráfica com base na classificação\n",
    "from seaborn import lmplot\n",
    "import matplotlib.pyplot as plt\n",
    "\n",
    "g = lmplot(\"Exame1\", \"Exame2\", hue=\"Admissao\", data=dfQA, fit_reg=True, palette = \"dark\", markers = [\"o\",\"x\"], legend = True)\n",
    "plt.xlabel(\"Exame 1 Score\")\n",
    "plt.ylabel(\"Exame 2 Score\")\n",
    "plot_x = np.array([min(X.iloc[:,2])-2,  max(X.iloc[:,2])+2])\n",
    "plt.ylim(30,100)\n",
    "plt.show()"
   ]
  },
  {
   "cell_type": "code",
   "execution_count": 19,
   "metadata": {},
   "outputs": [
    {
     "ename": "NameError",
     "evalue": "name 'sigmoid' is not defined",
     "output_type": "error",
     "traceback": [
      "\u001b[0;31m---------------------------------------------------------------------------\u001b[0m",
      "\u001b[0;31mNameError\u001b[0m                                 Traceback (most recent call last)",
      "\u001b[0;32m<ipython-input-19-c0e412851592>\u001b[0m in \u001b[0;36m<module>\u001b[0;34m()\u001b[0m\n\u001b[1;32m      1\u001b[0m \u001b[0mtheta0\u001b[0m \u001b[0;34m=\u001b[0m \u001b[0mnp\u001b[0m\u001b[0;34m.\u001b[0m\u001b[0mzeros\u001b[0m\u001b[0;34m(\u001b[0m\u001b[0;34m[\u001b[0m\u001b[0mX\u001b[0m\u001b[0;34m.\u001b[0m\u001b[0mshape\u001b[0m\u001b[0;34m[\u001b[0m\u001b[0;36m1\u001b[0m\u001b[0;34m]\u001b[0m\u001b[0;34m,\u001b[0m \u001b[0;36m1\u001b[0m\u001b[0;34m]\u001b[0m\u001b[0;34m)\u001b[0m\u001b[0;34m\u001b[0m\u001b[0m\n\u001b[0;32m----> 2\u001b[0;31m \u001b[0mhypothesis\u001b[0m \u001b[0;34m=\u001b[0m \u001b[0msigmoid\u001b[0m\u001b[0;34m(\u001b[0m\u001b[0mX\u001b[0m\u001b[0;34m.\u001b[0m\u001b[0mdot\u001b[0m\u001b[0;34m(\u001b[0m\u001b[0mtheta0\u001b[0m\u001b[0;34m)\u001b[0m\u001b[0;34m.\u001b[0m\u001b[0mT\u001b[0m\u001b[0;34m)\u001b[0m\u001b[0;34m\u001b[0m\u001b[0m\n\u001b[0m\u001b[1;32m      3\u001b[0m \u001b[0mprint\u001b[0m\u001b[0;34m(\u001b[0m\u001b[0mhypothesis\u001b[0m\u001b[0;34m)\u001b[0m\u001b[0;34m\u001b[0m\u001b[0m\n",
      "\u001b[0;31mNameError\u001b[0m: name 'sigmoid' is not defined"
     ]
    }
   ],
   "source": [
    "theta0 = np.zeros([X.shape[1], 1])\n",
    "hypothesis = sigmoid(X.dot(theta0).T)\n",
    "print(hypothesis)"
   ]
  },
  {
   "cell_type": "code",
   "execution_count": null,
   "metadata": {
    "collapsed": true
   },
   "outputs": [],
   "source": [
    "print(custoRegressaoLogistica(theta0, X, y))"
   ]
  },
  {
   "cell_type": "code",
   "execution_count": null,
   "metadata": {
    "collapsed": true
   },
   "outputs": [],
   "source": [
    "# \n",
    "print(custoJ(theta0, X, y))"
   ]
  },
  {
   "cell_type": "code",
   "execution_count": null,
   "metadata": {
    "collapsed": true
   },
   "outputs": [],
   "source": [
    "# Avaliando a minimização\n",
    "X_min, theta_min = minimizar(theta0, X, y)\n",
    "print(X_min, theta_min)"
   ]
  },
  {
   "cell_type": "markdown",
   "metadata": {},
   "source": [
    "## 3.2.4 Avaliação do modelo\n",
    "\n",
    "Após o aprendizado dos parâmetros, você pode usar o modelo correspondente\n",
    "para predizer se um candidato qualquer será aprovado. Para um candidato\n",
    "com **_notas 45 e 85 na primeira e segunda avaliações_**, respectivamente, você deve\n",
    "esperar que ele seja aprovado com **probabilidade de 77.6%**.\n",
    "\n",
    "Outro modo de avaliar a qualidade dos parâmetros é verificar o quão bem o\n",
    "modelo aprendido prediz os pontos de dados do conjunto de treinamento. Nessa\n",
    "parte, você deve implementar uma função denominada predizer. Essa função\n",
    "deve produzir os valores 0 ou 1, dados um exemplo do conjunto de treinamento\n",
    "o vetor de parâmetros ø. Use essa função para produzir a porcentagem de\n",
    "acertos do seu classificador sobre o conjunto de treinamento."
   ]
  },
  {
   "cell_type": "code",
   "execution_count": null,
   "metadata": {
    "collapsed": true
   },
   "outputs": [],
   "source": [
    "def predizer(theta, X):\n",
    "    P = sigmoid(X.dot(theta))\n",
    "    return (P >= 0.5).astype(int)"
   ]
  },
  {
   "cell_type": "code",
   "execution_count": null,
   "metadata": {
    "collapsed": true
   },
   "outputs": [],
   "source": [
    "# Predição de Admissão do candidato\n",
    "A = np.array([1,45,85])\n",
    "H = sigmoid(A.dot(X_min))\n",
    "\n",
    "# Efetuando predição p/ Admissão de um candidato com notas 45 e 85 na primeira e segunda avaliações \n",
    "print('\\t ######################################  ALUNO TESTE  #################################\\n')\n",
    "print('\\t Para as notas 45 e 85 no 1º e 2º Exame prevê a probabilidade de admissão de %f' % H)\n",
    "print('\\t ######################################################################################\\n')"
   ]
  },
  {
   "cell_type": "markdown",
   "metadata": {},
   "source": [
    "## 2 - L2 Regularization\n",
    "\n",
    "The standard way to avoid overfitting is called **L2 regularization**. It consists of appropriately modifying your cost function, from:\n",
    "$$J = -\\frac{1}{m} \\sum\\limits_{i = 1}^{m} \\large{(}\\small  y^{(i)}\\log\\left(a^{[L](i)}\\right) + (1-y^{(i)})\\log\\left(1- a^{[L](i)}\\right) \\large{)} \\tag{1}$$\n",
    "To:\n",
    "$$J_{regularized} = \\small \\underbrace{-\\frac{1}{m} \\sum\\limits_{i = 1}^{m} \\large{(}\\small y^{(i)}\\log\\left(a^{[L](i)}\\right) + (1-y^{(i)})\\log\\left(1- a^{[L](i)}\\right) \\large{)} }_\\text{cross-entropy cost} + \\underbrace{\\frac{1}{m} \\frac{\\lambda}{2} \\sum\\limits_l\\sum\\limits_k\\sum\\limits_j W_{k,j}^{[l]2} }_\\text{L2 regularization cost} \\tag{2}$$\n",
    "\n",
    "Let's modify your cost and observe the consequences.\n",
    "\n",
    "**Exercise**: Implement `compute_cost_with_regularization()` which computes the cost given by formula (2). To calculate $\\sum\\limits_k\\sum\\limits_j W_{k,j}^{[l]2}$  , use :\n",
    "```python\n",
    "np.sum(np.square(Wl))\n",
    "```\n",
    "Note that you have to do this for $W^{[1]}$, $W^{[2]}$ and $W^{[3]}$, then sum the three terms and multiply by $ \\frac{1}{m} \\frac{\\lambda}{2} $."
   ]
  },
  {
   "cell_type": "code",
   "execution_count": null,
   "metadata": {
    "collapsed": true
   },
   "outputs": [],
   "source": []
  },
  {
   "cell_type": "code",
   "execution_count": 6,
   "metadata": {
    "collapsed": true
   },
   "outputs": [],
   "source": [
    "import numpy as np\n",
    "\n",
    "# função de custo\n",
    "def loss_function(theta, X, y, Lambda):\n",
    "    \n",
    "    m = y.size\n",
    "    H = np.subtract(X,y)\n",
    "    J = 1/(2*m) * np.sum(H**2)\n",
    "    custo = J + (1/(2*m) * np.multiply(Lambda,np.sum(theta**2)))\n",
    "    return custo\n",
    "\n",
    "def prints(self, epoch):\n",
    "    print(\"--epoca %s: \" % epoch)\n",
    "    print(\"loss: \", self.loss[epoch])\n",
    "    print(\"theta: \", self.theta_0.reshape(theta[0].shape[0]), self.theta_n.reshape(theta[1].shape[0]))\n",
    "\n",
    "def gradient_descent(self, epochs, X, Y, learning_rate, Lambda, m, print_results):\n",
    "    for i in xrange(epochs):\n",
    "        # calcula H\n",
    "        H = np.dot(self.theta_n.T, X) + self.theta_0\n",
    "\n",
    "        # calcula gradientes\n",
    "        gH = H - Y\n",
    "\n",
    "        gTheta_n = np.dot(X, gH.T)/m\n",
    "        gTheta_0 = np.sum(gH)/m\n",
    "\n",
    "        # calcula função de custo\n",
    "        loss = self.loss_function(Y, gH, Lambda, m)\n",
    "        self.loss.append(loss)\n",
    "\n",
    "        # atualiza pesos\n",
    "        self.theta_0 -= learning_rate*gTheta_0\n",
    "        self.theta_n = self.theta_n*(1-(learning_rate*Lambda/m)) - learning_rate*gTheta_n\n",
    "\n",
    "        if print_results:\n",
    "            self.prints(i)\n",
    "\n",
    "    # calcula função de custo final\n",
    "    # calcula H\n",
    "    H = np.dot(self.theta_n.T, X) + self.theta_0\n",
    "\n",
    "    # calcula gradientes\n",
    "    gH = H - Y\n",
    "    loss = self.loss_function(Y, gH, Lambda, m)\n",
    "    self.loss.append(loss)"
   ]
  },
  {
   "cell_type": "code",
   "execution_count": null,
   "metadata": {
    "collapsed": true
   },
   "outputs": [],
   "source": []
  }
 ],
 "metadata": {
  "kernelspec": {
   "display_name": "Python 3",
   "language": "python",
   "name": "python3"
  },
  "language_info": {
   "codemirror_mode": {
    "name": "ipython",
    "version": 3
   },
   "file_extension": ".py",
   "mimetype": "text/x-python",
   "name": "python",
   "nbconvert_exporter": "python",
   "pygments_lexer": "ipython3",
   "version": "3.6.1"
  }
 },
 "nbformat": 4,
 "nbformat_minor": 2
}
