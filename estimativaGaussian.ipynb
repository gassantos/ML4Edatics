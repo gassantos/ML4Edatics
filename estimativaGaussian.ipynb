{
 "cells": [
  {
   "cell_type": "code",
   "execution_count": 1,
   "metadata": {
    "collapsed": true
   },
   "outputs": [],
   "source": [
    "import numpy as np"
   ]
  },
  {
   "cell_type": "code",
   "execution_count": null,
   "metadata": {
    "collapsed": true
   },
   "outputs": [],
   "source": [
    "def estimativaGaussian(X):  \n",
    "    '''\n",
    "    Esta função calcula a média e a variância de todos elementos, dado um vetor.\n",
    "    Parâmetro (X): uma matriz de dados X. \n",
    "    Retorna (Mu, Sigma):\n",
    "        Mu é um vetor de dimensão N que contém a média de todas as características N. \n",
    "        Sigma é um vetor de dimensão N com as variâncias de todas as características.\n",
    "    '''\n",
    "    mu = X.mean(axis=0)\n",
    "    sigma = X.var(axis=0)\n",
    "    \n",
    "    return mu, sigma"
   ]
  }
 ],
 "metadata": {
  "kernelspec": {
   "display_name": "Python 3",
   "language": "python",
   "name": "python3"
  },
  "language_info": {
   "codemirror_mode": {
    "name": "ipython",
    "version": 3
   },
   "file_extension": ".py",
   "mimetype": "text/x-python",
   "name": "python",
   "nbconvert_exporter": "python",
   "pygments_lexer": "ipython3",
   "version": "3.6.1"
  }
 },
 "nbformat": 4,
 "nbformat_minor": 2
}
