{
 "cells": [
  {
   "cell_type": "code",
   "execution_count": 1,
   "metadata": {
    "collapsed": true
   },
   "outputs": [],
   "source": [
    "import numpy as np"
   ]
  },
  {
   "cell_type": "code",
   "execution_count": 2,
   "metadata": {
    "collapsed": true
   },
   "outputs": [],
   "source": [
    "def polyFeatures(X, p):\n",
    "    '''\n",
    "    Função que mapeie o conjunto de treinamento X de tamanho M x 1 em n-ésima potência.\n",
    "    '''\n",
    "\n",
    "    X_poly = X\n",
    "    if p >= 2:\n",
    "        for k in range(1,p):\n",
    "            X_poly = np.column_stack((X_poly, np.power(X,k+1)))\n",
    "            \n",
    "    return X_poly"
   ]
  },
  {
   "cell_type": "code",
   "execution_count": 3,
   "metadata": {
    "collapsed": true
   },
   "outputs": [],
   "source": [
    "def normalizaFeatures(X):\n",
    "    '''\n",
    "    Função que calcula a normalizada para cada elemento, dado um vetor. \n",
    "    '''\n",
    "    \n",
    "    mu = np.mean(X, axis=0)\n",
    "    X_norm = X - mu\n",
    "\n",
    "    sigma = np.std(X_norm, axis=0)\n",
    "    X_norm = X_norm/sigma\n",
    "\n",
    "    return X_norm, mu, sigma"
   ]
  }
 ],
 "metadata": {
  "kernelspec": {
   "display_name": "Python 3",
   "language": "python",
   "name": "python3"
  },
  "language_info": {
   "codemirror_mode": {
    "name": "ipython",
    "version": 3
   },
   "file_extension": ".py",
   "mimetype": "text/x-python",
   "name": "python",
   "nbconvert_exporter": "python",
   "pygments_lexer": "ipython3",
   "version": "3.6.1"
  }
 },
 "nbformat": 4,
 "nbformat_minor": 2
}
