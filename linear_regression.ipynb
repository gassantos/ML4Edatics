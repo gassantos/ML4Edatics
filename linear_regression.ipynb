{
 "cells": [
  {
   "cell_type": "markdown",
   "metadata": {},
   "source": [
    "# 1. Regressão Linear com uma Variável\n",
    "\n",
    "Nessa parte do trabalho, você irá implementar a regressão linear para predizer o lucro para \n",
    "uma cadeia de food truck. Essa cadeia já possui diversos aliais em diferentes cidades. \n",
    "Você possui dados dos lucro e população para cada uma dessas cidades.\n",
    "\n",
    "## 1.1 Visualização dos Dados\n",
    "\n",
    "Implemente um script em Python que produza um gráfico de dispersão (scatter plot) dos dados fornecidos. \n",
    "Após finalizado, seu script deve produzir um resultado similar ao apresentado na Figura abaixo:\n",
    "\n",
    "![ScatterPlot](Scatter_plot.png)\n"
   ]
  },
  {
   "cell_type": "code",
   "execution_count": 58,
   "metadata": {
    "collapsed": true
   },
   "outputs": [],
   "source": [
    "# 1.1) Visualização de Dados através do Gráfico de Dispersão\n",
    "\n",
    "from IPython.display import Math\n",
    "import pandas as pd\n",
    "import numpy as np\n",
    "from matplotlib.pyplot import *\n",
    "\n",
    "%matplotlib inline"
   ]
  },
  {
   "cell_type": "code",
   "execution_count": 59,
   "metadata": {},
   "outputs": [
    {
     "data": {
      "text/html": [
       "<div>\n",
       "<style>\n",
       "    .dataframe thead tr:only-child th {\n",
       "        text-align: right;\n",
       "    }\n",
       "\n",
       "    .dataframe thead th {\n",
       "        text-align: left;\n",
       "    }\n",
       "\n",
       "    .dataframe tbody tr th {\n",
       "        vertical-align: top;\n",
       "    }\n",
       "</style>\n",
       "<table border=\"1\" class=\"dataframe\">\n",
       "  <thead>\n",
       "    <tr style=\"text-align: right;\">\n",
       "      <th></th>\n",
       "      <th>Populacao</th>\n",
       "      <th>Lucro</th>\n",
       "    </tr>\n",
       "  </thead>\n",
       "  <tbody>\n",
       "    <tr>\n",
       "      <th>0</th>\n",
       "      <td>6.1101</td>\n",
       "      <td>17.59200</td>\n",
       "    </tr>\n",
       "    <tr>\n",
       "      <th>1</th>\n",
       "      <td>5.5277</td>\n",
       "      <td>9.13020</td>\n",
       "    </tr>\n",
       "    <tr>\n",
       "      <th>2</th>\n",
       "      <td>8.5186</td>\n",
       "      <td>13.66200</td>\n",
       "    </tr>\n",
       "    <tr>\n",
       "      <th>3</th>\n",
       "      <td>7.0032</td>\n",
       "      <td>11.85400</td>\n",
       "    </tr>\n",
       "    <tr>\n",
       "      <th>4</th>\n",
       "      <td>5.8598</td>\n",
       "      <td>6.82330</td>\n",
       "    </tr>\n",
       "    <tr>\n",
       "      <th>5</th>\n",
       "      <td>8.3829</td>\n",
       "      <td>11.88600</td>\n",
       "    </tr>\n",
       "    <tr>\n",
       "      <th>6</th>\n",
       "      <td>7.4764</td>\n",
       "      <td>4.34830</td>\n",
       "    </tr>\n",
       "    <tr>\n",
       "      <th>7</th>\n",
       "      <td>8.5781</td>\n",
       "      <td>12.00000</td>\n",
       "    </tr>\n",
       "    <tr>\n",
       "      <th>8</th>\n",
       "      <td>6.4862</td>\n",
       "      <td>6.59870</td>\n",
       "    </tr>\n",
       "    <tr>\n",
       "      <th>9</th>\n",
       "      <td>5.0546</td>\n",
       "      <td>3.81660</td>\n",
       "    </tr>\n",
       "    <tr>\n",
       "      <th>10</th>\n",
       "      <td>5.7107</td>\n",
       "      <td>3.25220</td>\n",
       "    </tr>\n",
       "    <tr>\n",
       "      <th>11</th>\n",
       "      <td>14.1640</td>\n",
       "      <td>15.50500</td>\n",
       "    </tr>\n",
       "    <tr>\n",
       "      <th>12</th>\n",
       "      <td>5.7340</td>\n",
       "      <td>3.15510</td>\n",
       "    </tr>\n",
       "    <tr>\n",
       "      <th>13</th>\n",
       "      <td>8.4084</td>\n",
       "      <td>7.22580</td>\n",
       "    </tr>\n",
       "    <tr>\n",
       "      <th>14</th>\n",
       "      <td>5.6407</td>\n",
       "      <td>0.71618</td>\n",
       "    </tr>\n",
       "    <tr>\n",
       "      <th>15</th>\n",
       "      <td>5.3794</td>\n",
       "      <td>3.51290</td>\n",
       "    </tr>\n",
       "    <tr>\n",
       "      <th>16</th>\n",
       "      <td>6.3654</td>\n",
       "      <td>5.30480</td>\n",
       "    </tr>\n",
       "    <tr>\n",
       "      <th>17</th>\n",
       "      <td>5.1301</td>\n",
       "      <td>0.56077</td>\n",
       "    </tr>\n",
       "    <tr>\n",
       "      <th>18</th>\n",
       "      <td>6.4296</td>\n",
       "      <td>3.65180</td>\n",
       "    </tr>\n",
       "    <tr>\n",
       "      <th>19</th>\n",
       "      <td>7.0708</td>\n",
       "      <td>5.38930</td>\n",
       "    </tr>\n",
       "  </tbody>\n",
       "</table>\n",
       "</div>"
      ],
      "text/plain": [
       "    Populacao     Lucro\n",
       "0      6.1101  17.59200\n",
       "1      5.5277   9.13020\n",
       "2      8.5186  13.66200\n",
       "3      7.0032  11.85400\n",
       "4      5.8598   6.82330\n",
       "5      8.3829  11.88600\n",
       "6      7.4764   4.34830\n",
       "7      8.5781  12.00000\n",
       "8      6.4862   6.59870\n",
       "9      5.0546   3.81660\n",
       "10     5.7107   3.25220\n",
       "11    14.1640  15.50500\n",
       "12     5.7340   3.15510\n",
       "13     8.4084   7.22580\n",
       "14     5.6407   0.71618\n",
       "15     5.3794   3.51290\n",
       "16     6.3654   5.30480\n",
       "17     5.1301   0.56077\n",
       "18     6.4296   3.65180\n",
       "19     7.0708   5.38930"
      ]
     },
     "execution_count": 59,
     "metadata": {},
     "output_type": "execute_result"
    }
   ],
   "source": [
    "df = pd.read_csv('am-T1-dados/ex1data1.txt', names=['Populacao', 'Lucro'])\n",
    "df.head(20)"
   ]
  },
  {
   "cell_type": "code",
   "execution_count": 60,
   "metadata": {},
   "outputs": [
    {
     "data": {
      "image/png": "[encoded data removed]",
      "text/plain": [
       "<matplotlib.figure.Figure at 0x1198d9908>"
      ]
     },
     "metadata": {},
     "output_type": "display_data"
    }
   ],
   "source": [
    "scatter(df.Populacao, df.Lucro, s=30, c='red', marker='x');"
   ]
  },
  {
   "cell_type": "markdown",
   "metadata": {},
   "source": [
    "# 1.2 Gradiente Descendente\n",
    "\n",
    "Nessa parte, sua tarefa é determinar os parâmetros do modelo de regressão linear por meio do algorítmo Gradiente Descendente. Use a versão \"**_Batch Gradient_**\" descendente desse algoritmo. Inicie os parâmetros todos com o valor 0 (zero). Além disso, use o valor 0.01 para a taxa de aprendizado. \n",
    "\n",
    "### Crie uma função em Python denominada **computarCusto**. \n",
    "\n",
    "- Essa função deve ser definida no arquivo *computarCusto.py*; \n",
    "\n",
    "- Após implementar essa função, você pode verificar a corretude executando com todos os parâmetros iguais a zero. Nessa situação, sua função deve gera um valor igual a 32.07;\n",
    "\n",
    "- Após implementar o cálculo da função de custo *J*, você deve implementar o GD propriamente dito. Sua implementação do algoritmo gradiente descendente deve ser feita em um arquivo de nome *gduni.py*;\n",
    "\n",
    "Essa implementação deve chamar a função **computarCusto** de forma apropriada. Presumindo que você implementou o GD e o cálculo da função de custo corretamente, os valores sucessivos do gradiente nunca devem crescer. Além disso, o valor de *J* deve convergir no fim da execução do algoritmo.\n",
    "\n",
    "- Após implementar o GD, você devem implementar um script em Python para visualizar a reta correspondente aos parâmetros determinados pela execução de sua implementação.\n",
    "\n",
    "O resultado desse script deve ser similar ao apresentado na Figura abaixo:\n",
    "\n",
    "![Regressao](Regressao1.png)"
   ]
  },
  {
   "cell_type": "markdown",
   "metadata": {},
   "source": [
    "A última tarefa nessa parte do trabalho, você deve usar o modelo de regressão linear produzido pelo seu código \n",
    "para predizer o lucro em regiões com populações de 35.000 e 70.000 habitantes. Forneça no seu relatório o código\n",
    "(em Python) para isso, assim como os valores correspondentes do lucro para cada uma daquelas duas cidades."
   ]
  },
  {
   "cell_type": "code",
   "execution_count": null,
   "metadata": {
    "collapsed": true
   },
   "outputs": [],
   "source": []
  }
 ],
 "metadata": {
  "kernelspec": {
   "display_name": "Python 3",
   "language": "python",
   "name": "python3"
  },
  "language_info": {
   "codemirror_mode": {
    "name": "ipython",
    "version": 3
   },
   "file_extension": ".py",
   "mimetype": "text/x-python",
   "name": "python",
   "nbconvert_exporter": "python",
   "pygments_lexer": "ipython3",
   "version": "3.6.1"
  }
 },
 "nbformat": 4,
 "nbformat_minor": 2
}
