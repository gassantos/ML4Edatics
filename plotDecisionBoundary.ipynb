{
 "cells": [
  {
   "cell_type": "code",
   "execution_count": 4,
   "metadata": {
    "collapsed": true
   },
   "outputs": [],
   "source": [
    "import numpy as np\n",
    "from sklearn.preprocessing import PolynomialFeatures"
   ]
  },
  {
   "cell_type": "code",
   "execution_count": 5,
   "metadata": {
    "collapsed": true
   },
   "outputs": [],
   "source": [
    "def sigmoid(x):\n",
    "    '''\n",
    "    A função sigmoid\n",
    "    '''\n",
    "    g = np.array([x]).flatten()\n",
    "    s = 1 / (1 + np.exp(-x))\n",
    "    return s"
   ]
  },
  {
   "cell_type": "code",
   "execution_count": 6,
   "metadata": {
    "collapsed": true
   },
   "outputs": [],
   "source": [
    "def plotDecisionBoundary(data, grad, LAMBDA):\n",
    "    ''' \n",
    "    Função que deve esboçar um Gráfico de Dispersão com a sua Fronteira de Decisão.\n",
    "    '''\n",
    "    \n",
    "    X = data[:,0:2]\n",
    "    y = np.c_[data[:,2]]\n",
    "    #theta = np.zeros(X_feature.shape[1])\n",
    "    \n",
    "    X_poli = PolynomialFeatures(6)\n",
    "    X_fit = X_poli.fit_transform(X)\n",
    "    #FMIN = minFunction(theta, 1, X_fit, y)\n",
    "    \n",
    "    # Plot decisionboundary\n",
    "    X0_min, X0_max = X[:,0].min(), X[:,0].max()\n",
    "    X1_min, X1_max = X[:,1].min(), X[:,1].max()\n",
    "    X0, X1 = np.meshgrid(np.linspace(X0_min, X0_max), np.linspace(X1_min, X1_max))\n",
    "    \n",
    "    h = sigmoid(X_poli.fit_transform(np.c_[X0.ravel(), X1.ravel()]).dot(grad))\n",
    "    #h = sigmoid((np.c_[X0.ravel(), X1.ravel()]).dot(grad))\n",
    "    h = h.reshape(X0.shape)\n",
    "\n",
    "    # Scatter plot of X,y and Get indexes for class 0 and class 1\n",
    "    neg = data[:,2] == 0\n",
    "    pos = data[:,2] == 1\n",
    "\n",
    "    # If no specific axes object has been passed, get the current axes\n",
    "    plt.figure(figsize=(10,5))\n",
    "    plt.contour(X0, X1, h, [0.5], linewidths=3, colors='g', s=60, label='Decision boundary'); \n",
    "    plt.scatter(data[pos][:,0], data[pos][:,1], marker='+', c='k', s=60, linewidth=2, label='y=1')\n",
    "    plt.scatter(data[neg][:,0], data[neg][:,1], marker='o', c='y', s=60, linewidth=2, label='y=0')\n",
    "    plt.xlabel('Microchip Test 1')\n",
    "    plt.ylabel('Microchip Test 2')      \n",
    "    plt.title('Lambda = '+str(LAMBDA))\n",
    "    plt.legend(loc=1);"
   ]
  }
 ],
 "metadata": {
  "kernelspec": {
   "display_name": "Python 3",
   "language": "python",
   "name": "python3"
  },
  "language_info": {
   "codemirror_mode": {
    "name": "ipython",
    "version": 3
   },
   "file_extension": ".py",
   "mimetype": "text/x-python",
   "name": "python",
   "nbconvert_exporter": "python",
   "pygments_lexer": "ipython3",
   "version": "3.6.1"
  }
 },
 "nbformat": 4,
 "nbformat_minor": 2
}
