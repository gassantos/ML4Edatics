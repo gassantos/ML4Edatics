{
 "cells": [
  {
   "cell_type": "code",
   "execution_count": 3,
   "metadata": {
    "collapsed": true
   },
   "outputs": [],
   "source": [
    "import numpy as np"
   ]
  },
  {
   "cell_type": "code",
   "execution_count": 6,
   "metadata": {
    "collapsed": true
   },
   "outputs": [],
   "source": [
    "def cofiCostFunc(Theta, Y, R, Users, Movies, Features, Lambda):\n",
    "    '''\n",
    "    Função de custo, sem regularização, utilizada na Filtragem Colaborativa.\n",
    "    Retorna o valor de custo J.\n",
    "    '''\n",
    "    \n",
    "    MF = (Movies * Features)\n",
    "    UF = (Users * Features)\n",
    "    \n",
    "    # X_cofi é o Produto Escalar (nm x nf) com Theta\n",
    "    X_cofi = XTheta[:MF].reshape(Movies,Features)\n",
    "    \n",
    "    # Theta_cofi é o Produto Escalar (nu x nf) com Theta\n",
    "    Theta_cofi = XTheta[MF:].reshape(Users,Features)\n",
    "    Vetor_XTheta = X_cofi.dot(Theta_cofi.T)\n",
    "    \n",
    "    # Multiplica a Matriz (Vetor_XTheta) resultado com a Matriz R \n",
    "    Vetor_XTheta = np.multiply(Vetor_XTheta, R)\n",
    "    \n",
    "    # Calculando o custo sem regularização\n",
    "    J = (1/2) * np.sum( np.square(Vetor_XTheta - Y) )\n",
    "    \n",
    "    return J"
   ]
  },
  {
   "cell_type": "code",
   "execution_count": 7,
   "metadata": {
    "collapsed": true
   },
   "outputs": [],
   "source": [
    "def cofiGradient(Theta, Y, R, Users, Movies, Features, Lambda):\n",
    "    '''\n",
    "    Função de Gradiente, sem regularização, utilizada na Filtragem Colaborativa.\n",
    "    Retorna o valor de custo J.\n",
    "    '''\n",
    "    \n",
    "    MF = (Movies * Features)\n",
    "    UF = (Users * Features)\n",
    "    \n",
    "    # X_cofi é o Produto Escalar (Movies x Features) com Theta\n",
    "    X_cofi = XTheta[:MF].reshape(Movies,Features)\n",
    "    \n",
    "    # Theta_cofi é o Produto Escalar (Users x Features) com Theta\n",
    "    Theta_cofi = XTheta[MF:].reshape(Users,Features)\n",
    "\n",
    "    # Junção de X e Theta para obter Matriz XTtheta com shape de Y\n",
    "    Vetor_XTheta = X_cofi.dot(Theta_cofi.T)\n",
    "    \n",
    "    # Multiplica XTtheta por R para remover qualquer componente dos filmes que não foram classificados.\n",
    "    Vetor_XTheta = np.multiply(Vetor_XTheta, R)\n",
    "    \n",
    "    # Removendo Y da Matriz XTtheta pois já possui valor ZERO p/ filmes não classificados.\n",
    "    Vetor_XTheta = np.subtract(Vetor_XTheta, Y)\n",
    "    \n",
    "    # Unificando a Matrix XTtheta com Theta para ter o mesmo shape de X\n",
    "    X_grad = Vetor_XTheta.dot(Theta_cofi)\n",
    "    \n",
    "    # Unificando a Matrix XTtheta com X para ter o mesmo shape de Theta\n",
    "    Theta_grad = Vetor_XTheta.T.dot(X_cofi)\n",
    "    \n",
    "    # Retornando o gradiente sem regularização com X e Theta concatenados num único vetor.\n",
    "    grad = np.concatenate((X_grad.flatten(), Theta_grad.flatten()))\n",
    "    return grad"
   ]
  }
 ],
 "metadata": {
  "kernelspec": {
   "display_name": "Python 3",
   "language": "python",
   "name": "python3"
  },
  "language_info": {
   "codemirror_mode": {
    "name": "ipython",
    "version": 3
   },
   "file_extension": ".py",
   "mimetype": "text/x-python",
   "name": "python",
   "nbconvert_exporter": "python",
   "pygments_lexer": "ipython3",
   "version": "3.6.1"
  }
 },
 "nbformat": 4,
 "nbformat_minor": 2
}
